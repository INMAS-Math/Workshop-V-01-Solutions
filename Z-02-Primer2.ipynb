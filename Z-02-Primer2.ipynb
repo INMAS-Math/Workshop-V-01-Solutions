{
 "cells": [
  {
   "cell_type": "markdown",
   "metadata": {},
   "source": [
    "<img align=right src=\"images/inmas.png\" width=130x />\n",
    "\n",
    "# Solutions to Exercises 02 - Python Primer 2\n",
    "\n",
    "\n",
    "### Prerequisite\n",
    "Notebook 02"
   ]
  },
  {
   "cell_type": "markdown",
   "metadata": {},
   "source": [
    "### 1.\n",
    "\n",
    "Using a `for` loop, compute the sum of all the numbers from 7 to 147."
   ]
  },
  {
   "cell_type": "code",
   "execution_count": null,
   "metadata": {},
   "outputs": [],
   "source": []
  },
  {
   "cell_type": "markdown",
   "metadata": {},
   "source": [
    "---------------------------------\n",
    "<font face=\"verdana\" style=\"font-size:20px\" color=\"blue\"> Solution 1. </font>   \n"
   ]
  },
  {
   "cell_type": "code",
   "execution_count": null,
   "metadata": {},
   "outputs": [],
   "source": [
    "x = 0\n",
    "for i in range(7,148):\n",
    "    x += i\n",
    "\n",
    "print('Sum is', x)"
   ]
  },
  {
   "cell_type": "markdown",
   "metadata": {},
   "source": [
    "### 2.\n",
    "\n",
    "Using a `while` loop, print all odd numbers between 100 and 110."
   ]
  },
  {
   "cell_type": "code",
   "execution_count": null,
   "metadata": {},
   "outputs": [],
   "source": []
  },
  {
   "cell_type": "markdown",
   "metadata": {},
   "source": [
    "---------------------------------\n",
    "<font face=\"verdana\" style=\"font-size:20px\" color=\"blue\"> Solution 2. </font>   \n"
   ]
  },
  {
   "cell_type": "code",
   "execution_count": null,
   "metadata": {},
   "outputs": [],
   "source": [
    "x = 100\n",
    "while x <= 110:\n",
    "    if x % 2:\n",
    "        print(x, end=', ')\n",
    "    x += 1"
   ]
  },
  {
   "cell_type": "markdown",
   "metadata": {},
   "source": [
    "### 3.\n",
    "Given the following nested list of strings"
   ]
  },
  {
   "cell_type": "code",
   "execution_count": null,
   "metadata": {},
   "outputs": [],
   "source": [
    "nested = [['rock', 'paper', 'scissors'],\n",
    "          ['piedra', 'papel', 'tijeras'],\n",
    "          ['roche', 'papier', 'ciseaux']]"
   ]
  },
  {
   "cell_type": "markdown",
   "metadata": {},
   "source": [
    "Print `'paper, roche, tijeras'` by extracting the strings from the nested list."
   ]
  },
  {
   "cell_type": "markdown",
   "metadata": {},
   "source": [
    "---------------------------------\n",
    "<font face=\"verdana\" style=\"font-size:20px\" color=\"blue\"> Solution 3. </font>   \n"
   ]
  },
  {
   "cell_type": "code",
   "execution_count": null,
   "metadata": {},
   "outputs": [],
   "source": [
    "nested = [['rock', 'paper', 'scissors'],\n",
    "          ['piedra', 'papel', 'tijeras'],\n",
    "          ['roche', 'papier', 'ciseaux']]\n",
    "\n",
    "print(nested[0][1], nested[2][0], nested[1][2])"
   ]
  },
  {
   "cell_type": "markdown",
   "metadata": {},
   "source": [
    "### 4.\n",
    "This exercise can help understanding how upper/lower bounds are working in the range() function. The series generated are identical, just the order is different.\n",
    "\n",
    "Explain the discrepancy. Which loop is closer to \\$ \\pi^2/6 \\$?\n",
    "\n",
    "Which approach is better? Discuss with your peers."
   ]
  },
  {
   "cell_type": "code",
   "execution_count": null,
   "metadata": {},
   "outputs": [],
   "source": [
    "import math as m\n",
    "\n",
    "sum1, sum2 = 0., 0.\n",
    "for i in range(1, 10000001):\n",
    "    sum1 += 1./i**2\n",
    "\n",
    "for i in range(10000000, 0, -1):\n",
    "    sum2 += 1./i**2\n",
    "\n",
    "exact = m.pi**2/6\n",
    "\n",
    "print('Sum of infinite series is', exact)\n",
    "print('difference of sum1 is', exact - sum1)\n",
    "print('difference of sum2 is', exact - sum2)"
   ]
  },
  {
   "cell_type": "markdown",
   "metadata": {},
   "source": [
    "---------------------------------\n",
    "<font face=\"verdana\" style=\"font-size:20px\" color=\"blue\"> Solution 4. </font>   \n"
   ]
  },
  {
   "cell_type": "code",
   "execution_count": null,
   "metadata": {},
   "outputs": [],
   "source": [
    "import math as m\n",
    "\n",
    "sum1, sum2 = 0., 0.\n",
    "for i in range(1, 10000001):\n",
    "    sum1 += 1./i**2\n",
    "\n",
    "for i in range(10000000, 0, -1):\n",
    "    sum2 += 1./i**2\n",
    "\n",
    "exact = m.pi**2/6\n",
    "\n",
    "print('Sum of infinite series is', exact)\n",
    "print('difference of sum1 is', exact - sum1)\n",
    "print('difference of sum2 is', exact - sum2)"
   ]
  },
  {
   "cell_type": "markdown",
   "metadata": {},
   "source": [
    "Best precision is achieved with second loop, because we add small numbers to small numbers. First loop ends up adding small numbers to numbers of magnitude unity."
   ]
  },
  {
   "cell_type": "markdown",
   "metadata": {},
   "source": [
    "### 5.\n",
    "Modify the program below to test divisibility by 4. Enter a negative number to exxit loop."
   ]
  },
  {
   "cell_type": "code",
   "execution_count": null,
   "metadata": {},
   "outputs": [],
   "source": [
    "num = 1\n",
    "while num > 0:\n",
    "    num = int(input())\n",
    "    if num%2 == 0:\n",
    "        if num%3 == 0:\n",
    "            print(num, \"is divisible by 2 and 3\")\n",
    "        else:\n",
    "            print(num, \"is divisible by 2\")\n",
    "    else:\n",
    "        if num%3 == 0:\n",
    "            print(num, \"is divisible by 3\")\n",
    "        else:\n",
    "            print (num, \"is not divisible by 2 nor 3\")"
   ]
  },
  {
   "cell_type": "markdown",
   "metadata": {},
   "source": [
    "---------------------------------\n",
    "<font face=\"verdana\" style=\"font-size:20px\" color=\"blue\"> Solution 5. </font>   \n"
   ]
  },
  {
   "cell_type": "code",
   "execution_count": null,
   "metadata": {},
   "outputs": [],
   "source": [
    "num = 1\n",
    "while num > 0:\n",
    "    num = int(input())\n",
    "    if num%2 == 0:\n",
    "        if num%3 == 0 and num%4 == 0:\n",
    "            print(num, \"is divisible by 2, 3, and 4\")\n",
    "        elif num%3 == 0:\n",
    "            print(num, \"is divisible by 2 and 3\")\n",
    "        elif num%4 == 0:\n",
    "            print(num, \"is divisible by 2 and 4\")\n",
    "        else:\n",
    "            print(num, \"is divisible by 2\")\n",
    "    else:\n",
    "        if num%3 == 0 and num%4 == 0:\n",
    "            print(num, \"is divisible by 3 and 4\")\n",
    "        if num%3 == 0:\n",
    "            print(num, \"is divisible by 3\")\n",
    "        elif num%4 == 0:\n",
    "            print(num, \"is divisible by 4\")\n",
    "        else:\n",
    "            print(num, \"is not divisible by 2 nor 3, nor 4\")"
   ]
  },
  {
   "cell_type": "markdown",
   "metadata": {},
   "source": [
    "### 6.\n",
    "Sometimes we need to loop over multiple lists of equal length at once. The `zip()` built-in function can provide a tuple of one element from each list. Here is an example:"
   ]
  },
  {
   "cell_type": "code",
   "execution_count": null,
   "metadata": {},
   "outputs": [],
   "source": [
    "names = [\"Ann\",\"Bob\",\"Charles\",\"Debbie\"]\n",
    "favorite_fruit = [\"Apple\",\"Banana\",\"Cherrie\",\"Date\"]\n",
    "for name, fruit in zip(names, favorite_fruit):\n",
    "    print(name,\":\", fruit)"
   ]
  },
  {
   "cell_type": "markdown",
   "metadata": {},
   "source": [
    "In a much feared math class, letter grades will be assigned according to the percentage:\n",
    "- 100.00 % - 98.00 % → A+ \n",
    "- 97.99 % - 93.00 % → A \n",
    "- 92.99% - 90.00% → A- \n",
    "- 89.99 % -87.00 % → B+ \n",
    "- 86.99 % - 83.00 % → B \n",
    "- 82.99 % - 80.00 % → B- \n",
    "- 79.99 % - 70.00 % → C\n",
    "- 69.99 % and below → F\n",
    "\n",
    "Use a for loop and `if-elif-else` and determine the letter grades for the following list of percent grades. \n",
    "- Print out the name of their student and their letter grade, e.g. \"Adam received a B+\". \n",
    "- To keep it short, for grades lower than B-, just print that student didn't do so well..."
   ]
  },
  {
   "cell_type": "code",
   "execution_count": null,
   "metadata": {},
   "outputs": [],
   "source": [
    "students = [\"Connor\", \"Robert\", \"Adam\", \"Joshua\", \"Lucas\", \"Candice\", \"Christian\", \"Andrew\",\n",
    "            \"Mya\", \"Lexi\", \"Logan\", \"Mary\", \"Kelsey\", \"Gwyneth\", \"Kendal\", \"Ellora\", \"Cameron\",\n",
    "            \"Lindsay\", \"Saahil\", \"Andrea\", \"Kylie\", \"Allison\", \"Rachel\", \"Ariana\", \"Sean\",\n",
    "            \"Kristy\", \"Lauren\", \"Jacob\", \"Brianna\", \"Michael\", \"Alexandria\", \"Samuel\", \"Brandon\",\n",
    "            \"Dalton\", \"Jachob\", \"Terrance\", \"Benjamin\", \"Alexander\", \"Dylan\",  \"Paige\", \"Brennen\",\n",
    "            \"Christopher\", \"Ben\", \"Mary\", \"Amy\", \"Sarah\", \"Ellie\", \"Mickey\", \"Mike\", \"Laura\"]\n",
    "grades = [90.42, 57.47, 93.07, 66.74, 80.30, 88.19, 65.57, 96.99, 64.18, 66.96, 17.94, 99.91,\n",
    "          62.16, 90.78, 91.41, 93.31, 90.35, 77.09, 90.39, 87.24, 81.81, 72.27, 88.82, 75.12,\n",
    "          85.47, 78.43, 85.18, 87.18, 96.91, 88.23, 76.28, 10.67, 83.44, 69.61, 78.32, 82.27,\n",
    "          75.44, 93.22, 63.82, 79.68, 91.04, 84.05, 82.46, 87.13, 98.09, 70.44, 89.26, 68.86,\n",
    "          77.35, 52.16]"
   ]
  },
  {
   "cell_type": "code",
   "execution_count": null,
   "metadata": {},
   "outputs": [],
   "source": []
  },
  {
   "cell_type": "markdown",
   "metadata": {},
   "source": [
    "---------------------------------\n",
    "<font face=\"verdana\" style=\"font-size:20px\" color=\"blue\"> Solution 6. </font>   \n"
   ]
  },
  {
   "cell_type": "code",
   "execution_count": null,
   "metadata": {},
   "outputs": [],
   "source": [
    "students = [\"Connor\", \"Robert\", \"Adam\", \"Joshua\", \"Lucas\", \"Candice\", \"Christian\", \"Andrew\",\n",
    "            \"Mya\", \"Lexi\", \"Logan\", \"Mary\", \"Kelsey\", \"Gwyneth\", \"Kendal\", \"Ellora\", \"Cameron\",\n",
    "            \"Lindsay\", \"Saahil\", \"Andrea\", \"Kylie\", \"Allison\", \"Rachel\", \"Ariana\", \"Sean\",\n",
    "            \"Kristy\", \"Lauren\", \"Jacob\", \"Brianna\", \"Michael\", \"Alexandria\", \"Samuel\", \"Brandon\",\n",
    "            \"Dalton\", \"Jachob\", \"Terrance\", \"Benjamin\", \"Alexander\", \"Dylan\",  \"Paige\", \"Brennen\",\n",
    "            \"Christopher\", \"Ben\", \"Mary\", \"Amy\", \"Sarah\", \"Ellie\", \"Mickey\", \"Mike\", \"Laura\"]\n",
    "grades = [90.42, 57.47, 93.07, 66.74, 80.30, 88.19, 65.57, 96.99, 64.18, 66.96, 17.94, 99.91,\n",
    "          62.16, 90.78, 91.41, 93.31, 90.35, 77.09, 90.39, 87.24, 81.81, 72.27, 88.82, 75.12,\n",
    "          85.47, 78.43, 85.18, 87.18, 96.91, 88.23, 76.28, 10.67, 83.44, 69.61, 78.32, 82.27,\n",
    "          75.44, 93.22, 63.82, 79.68, 91.04, 84.05, 82.46, 87.13, 98.09, 70.44, 89.26, 68.86,\n",
    "          77.35, 52.16]\n",
    "\n",
    "print(len(students) == len(grades))\n",
    "for grade, name in zip(grades, students):\n",
    "    if grade > 98.:\n",
    "        print(name, 'received an A+')\n",
    "    elif grade > 93.:\n",
    "        print(name, 'received an A')\n",
    "    elif grade > 90.:\n",
    "        print(name, 'received an A-')\n",
    "    elif grade > 87.:\n",
    "        print(name, 'received an B+')\n",
    "    elif grade > 83.:\n",
    "        print(name, 'received an B')\n",
    "    elif grade > 80.:\n",
    "        print(name, 'received an B-')\n",
    "    else:\n",
    "        print(name, 'did not do so well')        "
   ]
  },
  {
   "cell_type": "markdown",
   "metadata": {},
   "source": [
    "### 7.\n",
    "Using `if` or `for` only, \n",
    "1. Find the maximum and minimum of [22, 1, 3, 4, 7, 98, 21, 55, 87, 99, 19, 20, 45]. \n",
    "2. Evaluate the average of the list above. "
   ]
  },
  {
   "cell_type": "code",
   "execution_count": null,
   "metadata": {},
   "outputs": [],
   "source": [
    "numList = [22, 1, 3, 4, 7, 98, 21, 55, 87, 99, 19, 20, 45]"
   ]
  },
  {
   "cell_type": "markdown",
   "metadata": {},
   "source": [
    "---------------------------------\n",
    "<font face=\"verdana\" style=\"font-size:20px\" color=\"blue\"> Solution 7. </font>   \n"
   ]
  },
  {
   "cell_type": "code",
   "execution_count": null,
   "metadata": {},
   "outputs": [],
   "source": [
    "numList = [22, 1, 3, 4, 7, 98, 21, 55, 87, 99, 19, 20, 45]\n",
    "minx = numList[0]\n",
    "maxx = minx\n",
    "sumx = 0\n",
    "count = 1\n",
    "for x in numList[1:]:\n",
    "    sumx += x\n",
    "    count += 1\n",
    "    if x > maxx:\n",
    "        maxx = x\n",
    "    if x < minx:\n",
    "        minx = x\n",
    "\n",
    "print('min is', minx, 'and max is', maxx)\n",
    "print('Average is', sumx/count)"
   ]
  },
  {
   "cell_type": "markdown",
   "metadata": {},
   "source": [
    "### 8.\n",
    "Write a program that  checks whether an integer is a prime number or not."
   ]
  },
  {
   "cell_type": "code",
   "execution_count": null,
   "metadata": {},
   "outputs": [],
   "source": []
  },
  {
   "cell_type": "markdown",
   "metadata": {},
   "source": [
    "---------------------------------\n",
    "<font face=\"verdana\" style=\"font-size:20px\" color=\"blue\"> Solution 8. </font>   \n"
   ]
  },
  {
   "cell_type": "code",
   "execution_count": null,
   "metadata": {},
   "outputs": [],
   "source": [
    "myint = 127\n",
    "\n",
    "for x in range(2, myint-1):\n",
    "    if myint % x == 0:\n",
    "        break\n",
    "else:\n",
    "    print('Integer', myint, 'is prime')"
   ]
  },
  {
   "cell_type": "markdown",
   "metadata": {},
   "source": [
    "### 9.\n",
    "Find the first 6-digit number that is divisible by 157."
   ]
  },
  {
   "cell_type": "code",
   "execution_count": null,
   "metadata": {},
   "outputs": [],
   "source": []
  },
  {
   "cell_type": "markdown",
   "metadata": {},
   "source": [
    "---------------------------------\n",
    "<font face=\"verdana\" style=\"font-size:20px\" color=\"blue\"> Solution 9. </font>   \n"
   ]
  },
  {
   "cell_type": "code",
   "execution_count": null,
   "metadata": {},
   "outputs": [],
   "source": [
    "numb = 100000\n",
    "while True:\n",
    "    if numb % 157 == 0:\n",
    "        print('Number', numb, 'is divisible by 157')\n",
    "        break\n",
    "    numb += 1"
   ]
  },
  {
   "cell_type": "markdown",
   "metadata": {},
   "source": [
    "### 10.\n",
    "In one line of code, create a list of numbers \\$x^y\\$ for \\$ x \\in \\\\{1,2, ..., 10\\\\} \\$ and \\$ y \\in \\\\{2, 3, 6, 7, 8 \\\\}\\$ only if \\$ x + y \\$ is even."
   ]
  },
  {
   "cell_type": "code",
   "execution_count": null,
   "metadata": {},
   "outputs": [],
   "source": []
  },
  {
   "cell_type": "markdown",
   "metadata": {},
   "source": [
    "---------------------------------\n",
    "<font face=\"verdana\" style=\"font-size:20px\" color=\"blue\"> Solution 10. </font>   \n"
   ]
  },
  {
   "cell_type": "code",
   "execution_count": null,
   "metadata": {},
   "outputs": [],
   "source": [
    "myList = [x**y for x in range(1, 11) for y in [2, 3, 6, 7, 8] if (x + y) % 2 == 0]\n",
    "print(myList)"
   ]
  },
  {
   "cell_type": "markdown",
   "metadata": {},
   "source": [
    "### 11.\n",
    "Use list methods to do the following with the list below.\n",
    "\n",
    "- Create a blank list called `served_customers` and move the first six customers of `waiting_customers` to this list. (Hint: use `list.pop()`.)\n",
    "- Flip the order of `served_customers` so that the most recently served customer is at the front of the list.\n",
    "- Report the number of customers served and customers waiting.\n",
    "- Allow Ana Lloyd to cut in line and be served next.\n",
    "- Alphabetize the remaining waiting customers by first name."
   ]
  },
  {
   "cell_type": "code",
   "execution_count": null,
   "metadata": {},
   "outputs": [],
   "source": [
    "waiting_customers=['Chance Maxwell', 'Ray Rawlings', 'Omer Hollis', 'Ava-Rose O\\'Gallagher',\n",
    "                   'Jocelyn Green', 'Sammy John', 'Stevie Mcfarland', 'Romany Goff',\n",
    "                   'Edmund Downes', 'Umayr Sykes', 'Bret Oliver','Katy Chung', 'Ana Lloyd',\n",
    "                   'Ricardo Sullivan', 'Daryl Shepard']"
   ]
  },
  {
   "cell_type": "markdown",
   "metadata": {},
   "source": [
    "---------------------------------\n",
    "<font face=\"verdana\" style=\"font-size:20px\" color=\"blue\"> Solution 11. </font>   \n"
   ]
  },
  {
   "cell_type": "code",
   "execution_count": null,
   "metadata": {},
   "outputs": [],
   "source": [
    "waiting_customers=['Chance Maxwell', 'Ray Rawlings', 'Omer Hollis', 'Ava-Rose O\\'Gallagher',\n",
    "                   'Jocelyn Green', 'Sammy John', 'Stevie Mcfarland', 'Romany Goff',\n",
    "                   'Edmund Downes', 'Umayr Sykes', 'Bret Oliver','Katy Chung', 'Ana Lloyd',\n",
    "                   'Ricardo Sullivan', 'Daryl Shepard']\n",
    "\n",
    "served_customers = []\n",
    "for i in range(6):\n",
    "    served_customers.append(waiting_customers.pop(0))\n",
    "    \n",
    "print('Served customers:', served_customers)\n",
    "print('Waiting customers:', waiting_customers)\n",
    "\n",
    "served_customers.reverse()\n",
    "print('Reverse Served customers:', served_customers)\n",
    "\n",
    "print('Number of served customers:', len(served_customers))\n",
    "print('Number of waiting customers:', len(waiting_customers))\n",
    "\n",
    "served_customers.append(waiting_customers.pop(6))\n",
    "print('Served customers:', served_customers)\n",
    "print('Waiting customers:', waiting_customers)\n",
    "print('Number of served customers:', len(served_customers))\n",
    "print('Number of waiting customers:', len(waiting_customers))\n",
    "\n",
    "waiting_customers.sort()\n",
    "print('Waiting customers (sorted):', waiting_customers)"
   ]
  },
  {
   "cell_type": "markdown",
   "metadata": {},
   "source": [
    "### 12.\n",
    "\n",
    "There are pairs of integers $x$, $y$ such that $x^2 + y^2 = 223065$. Use `for` or `while` loops to find them!"
   ]
  },
  {
   "cell_type": "code",
   "execution_count": null,
   "metadata": {},
   "outputs": [],
   "source": []
  },
  {
   "cell_type": "markdown",
   "metadata": {},
   "source": [
    "---------------------------------\n",
    "<font face=\"verdana\" style=\"font-size:20px\" color=\"blue\"> Solution 12. </font>   \n"
   ]
  },
  {
   "cell_type": "code",
   "execution_count": null,
   "metadata": {},
   "outputs": [],
   "source": [
    "for x in range(1, 1000):\n",
    "    for y in range(x, 1000):\n",
    "        if x*x + y*y == 223065:\n",
    "            print('%d^2 + %d^2 = 223065'%(x, y))\n",
    "            break"
   ]
  },
  {
   "cell_type": "markdown",
   "metadata": {},
   "source": [
    "### 13.\n",
    "\n",
    "Define $W_0 = 2$ and $W_n = W_{n-1}^{W_{n-1}}$ for all integers $n \\geq 1$. Use a while loop to find the smallest \\$ n\\$ such that $W_n > 1030$. Run your loop again but starting $W_0$ as a float instead of an integer."
   ]
  },
  {
   "cell_type": "code",
   "execution_count": null,
   "metadata": {},
   "outputs": [],
   "source": []
  },
  {
   "cell_type": "markdown",
   "metadata": {},
   "source": [
    "---------------------------------\n",
    "<font face=\"verdana\" style=\"font-size:20px\" color=\"blue\"> Solution 13. </font>   \n"
   ]
  },
  {
   "cell_type": "code",
   "execution_count": null,
   "metadata": {},
   "outputs": [],
   "source": [
    "n = 0\n",
    "wn = 2\n",
    "while wn < 1030:\n",
    "    n += 1\n",
    "    wn = wn**wn\n",
    "    print('For n = %d, Wn = %d.'%(n, wn))"
   ]
  },
  {
   "cell_type": "markdown",
   "metadata": {},
   "source": [
    "### 14.\n",
    "\n",
    "Create a list of length $10$ where entry $i$ has value $0^2 + 1^2 + 2^2 + \\ldots + i^2$ (without using the formula for that if you happen to know it). Can you do it with only one for loop?\n",
    "\n"
   ]
  },
  {
   "cell_type": "code",
   "execution_count": null,
   "metadata": {},
   "outputs": [],
   "source": []
  },
  {
   "cell_type": "markdown",
   "metadata": {},
   "source": [
    "---------------------------------\n",
    "<font face=\"verdana\" style=\"font-size:20px\" color=\"blue\"> Solution 14. </font>   \n"
   ]
  },
  {
   "cell_type": "code",
   "execution_count": null,
   "metadata": {},
   "outputs": [],
   "source": [
    "mylist = [0]\n",
    "for i in range(1, 10):\n",
    "    mylist.append(mylist[i-1] + i*i)\n",
    "\n",
    "print('List is: ', mylist)\n",
    "\n",
    "# Another approach is to use a list comprehension\n",
    "[sum([i**2 for i in range(1, n+1)]) for n in range(0, 10)]"
   ]
  },
  {
   "cell_type": "markdown",
   "metadata": {},
   "source": [
    "### 15.\n",
    "\n",
    "Set $n=100$ and create two nested `for` loops iterating `i` and `j` through `range(n)`. Can you find a way to exit **both** `for` loops when `i=49` and `j=76`? So after you run it, `i` should have value $49$ and `j` should have value $76$."
   ]
  },
  {
   "cell_type": "code",
   "execution_count": null,
   "metadata": {},
   "outputs": [],
   "source": []
  },
  {
   "cell_type": "markdown",
   "metadata": {},
   "source": [
    "---------------------------------\n",
    "<font face=\"verdana\" style=\"font-size:20px\" color=\"blue\"> Solution 15. </font>   \n"
   ]
  },
  {
   "cell_type": "code",
   "execution_count": null,
   "metadata": {},
   "outputs": [],
   "source": [
    "for i in range(100):\n",
    "    if i == 49:\n",
    "        break\n",
    "    for j in range(100):\n",
    "        if j == 76:\n",
    "            break\n",
    "\n",
    "print('i = %d  and j = %d'%(i, j))"
   ]
  },
  {
   "cell_type": "markdown",
   "metadata": {},
   "source": [
    "### 16.\n",
    "\n",
    "Set `A` to be a list of numbers of your choice. Set `B` equals to `A`. Use `for` loops to set each entry in `B` equal to itself plus all the 'later entries' (entries corresponding to a larger index) in `B`. After doing that (to `B` only), what is the value of `A`?"
   ]
  },
  {
   "cell_type": "code",
   "execution_count": null,
   "metadata": {},
   "outputs": [],
   "source": []
  },
  {
   "cell_type": "markdown",
   "metadata": {},
   "source": [
    "---------------------------------\n",
    "<font face=\"verdana\" style=\"font-size:20px\" color=\"blue\"> Solution 16. </font>   \n"
   ]
  },
  {
   "cell_type": "code",
   "execution_count": null,
   "metadata": {},
   "outputs": [],
   "source": [
    "A = [1, 3, 5, 7, 9]\n",
    "B = A\n",
    "C = []\n",
    "print('A =', A)\n",
    "print('B =', B)\n",
    "for i in range(len(B)):\n",
    "    x = 0\n",
    "    for j in range(i, len(B)):\n",
    "        x += B[j]\n",
    "    C.append(x)\n",
    "\n",
    "for i in range(len(B)):\n",
    "    B[i] = C[i]\n",
    "\n",
    "print('A =', A)\n",
    "print('B =', B)"
   ]
  },
  {
   "cell_type": "markdown",
   "metadata": {},
   "source": [
    "### 17.*\n",
    "\n",
    "Using [this page](https://www.freecodecamp.org/news/python-string-manipulation-handbook/) or any other resource you prefer as a reference, and given the string below:"
   ]
  },
  {
   "cell_type": "code",
   "execution_count": null,
   "metadata": {},
   "outputs": [],
   "source": [
    "text = \"Lorem ipsum dolor sit amet, consectetur adipiscing elit. \\\n",
    "Curabitur eu tortor a eros bibendum vestibulum. Aliquam mollis efficitur odio eget rutrum. \\\n",
    "Ut finibus porttitor nisi, et sollicitudin nisi luctus quis. Nulla facilisi.\\\n",
    "Sed dapibus eleifend ex, ut mattis nibh tincidunt eget. \\\n",
    "Nullam tincidunt tellus sit amet posuere hendrerit. \\\n",
    "Suspendisse ac ipsum eget velit ornare tincidunt. \\\n",
    "Morbi quis dignissim enim, a elementum nisl. \\\n",
    "Sed faucibus venenatis risus, eu vulputate lorem porttitor gravida. \\\n",
    "Sed sed nisi ultricies, pellentesque sapien vel, aliquet magna. \\\n",
    "Morbi enim ligula, bibendum quis justo vel, sollicitudin semper nisi. \\\n",
    "Proin vitae lobortis lorem, aliquet aliquam diam. \\\n",
    "Donec suscipit malesuada lorem, ac rutrum est pharetra consectetur.\""
   ]
  },
  {
   "cell_type": "markdown",
   "metadata": {},
   "source": [
    "#### 17.1\n",
    "Make the entire string lower case."
   ]
  },
  {
   "cell_type": "code",
   "execution_count": null,
   "metadata": {},
   "outputs": [],
   "source": []
  },
  {
   "cell_type": "markdown",
   "metadata": {},
   "source": [
    "#### 17.2\n",
    "Print a word count."
   ]
  },
  {
   "cell_type": "code",
   "execution_count": null,
   "metadata": {},
   "outputs": [],
   "source": []
  },
  {
   "cell_type": "markdown",
   "metadata": {},
   "source": [
    "#### 17.3\n",
    "Print the number of times the letter `s` appears in the string."
   ]
  },
  {
   "cell_type": "code",
   "execution_count": null,
   "metadata": {},
   "outputs": [],
   "source": []
  },
  {
   "cell_type": "markdown",
   "metadata": {},
   "source": [
    "#### 17.4*\n",
    "Move the first sentence of the text to the end of the text."
   ]
  },
  {
   "cell_type": "code",
   "execution_count": null,
   "metadata": {},
   "outputs": [],
   "source": []
  },
  {
   "cell_type": "markdown",
   "metadata": {},
   "source": [
    "---------------------------------\n",
    "<font face=\"verdana\" style=\"font-size:20px\" color=\"blue\"> Solution 17. </font>   \n"
   ]
  },
  {
   "cell_type": "code",
   "execution_count": null,
   "metadata": {},
   "outputs": [],
   "source": [
    "text = \"Lorem ipsum dolor sit amet, consectetur adipiscing elit. \\\n",
    "Curabitur eu tortor a eros bibendum vestibulum. Aliquam mollis efficitur odio eget rutrum. \\\n",
    "Ut finibus porttitor nisi, et sollicitudin nisi luctus quis. Nulla facilisi.\\\n",
    "Sed dapibus eleifend ex, ut mattis nibh tincidunt eget. \\\n",
    "Nullam tincidunt tellus sit amet posuere hendrerit. \\\n",
    "Suspendisse ac ipsum eget velit ornare tincidunt. \\\n",
    "Morbi quis dignissim enim, a elementum nisl. \\\n",
    "Sed faucibus venenatis risus, eu vulputate lorem porttitor gravida. \\\n",
    "Sed sed nisi ultricies, pellentesque sapien vel, aliquet magna. \\\n",
    "Morbi enim ligula, bibendum quis justo vel, sollicitudin semper nisi. \\\n",
    "Proin vitae lobortis lorem, aliquet aliquam diam. \\\n",
    "Donec suscipit malesuada lorem, ac rutrum est pharetra consectetur.\"\n",
    "\n",
    "print('Text in lower case:')\n",
    "print(text.lower())\n",
    "print('Word count:', len(text.split()))\n",
    "print('Number of occurrences of the letter \"s\":', text.count('s'))\n",
    "notlast = text[:text.rindex('. ') + 1]\n",
    "last = text[text.rindex('. ') + 2:]\n",
    "newtext = last + ' ' + notlast\n",
    "print('\"%s\"'%newtext)"
   ]
  },
  {
   "cell_type": "markdown",
   "metadata": {},
   "source": [
    "### 18.\n",
    "\n",
    "The **Sieve of Eratosthenes** is an algorithm to find prime numbers up to a certain value.\n",
    "\n",
    "Algorithm:\n",
    "- initialize a list of primes with all integers\n",
    "- go through a list of divisors (have to be in the list of primes)\n",
    "- cross all candidates divisible by the considered divisor\n",
    "- stop when all divisors up to the boundary are considered\n",
    "\n",
    "Here is a version.\n",
    "\n",
    "Read the algorithm and understand its logic. Why is `i` only increased in the `else:` part? "
   ]
  },
  {
   "cell_type": "code",
   "execution_count": null,
   "metadata": {},
   "outputs": [],
   "source": [
    "upper = 1024\n",
    "primes = list(range(1, upper + 1))      # all numbers between 1 and upper\n",
    "divisor = 1                             # initial divisor\n",
    "while True:\n",
    "    divisor += 1                        # next divisor\n",
    "    if divisor > upper:                 # checked all divisors (?)\n",
    "        break\n",
    "    if divisor not in primes:\n",
    "        continue                        # skip divisor which is not itself prime\n",
    "    i = 0\n",
    "    while i < len(primes):\n",
    "        if primes[i] != divisor and primes[i] % divisor == 0:\n",
    "            del primes[i]               # next is with the same index - don't increment i\n",
    "        else:\n",
    "            i += 1                      # skip to go to next\n",
    "    # print('divisor %d:' % divisor, primes)\n",
    "    \n",
    "print('Primes up to %d are:' % upper, primes)"
   ]
  },
  {
   "cell_type": "markdown",
   "metadata": {},
   "source": [
    "---------------------------------\n",
    "<font face=\"verdana\" style=\"font-size:20px\" color=\"blue\"> Solution 18. </font>   \n"
   ]
  },
  {
   "cell_type": "markdown",
   "metadata": {},
   "source": [
    "\n",
    "By deleting the prime from the list of primes, the index i now points to the next object in the list."
   ]
  },
  {
   "cell_type": "markdown",
   "metadata": {},
   "source": [
    "### 19.\n",
    "We have seen how to use the `input()` function in the following example: "
   ]
  },
  {
   "cell_type": "code",
   "execution_count": null,
   "metadata": {},
   "outputs": [],
   "source": [
    "instring = ''\n",
    "while instring != 'stop':\n",
    "    instring = input('Enter a word (\"stop\" to exit): ')\n",
    "    print(instring.capitalize())\n",
    "else:\n",
    "    print('Thank you!')"
   ]
  },
  {
   "cell_type": "markdown",
   "metadata": {},
   "source": [
    "Modify the code to avoid having the work *Stop* being printed on exiting the loop. (Hint: You need a `break`)"
   ]
  },
  {
   "cell_type": "markdown",
   "metadata": {},
   "source": [
    "---------------------------------\n",
    "<font face=\"verdana\" style=\"font-size:20px\" color=\"blue\"> Solution 19. </font>   \n"
   ]
  },
  {
   "cell_type": "code",
   "execution_count": null,
   "metadata": {},
   "outputs": [],
   "source": [
    "instring = ''\n",
    "while True:\n",
    "    instring = input('Enter a word (\"stop\" to exit): ')\n",
    "    if instring == 'stop':\n",
    "        break\n",
    "    print(instring.capitalize())\n",
    "else:\n",
    "    print('Thank you!')"
   ]
  }
 ],
 "metadata": {
  "kernelspec": {
   "display_name": "Python 3 (ipykernel)",
   "language": "python",
   "name": "python3"
  },
  "language_info": {
   "codemirror_mode": {
    "name": "ipython",
    "version": 3
   },
   "file_extension": ".py",
   "mimetype": "text/x-python",
   "name": "python",
   "nbconvert_exporter": "python",
   "pygments_lexer": "ipython3",
   "version": "3.11.7"
  }
 },
 "nbformat": 4,
 "nbformat_minor": 4
}
