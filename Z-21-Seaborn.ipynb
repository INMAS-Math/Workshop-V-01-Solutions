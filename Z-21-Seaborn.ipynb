{
 "cells": [
  {
   "cell_type": "markdown",
   "id": "08d3a007",
   "metadata": {},
   "source": [
    "<img src=\"images/inmas.png\" width=130x align='right' />\n",
    "\n",
    "# Solutions to Exercise 21 - Visualizing with Seaborn\n",
    "\n",
    "### Prerequisite\n",
    "Notebook 21\n",
    "\n",
    "----"
   ]
  },
  {
   "cell_type": "markdown",
   "id": "d0f0629a",
   "metadata": {},
   "source": [
    "### 1.\n",
    "\n",
    "Using the penguins data set \n",
    "```python\n",
    "penguinsDf = seaborn.load_dataset(\"penguins\")\n",
    "```\n",
    "#### 1.1\n",
    "- Create a pairplot of involvng all variables.\n",
    "- Add the argument `hue=\"species\"` to the a `pairplot` call. What do you expect will happen?"
   ]
  },
  {
   "cell_type": "markdown",
   "id": "0570a626",
   "metadata": {},
   "source": [
    "#### 1.2\n",
    "\n",
    "Construct a scatterplot with a linear trend line comparing `bill_length_mm` with `bill_depth_mm`. Color by species."
   ]
  },
  {
   "cell_type": "markdown",
   "id": "b545fa45",
   "metadata": {},
   "source": [
    "#### 1.3\n",
    "Construct a large grid plot with rows and columns being *island* and *species* respectively and comparing *flipper_length_mm* with *bill_length_mm* with a `scatterplot`."
   ]
  },
  {
   "cell_type": "markdown",
   "id": "d84027fb",
   "metadata": {},
   "source": [
    "#### 1.4\n",
    "Create a histogram plot with the penguin data.\n",
    "- Start with 30 bins and adjust for best results\n",
    "- Add the argument `kde = True` "
   ]
  },
  {
   "cell_type": "code",
   "execution_count": null,
   "id": "3f7686db",
   "metadata": {},
   "outputs": [],
   "source": []
  },
  {
   "cell_type": "markdown",
   "id": "3ecf1431",
   "metadata": {},
   "source": [
    "---------------------------------\n",
    "<font face=\"verdana\" style=\"font-size:20px\" color=\"blue\"> Solution 1. </font>   \n"
   ]
  },
  {
   "cell_type": "code",
   "execution_count": null,
   "id": "074f3f15",
   "metadata": {},
   "outputs": [],
   "source": [
    "import seaborn as sbn\n",
    "\n",
    "penguinsDf = sbn.load_dataset(\"penguins\")\n",
    "\n",
    "# 1.1\n",
    "sbn.pairplot(penguinsDf, hue=\"species\");"
   ]
  },
  {
   "cell_type": "code",
   "execution_count": null,
   "id": "190708c8",
   "metadata": {},
   "outputs": [],
   "source": [
    "# 1.2\n",
    "sbn.lmplot(data=penguinsDf, x=\"bill_depth_mm\", y=\"bill_length_mm\", hue=\"species\")\n",
    "\n",
    "# sbn.scatterplot(data=penguinsDf, x=\"bill_depth_mm\", y=\"bill_length_mm\", hue=\"species\")\n",
    "\n",
    "# Customize with matplotlib\n",
    "import matplotlib.pyplot as plt\n",
    "plt.title('Bill length (mm) vs. Bill Depth (mm)')\n",
    "plt.xlabel('Bill length (mm)')\n",
    "plt.ylabel('Bill depth (mm)');"
   ]
  },
  {
   "cell_type": "code",
   "execution_count": null,
   "id": "b070c6ae",
   "metadata": {},
   "outputs": [],
   "source": [
    "# 1.3\n",
    "grid = sbn.FacetGrid(penguinsDf, col=\"island\", row=\"species\")\n",
    "grid.map(sbn.scatterplot, \"flipper_length_mm\", \"bill_length_mm\");"
   ]
  },
  {
   "cell_type": "code",
   "execution_count": null,
   "id": "9a382192",
   "metadata": {},
   "outputs": [],
   "source": [
    "# 1.4\n",
    "# Adjust bins between 20 and 50\n",
    "sbn.histplot(data=penguinsDf, x=\"flipper_length_mm\", bins=20, kde=True);"
   ]
  },
  {
   "cell_type": "markdown",
   "id": "470001ac",
   "metadata": {},
   "source": [
    "### 2.*\n",
    "- Revisit the last exercise in the SciPy module and use Seaborn to visualize the data.\n",
    "- Can you think of other Seaborn-specific ways to plot the data? (e.g., correlation plots)"
   ]
  },
  {
   "cell_type": "code",
   "execution_count": null,
   "id": "6263c82e",
   "metadata": {},
   "outputs": [],
   "source": []
  },
  {
   "cell_type": "markdown",
   "id": "68b90d42",
   "metadata": {},
   "source": [
    "---------------------------------\n",
    "<font face=\"verdana\" style=\"font-size:20px\" color=\"blue\"> Solution 2. </font>   \n"
   ]
  },
  {
   "cell_type": "markdown",
   "id": "1994a7ad",
   "metadata": {},
   "source": [
    "I'm curious to see your results. Please show them to the instructors!"
   ]
  },
  {
   "cell_type": "markdown",
   "id": "0769f5d3",
   "metadata": {},
   "source": [
    "### 3.*\n",
    "With the data of your choice, create a violin plot."
   ]
  },
  {
   "cell_type": "code",
   "execution_count": null,
   "id": "c720b1c4",
   "metadata": {},
   "outputs": [],
   "source": []
  },
  {
   "cell_type": "markdown",
   "id": "43d8ddae",
   "metadata": {},
   "source": [
    "---------------------------------\n",
    "<font face=\"verdana\" style=\"font-size:20px\" color=\"blue\"> Solution 3. </font>   \n"
   ]
  },
  {
   "cell_type": "markdown",
   "id": "a48e0771",
   "metadata": {},
   "source": [
    "I'm curious to see your results. Please show them to the instructors!"
   ]
  },
  {
   "cell_type": "markdown",
   "id": "06ba21e2",
   "metadata": {},
   "source": [
    "### 4.*\n",
    "With the data of your choice, create a heat map plot."
   ]
  },
  {
   "cell_type": "code",
   "execution_count": null,
   "id": "83502d6a",
   "metadata": {},
   "outputs": [],
   "source": []
  },
  {
   "cell_type": "markdown",
   "id": "2c6ac87e",
   "metadata": {},
   "source": [
    "---------------------------------\n",
    "<font face=\"verdana\" style=\"font-size:20px\" color=\"blue\"> Solution 4. </font>   \n"
   ]
  },
  {
   "cell_type": "markdown",
   "id": "8156f734",
   "metadata": {},
   "source": [
    "I'm curious to see your results. Please show them to the instructors!"
   ]
  }
 ],
 "metadata": {
  "kernelspec": {
   "display_name": "Python 3 (ipykernel)",
   "language": "python",
   "name": "python3"
  },
  "language_info": {
   "codemirror_mode": {
    "name": "ipython",
    "version": 3
   },
   "file_extension": ".py",
   "mimetype": "text/x-python",
   "name": "python",
   "nbconvert_exporter": "python",
   "pygments_lexer": "ipython3",
   "version": "3.11.7"
  }
 },
 "nbformat": 4,
 "nbformat_minor": 5
}
