{
 "cells": [
  {
   "cell_type": "markdown",
   "id": "355498ee",
   "metadata": {},
   "source": [
    "<img src=\"images/inmas.png\" width=130x align='right' />\n",
    "\n",
    "# Solutions to Exercise 19 - Pandas\n",
    "\n",
    "### Prerequisite\n",
    "Notebook 19\n",
    "\n",
    "----"
   ]
  },
  {
   "cell_type": "markdown",
   "id": "e27cd39e",
   "metadata": {},
   "source": [
    "### Housekeeping"
   ]
  },
  {
   "cell_type": "code",
   "execution_count": null,
   "id": "ce0043e7",
   "metadata": {},
   "outputs": [],
   "source": [
    "import pandas as pd"
   ]
  },
  {
   "cell_type": "markdown",
   "id": "6ffc021a",
   "metadata": {},
   "source": [
    "### 1.\n",
    "Using the same file *data/cereals.csv* as in the associated Notebook :\n",
    "\n",
    "#### 1.1\n",
    "Replace the values in the `mfr` column with the following values:\n",
    "\n",
    "* `'A'` --> `'American Home Products'`\n",
    "* `'G'` --> `'General Mills'`\n",
    "* `'N'` --> `'Nabisco'`\n",
    "* `'P'` --> `'Post'`\n",
    "* `'Q'` --> `'Quaker'`\n",
    "* `'R'` --> `'Raiston'`\n",
    "* `'U'` --> `'Unknown'`\n"
   ]
  },
  {
   "cell_type": "code",
   "execution_count": null,
   "id": "c02cb991",
   "metadata": {},
   "outputs": [],
   "source": [
    "file = \"data/cereals.csv\" \n",
    "cerealsDf = pd.read_csv(file, sep=';', skiprows=[1])\n",
    "cerealsDf = cerealsDf.fillna({'mfr': 'U'})\n",
    "cerealsDf.dropna(inplace=True)"
   ]
  },
  {
   "cell_type": "markdown",
   "id": "cfe6e843",
   "metadata": {},
   "source": [
    "#### 1.2\n",
    "\n",
    "Update 'fat' to 'fat (g)' and 'potass' to 'potass (mg)'."
   ]
  },
  {
   "cell_type": "code",
   "execution_count": null,
   "id": "c256a1e1",
   "metadata": {},
   "outputs": [],
   "source": []
  },
  {
   "cell_type": "markdown",
   "id": "649c4ab1",
   "metadata": {},
   "source": [
    "#### 1.3\n",
    "\n",
    "Create a new dataframe containing only entries from Kelloggs manufacturer."
   ]
  },
  {
   "cell_type": "code",
   "execution_count": null,
   "id": "1f7f6486",
   "metadata": {},
   "outputs": [],
   "source": []
  },
  {
   "cell_type": "markdown",
   "id": "3ecf1431",
   "metadata": {},
   "source": [
    "---------------------------------\n",
    "<font face=\"verdana\" style=\"font-size:20px\" color=\"blue\"> Solution 1. </font>   \n"
   ]
  },
  {
   "cell_type": "code",
   "execution_count": null,
   "id": "c00f1ab6",
   "metadata": {},
   "outputs": [],
   "source": [
    "# 1.1\n",
    "file = \"./data/cereals.csv\" \n",
    "cerealsDf = pd.read_csv(file, sep=';', skiprows=[1])\n",
    "cerealsDf = cerealsDf.fillna({'mfr': 'U'})\n",
    "cerealsDf.dropna(inplace=True)\n",
    "# Values that need to be changed\n",
    "new_names = {'A': 'American Home Products',\n",
    "             'G': 'General Mills',\n",
    "             'N': 'Nabsico',\n",
    "             'P': 'Post',\n",
    "             'Q': \"Quaker\",\n",
    "             'R': 'Ralston',\n",
    "             'U': 'Unknown',\n",
    "              }\n",
    "\n",
    "# Provide a dictionary of dictionaries\n",
    "cerealsDf.replace({'mfr': new_names}, inplace = True)\n",
    "cerealsDf"
   ]
  },
  {
   "cell_type": "code",
   "execution_count": null,
   "id": "3e5b9dd0",
   "metadata": {
    "scrolled": true
   },
   "outputs": [],
   "source": [
    "#1.2\n",
    "cerealsDf.rename(columns={\"fat\": \"fat (g)\", \"potass\": \"potass (mg)\"}, inplace = True)\n",
    "cerealsDf.head(3)"
   ]
  },
  {
   "cell_type": "code",
   "execution_count": null,
   "id": "2389ceca",
   "metadata": {},
   "outputs": [],
   "source": [
    "#1.3\n",
    "kellogsCerealsDf = cerealsDf[cerealsDf['mfr'] == 'K']\n",
    "kellogsCerealsDf"
   ]
  },
  {
   "cell_type": "markdown",
   "id": "8bb372a2",
   "metadata": {},
   "source": [
    "### 2.*\n",
    "\n",
    "We've barely scratched the surface of Pandas' functionality.\n",
    "\n",
    "Here are a few additional common functions you can explore if you have the time:\n",
    "* [`pd.DataFrame.apply()`](https://pandas.pydata.org/docs/reference/api/pandas.DataFrame.apply.html)\n",
    "* [`pd.DataFrame.corrwith()`](https://pandas.pydata.org/docs/reference/api/pandas.DataFrame.corrwith.html)\n",
    "* [`pd.DataFrame.query()`](https://pandas.pydata.org/docs/reference/api/pandas.DataFrame.query.html)\n",
    "* [`pd.DataFrame.sample()`](https://pandas.pydata.org/docs/reference/api/pandas.DataFrame.sample.html)\n",
    "\n",
    "Click on the entry to read the reference. Try a few of these methods if time allows."
   ]
  },
  {
   "cell_type": "code",
   "execution_count": null,
   "id": "50fb8bcf",
   "metadata": {},
   "outputs": [],
   "source": []
  },
  {
   "cell_type": "markdown",
   "id": "6ebe48b4",
   "metadata": {},
   "source": [
    "---------------------------------\n",
    "<font face=\"verdana\" style=\"font-size:20px\" color=\"blue\"> Solution 2. </font>   \n"
   ]
  },
  {
   "cell_type": "markdown",
   "id": "cc35e718",
   "metadata": {},
   "source": [
    "Up to you!"
   ]
  },
  {
   "cell_type": "markdown",
   "id": "a755f906",
   "metadata": {},
   "source": [
    "### 3.\n",
    "\n",
    "Can you make a separate data frame with only the highest rated cereal from each mfr group? (Hint: You would want to use ```pd.DataFrame.groupby()```.)"
   ]
  },
  {
   "cell_type": "code",
   "execution_count": null,
   "id": "58a66150",
   "metadata": {},
   "outputs": [],
   "source": []
  },
  {
   "cell_type": "markdown",
   "id": "d591a9c0",
   "metadata": {},
   "source": [
    "---------------------------------\n",
    "<font face=\"verdana\" style=\"font-size:20px\" color=\"blue\"> Solution 3. </font>   \n"
   ]
  },
  {
   "cell_type": "code",
   "execution_count": null,
   "id": "ef98284f",
   "metadata": {},
   "outputs": [],
   "source": [
    "# Sort by rating\n",
    "cerealsDf.sort_values('rating', ascending=False)\n",
    "\n",
    "# Group by column = mfr and return the first row for each mfr\n",
    "bestRated_cerealsDf = cerealsDf.groupby(by='mfr').head(1).reset_index()\n",
    "\n",
    "# Our new dataframe\n",
    "bestRated_cerealsDf"
   ]
  },
  {
   "cell_type": "markdown",
   "id": "389e48c7",
   "metadata": {},
   "source": [
    "### 4.*\n",
    "\n",
    "Using results from the previous exercise, can you calculate the absolute difference between the rating of each cereal and that of the highest rated cereal from each mfr group? Call the column with the absolute difference, 'diff'. (Hint: You would want to use ```pd.DataFrame.merge()```.)"
   ]
  },
  {
   "cell_type": "code",
   "execution_count": null,
   "id": "29593801",
   "metadata": {},
   "outputs": [],
   "source": []
  },
  {
   "cell_type": "markdown",
   "id": "813ae720",
   "metadata": {},
   "source": [
    "---------------------------------\n",
    "<font face=\"verdana\" style=\"font-size:20px\" color=\"blue\"> Solution 4. </font>   \n"
   ]
  },
  {
   "cell_type": "code",
   "execution_count": null,
   "id": "810389e5",
   "metadata": {},
   "outputs": [],
   "source": [
    "# First rename 'rating' column as 'max rating' for bestRated\n",
    "bestRated_cerealsDf.rename(columns = {'rating': 'max rating'}, inplace=True)\n",
    "# Provide key that we will merge and how we will do it.\n",
    "mergedDf = cerealsDf.merge(bestRated_cerealsDf[['mfr', 'max rating']], on='mfr', how='left')\n",
    "\n",
    "# Add a column with the difference between rating and max rating (it should always be positive!)\n",
    "mergedDf['diff'] =  mergedDf['max rating'] - mergedDf['rating']\n",
    "\n",
    "mergedDf\n",
    "# This solution is clearly wrong!"
   ]
  },
  {
   "cell_type": "markdown",
   "id": "c350b516",
   "metadata": {},
   "source": [
    "### 5.\n",
    "\n",
    "Make a list out of CAPITALIZED column names for the cereals dataframe. (Hint: Use ```df.columns```.)"
   ]
  },
  {
   "cell_type": "code",
   "execution_count": null,
   "id": "eed89b67",
   "metadata": {},
   "outputs": [],
   "source": []
  },
  {
   "cell_type": "markdown",
   "id": "a5eec293",
   "metadata": {},
   "source": [
    "---------------------------------\n",
    "<font face=\"verdana\" style=\"font-size:20px\" color=\"blue\"> Solution 5. </font>   \n"
   ]
  },
  {
   "cell_type": "code",
   "execution_count": null,
   "id": "c37c9b2e",
   "metadata": {},
   "outputs": [],
   "source": [
    "# Use a list comprehension of all the capitalized column names\n",
    "columns = [x.upper() for x in cerealsDf.columns]\n",
    "columns"
   ]
  }
 ],
 "metadata": {
  "kernelspec": {
   "display_name": "Python 3 (ipykernel)",
   "language": "python",
   "name": "python3"
  },
  "language_info": {
   "codemirror_mode": {
    "name": "ipython",
    "version": 3
   },
   "file_extension": ".py",
   "mimetype": "text/x-python",
   "name": "python",
   "nbconvert_exporter": "python",
   "pygments_lexer": "ipython3",
   "version": "3.11.7"
  }
 },
 "nbformat": 4,
 "nbformat_minor": 5
}
