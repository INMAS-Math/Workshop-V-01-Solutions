{
 "cells": [
  {
   "cell_type": "markdown",
   "metadata": {
    "id": "s5Yz6fUhKxCZ"
   },
   "source": [
    "<img src=\"images/inmas.png\" width=130x align='right' />\n",
    "\n",
    "# Exercise 20 - Mini-Project\n",
    "\n",
    "\n",
    "### Prerequisite\n",
    "Notebooks 00 to 20\n",
    "\n",
    "----"
   ]
  },
  {
   "cell_type": "markdown",
   "metadata": {
    "id": "s5Yz6fUhKxCZ"
   },
   "source": [
    "\n",
    "## COVID-19 disease simulation using SIR epidemic model\n",
    "\n",
    "### Instructions\n",
    "- When a population is exposed to a disease, it can be divided into three categories: Susceptible, Infected, and Recovered, creating the SIR model. \n",
    "- This exercise notebook is a short project requiring you to analyze data using the SIR model.\n",
    "- It is meant to integrate all the Python knowledge you've acquired from the previous notebooks.\n"
   ]
  },
  {
   "cell_type": "markdown",
   "metadata": {
    "id": "KWkaur4JKzon"
   },
   "source": [
    "### 1.\n",
    "\n",
    "#### Case study : Simulating the progression of the COVID-19 disease in Cameroon using SIR models\n",
    "\n",
    "This [paper](https://hal-amu.archives-ouvertes.fr/hal-02941632/document) analyzes the evolution of COVID-19 in Cameroon from March 6 to April 10 in 2020 using SIR framework. \n",
    "\n",
    "**Download the data** from [here](https://doi.org/10.6084/m9.figshare.12613649.v1) into numpy arrays using `numpy.genfromtxt` or other methods.\n",
    "\n",
    "First, we recommend to read the head of the data using `!head`. Notebooks on InputOutput and NumPy can be useful here. "
   ]
  },
  {
   "cell_type": "code",
   "execution_count": null,
   "metadata": {
    "id": "V_gzArkuLPmW"
   },
   "outputs": [],
   "source": [
    "import numpy as np\n",
    "import matplotlib.pyplot as plt\n",
    "import pandas as pd\n",
    "\n",
    "# your code for reading csv file"
   ]
  },
  {
   "cell_type": "markdown",
   "metadata": {
    "id": "OrCuqYpvOJhM"
   },
   "source": [
    "**Plot the evolution** of the coronavirus disease in Cameroon. Make sure the graph has labels, title and legend.\n",
    "The data contains the dates of the period. Instead of the colum of dates, use days from the beginning of the period. For example, x-axis can be labeled as ‘Time/days from 03/06/2020’."
   ]
  },
  {
   "cell_type": "code",
   "execution_count": null,
   "metadata": {
    "id": "4g_QCBLlNceh"
   },
   "outputs": [],
   "source": [
    "# your code for plotting the covid cases in Cameroon"
   ]
  },
  {
   "cell_type": "markdown",
   "metadata": {
    "id": "ol6g6_594zzP"
   },
   "source": [
    "Active cases are defined as the following:\n",
    "\n",
    "> Active cases = cumulative confirmed cases - cumulative recovered - cumulative deaths\n",
    "\n",
    "**Compute the number of active cases**, store it at `active_cases` and plot it. Note that the data are already cumulative."
   ]
  },
  {
   "cell_type": "code",
   "execution_count": null,
   "metadata": {
    "id": "ATbRfBLj46iH"
   },
   "outputs": [],
   "source": [
    "# Your code here.\n",
    "active_cases = ..."
   ]
  },
  {
   "cell_type": "markdown",
   "metadata": {
    "id": "1k4mbpkhK44m"
   },
   "source": [
    "Now, using their estimated parameter values of the SIR model and initial conditions, **plot the simulation results** of the epidemic model. (I.e., reproduce the Fig 7 in their paper.) \n",
    "\n",
    "First, **define SIR differential equations**. See equation (5) from the paper. "
   ]
  },
  {
   "cell_type": "code",
   "execution_count": null,
   "metadata": {
    "id": "uhHwociqK5R_"
   },
   "outputs": [],
   "source": [
    "def dydt(y, t, params):\n",
    "    \"\"\"\n",
    "    Returns the SIR model differential equations.\n",
    "    \"\"\"\n",
    "    beta, gamma = params\n",
    "    S, I, R = y\n",
    "    \n",
    "    # Your code here.\n",
    "    dSdt = ...\n",
    "    dIdt = ...\n",
    "    dRdt = ...\n",
    "    return dSdt, dIdt, dRdt"
   ]
  },
  {
   "cell_type": "markdown",
   "metadata": {
    "id": "s4naqykNNddi"
   },
   "source": [
    "Initial conditions used in their paper are given in the next cell."
   ]
  },
  {
   "cell_type": "code",
   "execution_count": null,
   "metadata": {
    "id": "a2SjMyt2LVv7"
   },
   "outputs": [],
   "source": [
    "# Total population.\n",
    "N = 25216237\n",
    "\n",
    "# Initial number of infected .\n",
    "I0 = 1\n",
    "\n",
    "# Initial removed individuals.\n",
    "R0 = 0\n",
    "\n",
    "# Initial susceptible individuals (everyone is susceptible to infection initially).\n",
    "S0 = N - I0 - R0\n",
    "\n",
    "# Initial conditions.\n",
    "y0 = (S0, I0, R0)"
   ]
  },
  {
   "cell_type": "markdown",
   "metadata": {
    "id": "EyQHtJk_Ncu2"
   },
   "source": [
    "Estimated parameter values are given below."
   ]
  },
  {
   "cell_type": "code",
   "execution_count": null,
   "metadata": {
    "id": "yl1VsmpyLdqH"
   },
   "outputs": [],
   "source": [
    "# Contact rate(beta) and mean recovery/removal rate (gamma), (in 1/days).\n",
    "beta, gamma = 0.615, 0.393\n",
    "print(\"R0:\", round(beta/gamma,3))"
   ]
  },
  {
   "cell_type": "markdown",
   "metadata": {
    "id": "obyh46MGOSFa"
   },
   "source": [
    "**Set the number of time points** you want to simulate (in days)."
   ]
  },
  {
   "cell_type": "code",
   "execution_count": null,
   "metadata": {
    "id": "VYFCvKCUOEId"
   },
   "outputs": [],
   "source": [
    "# Your code here.\n",
    "days_to_simulate = ...\n",
    "\n",
    "time_step = list(range(days_to_simulate))"
   ]
  },
  {
   "cell_type": "markdown",
   "metadata": {
    "id": "AHiNXFImOnrD"
   },
   "source": [
    "It is time to solve the ODE using parameters, Initial conditions and time period defined above.  \n",
    "**Perfom ODE simulations** using the solver `odeint` contained in the Python module `scipy.integrate`. To use this, please refer to the SciPy_basics.ipynb.\n",
    "You can implement your own numerical integration function using Runge–Kutta methods or Euler methods. "
   ]
  },
  {
   "cell_type": "code",
   "execution_count": null,
   "metadata": {
    "id": "as_0ZNHdJgbF"
   },
   "outputs": [],
   "source": [
    "from scipy.integrate import odeint"
   ]
  },
  {
   "cell_type": "markdown",
   "metadata": {
    "id": "PBJB9K2xPPkU"
   },
   "source": [
    "**Plot the curves** $S(t)$, $I(t)$ and $R(t)$."
   ]
  },
  {
   "cell_type": "code",
   "execution_count": null,
   "metadata": {
    "id": "mvYGnBFcMNxC"
   },
   "outputs": [],
   "source": []
  },
  {
   "cell_type": "markdown",
   "metadata": {
    "id": "SnJRqklnPgqs"
   },
   "source": [
    "**Plot the simulation results with the dataset** and see how accurate their estimations are.\n",
    "\n",
    "In the SIR model, $I(t)$ is considered to be the number of active cases at time $t$."
   ]
  },
  {
   "cell_type": "code",
   "execution_count": null,
   "metadata": {
    "id": "0GKYHR_pRNFG"
   },
   "outputs": [],
   "source": []
  },
  {
   "cell_type": "markdown",
   "metadata": {
    "id": "P0-Hvdi3QWYp"
   },
   "source": [
    "### 2.*\n",
    "\n",
    "#### France's COVID-19 data\n",
    "\n",
    "Now, let's use the data of France's COVID-19 active cases then predict the evolution of the disease in future days. \n",
    "\n",
    "`fr_active_cases` contains the number of active cases data of France from January 22 to March 23 in 2020."
   ]
  },
  {
   "cell_type": "code",
   "execution_count": null,
   "metadata": {
    "id": "zfZ5tNkATEU5"
   },
   "outputs": [],
   "source": [
    "fr_active_cases = \\\n",
    "np.array([0, 0, 2, 3, 3, 3, 4, 5, 5, 5, 6, 6, 6, 6, 6, 6, 6, 11, 11, 11, 11,\n",
    "9, 9, 9, 7, 7, 7, 7, 7, 7, 7, 7, 7, 7, 2, 5, 25, 44, 86, 116, 176,\n",
    "188, 269, 359, 632, 926, 1095, 1178, 1739, 2221, 2221, 3570, 4366,\n",
    "4396, 6473, 7492, 8883, 10616, 12150, 13708, 13144, 13144.0, 16796,\n",
    "17923, 20002, 22511, 25269, 29561, 30366, 33599, 39161])"
   ]
  },
  {
   "cell_type": "markdown",
   "metadata": {
    "id": "uTrdZ9QGBw6m"
   },
   "source": [
    "Consider the information:\n",
    "\n",
    "*   Total population in France : 65241903\n",
    "*   Contact rate : 0.301 (in 1/days)\n",
    "*   Mean recovery/removal rate : 0.143 (in 1/days)\n",
    "*   France announced the beginning of lockdown at March 17, noon. (After this day, we expect the contact rate ,$\\beta$, was reduced abruptly.)\n",
    "\n",
    "Do: \n",
    "\n",
    "1. Compute the basic reproduction rate $R_0$ and describe its meaning. \n",
    "\n",
    "2. Plot the simulated number of active case using the SIR model and compare it with the plot of Frances's data. Plot a vertical line to mark the day that the lockdown measure was announced. (Index for March 17 is 55.)\n",
    "\n",
    "3. Based on the predicted evolution of the disease, discuss the effectiveness of the lockdown measure. (Simulation result corresponds to the scenario that no measures were taken to curb the spread of COVID-19.)\n",
    "\n",
    "4. Compare the simulation result using the different parameter set given below. Discuss its implication.\n",
    "    *   Contact rate : 0.26 (in 1/days)\n",
    "    *   Mean recovery/removal rate : 0.1 (in 1/days)"
   ]
  },
  {
   "cell_type": "code",
   "execution_count": null,
   "metadata": {
    "id": "RLKpnHMCT_Mb"
   },
   "outputs": [],
   "source": []
  }
 ],
 "metadata": {
  "kernelspec": {
   "display_name": "Python 3 (ipykernel)",
   "language": "python",
   "name": "python3"
  },
  "language_info": {
   "codemirror_mode": {
    "name": "ipython",
    "version": 3
   },
   "file_extension": ".py",
   "mimetype": "text/x-python",
   "name": "python",
   "nbconvert_exporter": "python",
   "pygments_lexer": "ipython3",
   "version": "3.11.7"
  }
 },
 "nbformat": 4,
 "nbformat_minor": 1
}
