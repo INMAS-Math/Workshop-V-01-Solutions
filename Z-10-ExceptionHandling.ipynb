{
 "cells": [
  {
   "cell_type": "markdown",
   "id": "cb5140ef",
   "metadata": {},
   "source": [
    "<img src=\"images/inmas.png\" width=130x align=\"right\" />\n",
    "\n",
    "# Solutions to Exercise 10 - Exception Handling\n",
    "\n",
    "\n",
    "### Prerequisite\n",
    "Notebook 10"
   ]
  },
  {
   "cell_type": "markdown",
   "id": "9e7cbbf6",
   "metadata": {},
   "source": [
    "### 1.\n",
    "Combine `with` and `try-except` constructs to write a short interactive algorithm for opening a file and printing its first line. Test with a file name that does not exist.\n",
    "\n",
    "User provides the file name. Do not use `if` for checking the file existence.\n",
    "\n",
    "- Understand the difference in purpose between `with` and the `try-except` construct (resource management vs. error handling)."
   ]
  },
  {
   "cell_type": "code",
   "execution_count": null,
   "id": "47321057",
   "metadata": {},
   "outputs": [],
   "source": []
  },
  {
   "cell_type": "markdown",
   "id": "3d8616e7",
   "metadata": {},
   "source": [
    "---------------------------------\n",
    "<font face=\"verdana\" style=\"font-size:20px\" color=\"blue\"> Solution 1. </font>   \n"
   ]
  },
  {
   "cell_type": "code",
   "execution_count": null,
   "id": "3d2bc59d",
   "metadata": {},
   "outputs": [],
   "source": [
    "filenames = ['./data/sample.txt', 'dOnOtExIsT']\n",
    "\n",
    "for filename in filenames:\n",
    "    try:\n",
    "        with open(filename, 'r') as f:\n",
    "            print(f.readline())\n",
    "            \n",
    "    except:\n",
    "        print('Error: File \"%s\" does not exist!'%filename)"
   ]
  },
  {
   "cell_type": "markdown",
   "id": "af8c5cfb",
   "metadata": {},
   "source": [
    "`with` is for resource management (closing the file) while `try` is for error handling. You need both!"
   ]
  },
  {
   "cell_type": "markdown",
   "id": "d8244f7a",
   "metadata": {},
   "source": [
    "### 2.\n",
    "- Define a function that takes two lists as input and divides one list by the other, element by element. It returns a list of the same length with the results. Include checks that both lists are equal. Handle exceptions and use NaN for zero division result.\n",
    "- Create two lists of 10 numbers, both containing one zero element somewhere and test."
   ]
  },
  {
   "cell_type": "code",
   "execution_count": null,
   "id": "bb91411b",
   "metadata": {},
   "outputs": [],
   "source": []
  },
  {
   "cell_type": "markdown",
   "id": "4ea1437f",
   "metadata": {},
   "source": [
    "---------------------------------\n",
    "<font face=\"verdana\" style=\"font-size:20px\" color=\"blue\"> Solution 2. </font>   \n"
   ]
  },
  {
   "cell_type": "code",
   "execution_count": null,
   "id": "61d7ac3c",
   "metadata": {},
   "outputs": [],
   "source": [
    "def divide(a, b):\n",
    "    '''Divide every element of a by the corresponding elelment of b.'''\n",
    "    if len(a) != len(b):\n",
    "        raise ValueError('Dimensions %d is not equal to %d.'%(len(a), len(b)))\n",
    "        \n",
    "    c = []\n",
    "    for i in range(len(a)):\n",
    "        if b[i] == 0:\n",
    "            # raise ZeroDivisionError('Division by zero at element %d'%i)\n",
    "            c.append(float('NaN'))\n",
    "        else:\n",
    "            c.append(a[i]/b[i])\n",
    "    \n",
    "    return c\n",
    "\n",
    "lista = [1, 2, 4, 8, 3, 6, 12]\n",
    "listb = [12, 33, 1, 2, 0, 4, 3]\n",
    "\n",
    "listc = divide(lista, listb)\n",
    "print(listc)\n"
   ]
  }
 ],
 "metadata": {
  "kernelspec": {
   "display_name": "Python 3 (ipykernel)",
   "language": "python",
   "name": "python3"
  },
  "language_info": {
   "codemirror_mode": {
    "name": "ipython",
    "version": 3
   },
   "file_extension": ".py",
   "mimetype": "text/x-python",
   "name": "python",
   "nbconvert_exporter": "python",
   "pygments_lexer": "ipython3",
   "version": "3.11.7"
  }
 },
 "nbformat": 4,
 "nbformat_minor": 5
}
