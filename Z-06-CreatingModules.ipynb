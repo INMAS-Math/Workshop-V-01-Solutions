{
 "cells": [
  {
   "cell_type": "markdown",
   "id": "af4ee8a4",
   "metadata": {},
   "source": [
    "<img src=\"images/inmas.png\" width=130x align=right />\n",
    "\n",
    "# Solutions to Exercises 06 - Creating Modules\n",
    "\n",
    "\n",
    "### Prerequisite\n",
    "Notebooks 06"
   ]
  },
  {
   "cell_type": "markdown",
   "id": "dd818b7e",
   "metadata": {},
   "source": [
    "\n",
    "### 1.\n",
    "Use your favorite text editor to create a file called \"helloworld.py\" in the current directory with the following contents\n",
    "\n",
    "```\n",
    "'''\n",
    "This is a simple module to demonstrate how to create one own's module.\n",
    "'''\n",
    "\n",
    "def printHello():\n",
    "    '''\n",
    "    This function just prints \"Hello world!\"\n",
    "    '''\n",
    "    print(\"Hello World!\")\n",
    "```\n",
    "\n",
    "If you cut and paste, make sure that the spaces and tabs are properly entered.\n",
    "\n",
    "Alternatively, you can run the cell below that will write the file for you. You're welcome."
   ]
  },
  {
   "cell_type": "code",
   "execution_count": null,
   "id": "d88c0990",
   "metadata": {},
   "outputs": [],
   "source": [
    "%%writefile helloworld.py\n",
    "'''\n",
    "This is a simple module to demonstrate how to create one own's module.\n",
    "'''\n",
    "\n",
    "def printHello():\n",
    "    '''This function just prints \"Hello world!\"'''\n",
    "    print('Hello World!')\n"
   ]
  },
  {
   "cell_type": "markdown",
   "id": "17dc95dc",
   "metadata": {},
   "source": [
    "#### 1.1\n",
    "Then import your module in the next cell using *import as*, and call your function with the chosen module name."
   ]
  },
  {
   "cell_type": "code",
   "execution_count": null,
   "id": "ae9913a8",
   "metadata": {},
   "outputs": [],
   "source": []
  },
  {
   "cell_type": "markdown",
   "id": "50e6d7cc",
   "metadata": {},
   "source": [
    "#### 1.2\n",
    "Import the module so that your function is in the global namespace, i.e., so that the call in the next cell can work."
   ]
  },
  {
   "cell_type": "code",
   "execution_count": null,
   "id": "99fbb5e0",
   "metadata": {},
   "outputs": [],
   "source": [
    "printHello()"
   ]
  },
  {
   "cell_type": "markdown",
   "id": "60a96e23",
   "metadata": {},
   "source": [
    "#### 1.3\n",
    "Edit the **same** helloworld.py file and using the `datetime` module, add a second function that is called `greetings(name)` which checks the time of the day to return a greeting string appropriate for the time (i.e., 'Good morning Kim!', 'Good afternoon Kim!', ..., if name provided is 'Kim'). \n",
    "\n",
    "- Check that the function returns the proper name and greeting.\n",
    "\n",
    "Hint if problems: Notebook-03."
   ]
  },
  {
   "cell_type": "code",
   "execution_count": null,
   "id": "626fbad5",
   "metadata": {},
   "outputs": [],
   "source": []
  },
  {
   "cell_type": "markdown",
   "id": "239402d6",
   "metadata": {},
   "source": [
    "---------------------------------\n",
    "<font face=\"verdana\" style=\"font-size:20px\" color=\"blue\"> Solution 1. </font>   \n"
   ]
  },
  {
   "cell_type": "code",
   "execution_count": null,
   "id": "d8018800",
   "metadata": {},
   "outputs": [],
   "source": [
    "%%writefile helloworld.py\n",
    "'''\n",
    "This is a simple module to demonstrate how to create one own's module.\n",
    "'''\n",
    "\n",
    "def printHello():\n",
    "    '''This function just prints \"Hello world!\"'''\n",
    "    print('Hello World!')"
   ]
  },
  {
   "cell_type": "code",
   "execution_count": null,
   "id": "1afb8494",
   "metadata": {},
   "outputs": [],
   "source": [
    "import helloworld as hw\n",
    "\n",
    "hw.printHello()\n",
    "\n",
    "from helloworld import printHello\n",
    "\n",
    "printHello()"
   ]
  },
  {
   "cell_type": "code",
   "execution_count": null,
   "id": "c12ea462",
   "metadata": {},
   "outputs": [],
   "source": [
    "%%writefile helloworld.py\n",
    "'''\n",
    "This is a simple module to demonstrate how to create one own's module.\n",
    "'''\n",
    "from datetime import datetime\n",
    "\n",
    "def printHello():\n",
    "    '''This function just prints \"Hello world!\"'''\n",
    "    print('Hello World!')\n",
    "\n",
    "def greetings(name):\n",
    "    time = datetime.now().hour\n",
    "    if time < 12:\n",
    "        greet = 'morning'\n",
    "    elif time < 18:\n",
    "        greet = 'afternoon'\n",
    "    elif time < 21:\n",
    "        greet = 'evening'\n",
    "    else:\n",
    "        greet = 'night'\n",
    "    \n",
    "    print('Good %s %s!'%(greet, name))"
   ]
  },
  {
   "cell_type": "code",
   "execution_count": null,
   "id": "adab18db",
   "metadata": {},
   "outputs": [],
   "source": [
    "import importlib\n",
    "importlib.reload(hw)\n",
    "\n",
    "hw.greetings('Sam')"
   ]
  },
  {
   "cell_type": "markdown",
   "id": "990323e3",
   "metadata": {},
   "source": [
    "### 2.\n",
    "\n",
    "Create a file called \"fibo.py\". In the file write two functions:\n",
    "- One function called `printFibo` that **prints** the Fibonacci series up to $n$. \n",
    "- One function called `fibo` that **returns** the Fibonacci series up to $n$.\n",
    "\n",
    "Import the module and use the functions to calculate the first 5 Fibonacci numbers."
   ]
  },
  {
   "cell_type": "code",
   "execution_count": null,
   "id": "1f5d22e6",
   "metadata": {},
   "outputs": [],
   "source": []
  },
  {
   "cell_type": "markdown",
   "id": "65b60098",
   "metadata": {},
   "source": [
    "---------------------------------\n",
    "<font face=\"verdana\" style=\"font-size:20px\" color=\"blue\"> Solution 2. </font>   \n"
   ]
  },
  {
   "cell_type": "code",
   "execution_count": null,
   "id": "ba184dd9",
   "metadata": {},
   "outputs": [],
   "source": [
    "%%writefile fibo.py\n",
    "'''\n",
    "This is a test module to demonstrate loading.\n",
    "'''\n",
    "def fibo(uppern):\n",
    "    '''Return Fibonacci sequence.'''\n",
    "    assert uppern > 0\n",
    "    seq = [0, 1]\n",
    "    if uppern <= 2:\n",
    "        return seq[:uppern]\n",
    "    for i in range(2, uppern):\n",
    "        seq.append(seq[i - 1] + seq[i - 2])\n",
    "    return seq\n",
    "\n",
    "def printFibo(uppern):\n",
    "    '''Print Fibonacci  sequence.'''\n",
    "    print('Fibonacci sequence up to %d:'%uppern, fibo(uppern))"
   ]
  },
  {
   "cell_type": "code",
   "execution_count": null,
   "id": "7d5da955",
   "metadata": {},
   "outputs": [],
   "source": [
    "import fibo\n",
    "\n",
    "fibo.printFibo(5)\n",
    "fibo.fibo(5)\n"
   ]
  }
 ],
 "metadata": {
  "kernelspec": {
   "display_name": "Python 3 (ipykernel)",
   "language": "python",
   "name": "python3"
  },
  "language_info": {
   "codemirror_mode": {
    "name": "ipython",
    "version": 3
   },
   "file_extension": ".py",
   "mimetype": "text/x-python",
   "name": "python",
   "nbconvert_exporter": "python",
   "pygments_lexer": "ipython3",
   "version": "3.11.7"
  }
 },
 "nbformat": 4,
 "nbformat_minor": 5
}
