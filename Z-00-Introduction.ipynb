{
 "cells": [
  {
   "cell_type": "markdown",
   "id": "6bbd5f66",
   "metadata": {
    "id": "6bbd5f66",
    "slideshow": {
     "slide_type": "slide"
    }
   },
   "source": [
    "<img align=right src=\"images/inmas.png\" width=130x />\n",
    "\n",
    "# Exercises 00 - Introduction to Jupyter Notebooks\n",
    "\n",
    "This notebook is a tutorial on using Jupyter Notebooks\n",
    "#### *If you have experience with Jupyter notebooks you can skip this exercise*\n",
    "\n",
    "### Prerequisite\n",
    "None"
   ]
  },
  {
   "cell_type": "markdown",
   "id": "SqFdRpoFgEmd",
   "metadata": {
    "id": "SqFdRpoFgEmd",
    "slideshow": {
     "slide_type": "slide"
    }
   },
   "source": [
    "### Basic concepts in Jupyter\n",
    "In Jupyter, there are two types of cells:\n",
    "- **Code Cells**\n",
    "    - Contain code in the Python language, ready to be run\n",
    "- **Markdown Cells**\n",
    "    - Contain text formatted in *markdown* language, aimed at giving directions to the user\n",
    "\n",
    "This very cell is a Markdown text cell\n",
    "\n",
    "The next two cells are examples of each type\n",
    "\n",
    "Notice how Code cells have an additional **In \\[  \\]:** in the margin"
   ]
  },
  {
   "cell_type": "markdown",
   "id": "05032eee",
   "metadata": {
    "slideshow": {
     "slide_type": "slide"
    }
   },
   "source": [
    "#### This cell is a *markdown* text cell!"
   ]
  },
  {
   "cell_type": "code",
   "execution_count": null,
   "id": "db165058",
   "metadata": {
    "slideshow": {
     "slide_type": "fragment"
    }
   },
   "outputs": [],
   "source": [
    "# This cell is a Python Code cell\n",
    "print('Welcome to a Jupyter notebook!')"
   ]
  },
  {
   "cell_type": "markdown",
   "id": "f94e0e30",
   "metadata": {
    "slideshow": {
     "slide_type": "slide"
    }
   },
   "source": [
    "### Interacting with the cells\n",
    "\n",
    "There are many ways to interact with cells:\n",
    "\n",
    "- **Clicking in the left margin**\n",
    "\n",
    "    - A blue side bar appears in the left margin, regardless of the type of cell\n",
    "    - From there, you can use the up and down arrows to go to other cells in 'blue' mode\n",
    "\n",
    "- **Clicking over the contents of a cell**\n",
    "\n",
    "    - Markdown and Code cells have different behavior:\n",
    "        - Code cells **turn green**, indicating you are in **edit mode** and the cell is ready to run\n",
    "        - Markdown cells **stay blue**, unless you double-click, or hit *Enter*, in which case you enter the **edit mode** of the Markdown cell"
   ]
  },
  {
   "cell_type": "markdown",
   "id": "31a8815e",
   "metadata": {
    "slideshow": {
     "slide_type": "slide"
    }
   },
   "source": [
    "### Edit and command modes\n",
    "- In the **command mode**, or blue mode, you can:\n",
    "    - add, remove, copy, cut cells,  and much more\n",
    "- In **edit mode**, or green mode, you can:\n",
    "    - edit the contents of a cell where the key *Enter* introduces a new line\n",
    "    - run the code in the cell by typing *Ctrl-Enter*\n",
    "    - go back to **command** mode with the *Esc* key (only for Code cells)\n",
    "    \n",
    "Type *Esc-h* to see all the commands available in each mode"
   ]
  },
  {
   "cell_type": "code",
   "execution_count": null,
   "id": "991a423c",
   "metadata": {
    "slideshow": {
     "slide_type": "slide"
    }
   },
   "outputs": [],
   "source": [
    "# Another Code cell\n",
    "# The margin turns green (edit mode) when clicking on the cell or hitting Enter\n",
    "# The margin turns blue (command mode) when clicking in the left margin area or hitting Esc\n",
    "# In edit mode, Enter just introduces a new line\n",
    "# In either modes, Ctrl-Enter runs the contents of the cell and the In[ ] shows the execution sequence number\n",
    "\n",
    "# Type Ctrl-Enter to execute\n",
    "print('This cell is meant to print this message.')"
   ]
  },
  {
   "cell_type": "markdown",
   "id": "e3a114a1",
   "metadata": {
    "slideshow": {
     "slide_type": "slide"
    }
   },
   "source": [
    "### Running a cell\n",
    "Typing *Ctrl-Enter* in a cell while in edit mode (green) will execute the cell:\n",
    "- **Code** cells will execute the Python code and the output will be shown below the cell\n",
    "    - The **In\\[x\\]:** will then include a sequence number **x**. This is meant to keep track of the order of execution of the different cells\n",
    "- **Markdown** cells will render the markdown text\n",
    "\n",
    "In both cases, running a cell automatically returns to command mode (blue)"
   ]
  },
  {
   "cell_type": "markdown",
   "id": "6a5dc9a6",
   "metadata": {
    "slideshow": {
     "slide_type": "slide"
    }
   },
   "source": [
    "### Adding new cells\n",
    "- In command mode:\n",
    "    - **a** inserts a new cell above the current one\n",
    "    - **b** inserts a new cell below the current one\n",
    "    - **m** changes the cell type to **m**arkdown\n",
    "    - **y** changes the cell type to code (P**y**thon)"
   ]
  },
  {
   "cell_type": "markdown",
   "id": "e325c6c8",
   "metadata": {
    "slideshow": {
     "slide_type": "slide"
    }
   },
   "source": [
    "### Exercises\n",
    "To complete the exercises, exit the *slide* mode (Alt-r, or clicking the X on the upper left)\n",
    "\n",
    "All others exercise notebooks are to be executed in plain Jupyter mode"
   ]
  },
  {
   "cell_type": "markdown",
   "id": "d1b98b42",
   "metadata": {},
   "source": [
    "### 1.\n",
    "- Insert a code cell below this cell\n",
    "- Include the statement\n",
    "    - `print('This is my cell.')`\n",
    "- Run the code"
   ]
  },
  {
   "cell_type": "markdown",
   "id": "decfa1be",
   "metadata": {},
   "source": [
    "### 2.\n",
    "- Insert a markdown cell below this cell\n",
    "- Include a header saying `# Intro to Jupyter`\n",
    "- Render the cell"
   ]
  },
  {
   "cell_type": "markdown",
   "id": "33f95720",
   "metadata": {},
   "source": [
    "### 3.\n",
    "- Copy the cell that you created in exercise **1.** and insert it below this cell\n",
    "- Run it again\n",
    "- Compare the sequence number with the previous one"
   ]
  }
 ],
 "metadata": {
  "celltoolbar": "Slideshow",
  "kernelspec": {
   "display_name": "Python 3 (ipykernel)",
   "language": "python",
   "name": "python3"
  },
  "language_info": {
   "codemirror_mode": {
    "name": "ipython",
    "version": 3
   },
   "file_extension": ".py",
   "mimetype": "text/x-python",
   "name": "python",
   "nbconvert_exporter": "python",
   "pygments_lexer": "ipython3",
   "version": "3.11.7"
  }
 },
 "nbformat": 4,
 "nbformat_minor": 5
}
