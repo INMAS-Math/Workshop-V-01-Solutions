{
 "cells": [
  {
   "cell_type": "markdown",
   "id": "09fafc10",
   "metadata": {},
   "source": [
    "<img src=\"images/inmas.png\" width=130x align='right' />\n",
    "\n",
    "# Solutions to Exercise 12 - Basic Object-Oriented Programming in Python\n",
    "\n",
    "\n",
    "### Prerequisite\n",
    "Notebook 12"
   ]
  },
  {
   "cell_type": "markdown",
   "id": "191c6b23",
   "metadata": {},
   "source": [
    "### 1.\n",
    "Improving our polynomial class. The following class extends the SimplePolynomial class defined in Notebook 12.\n",
    "\n",
    "Study the code below and make sure you understand it."
   ]
  },
  {
   "cell_type": "code",
   "execution_count": null,
   "id": "1035a4d1",
   "metadata": {},
   "outputs": [],
   "source": [
    "class Polynomial():\n",
    "    ''' Class to implement polynomial objects and binary operations on polynomials.'''\n",
    "\n",
    "    def __init__(self, coeffs=[0,]):  # Initialization with default to zero\n",
    "        # Public properties\n",
    "        self.degree = len(coeffs) - 1\n",
    "        self.rep = self.str(coeffs)\n",
    "        self.coefficients = coeffs\n",
    "\n",
    "    def __repr__(self):\n",
    "        # Screen reprentation\n",
    "        return self.rep\n",
    "\n",
    "    def str(self, coeffs):\n",
    "        # Create list of nonzero terms\n",
    "        terms = [str(coeffs[k]) + 'x^' + str(k) for k in range(0, self.degree + 1) if coeffs[k] != 0]\n",
    "        # If zero polynomial, return 0\n",
    "        if len(terms) == 0:\n",
    "            return str(0)\n",
    "        # Replace 0 and 1 powers\n",
    "        if coeffs[0] != 0:\n",
    "            terms[0] = str(coeffs[0])\n",
    "        if len(coeffs) > 1 and coeffs[1] != 0:\n",
    "            terms[1] = str(coeffs[1]) + 'x'\n",
    "        # Finally, concatenate terms using +\n",
    "        return ' + '.join(terms)\n",
    "\n",
    "    def __add__(self, other):\n",
    "        '''Overloads the + operator.'''\n",
    "        d = max(self.degree, other.degree) + 1                      # max length of polynomials' coeff lists\n",
    "        self_temp = self.coefficients + [0]*(d-self.degree-1)       # pad coeffs lists with 0s until equal length\n",
    "        other_temp = other.coefficients + [0]*(d-other.degree-1)\n",
    "        new_temp = [self_temp[i] + other_temp[i] for i in range(d)] # sum coeffs lists elementwise\n",
    "        return Polynomial(new_temp)                                 # return NEW polynomial\n",
    "\n",
    "    def __mul__(self, other):\n",
    "        '''Overloads the * operator.'''\n",
    "        n = self.degree + other.degree                              # degree of the product\n",
    "        prod_coeffs = [0]*(n+1)                                     # initalize coefficient list of product\n",
    "        for i in range(0, self.degree + 1):                         # compute product\n",
    "            for j in range(0, other.degree + 1):\n",
    "                prod_coeffs[i+j] += self.coefficients[i] * other.coefficients[j]\n",
    "        return Polynomial(prod_coeffs)                              # return NEW polynomial\n",
    "\n",
    "    def __call__(self, val):\n",
    "        '''Evaluates the polynomial at x = val.'''\n",
    "        res = self.coefficients[0]\n",
    "        x = val\n",
    "        for i in range(self.degree):                                # using the loop avoid power calculation!\n",
    "            res += x*self.coefficients[i+1]\n",
    "            x *= val\n",
    "        return res"
   ]
  },
  {
   "cell_type": "markdown",
   "id": "4793d1fa",
   "metadata": {},
   "source": [
    "Let's test a few cases:"
   ]
  },
  {
   "cell_type": "code",
   "execution_count": null,
   "id": "6b16d3af",
   "metadata": {},
   "outputs": [],
   "source": [
    "p1 = Polynomial([1, 2, 5, 0, 0, 4])\n",
    "print('p1(x) = %r' % p1)\n",
    "print('p1(5) = %r' % p1(5))\n",
    "p2 = Polynomial([10, 0, 3, 7])\n",
    "print('p2 = %r' % p2)\n",
    "print('p2(2) = %r' % p2(2))\n",
    "\n",
    "p3=p1+p2\n",
    "print('    Sum p1 + p2 = %r' % p3)\n",
    "p3=p1*p2\n",
    "print('Product p1 * p2 = %r' % p3)"
   ]
  },
  {
   "cell_type": "markdown",
   "id": "a57e846e",
   "metadata": {},
   "source": [
    "---------------------------------\n",
    "<font face=\"verdana\" style=\"font-size:20px\" color=\"blue\"> Solution 1. </font>   \n"
   ]
  },
  {
   "cell_type": "markdown",
   "id": "6279cd53",
   "metadata": {},
   "source": [
    "- Code uses three standard functions:\n",
    "    - __call_ allows to call the class object as a function\n",
    "    - __mul__ allows to overload multiplication operator\n",
    "    - __add__ you figured this one by now\n",
    "    - __repr__ method is called to aget a string representation of the object\n",
    "- Notice how polynomials are multiplied\n",
    "- The representation gets called by print, or whenever a representation of the object is required"
   ]
  },
  {
   "cell_type": "markdown",
   "id": "3138e030",
   "metadata": {},
   "source": [
    "#### 2.\n",
    "Define your own simple class of complex numbers called Cplex so that they can add and multiply between them. Add a representation using 'i' for imaginary. Test it with a few cases."
   ]
  },
  {
   "cell_type": "code",
   "execution_count": null,
   "id": "d9c270dc",
   "metadata": {},
   "outputs": [],
   "source": []
  },
  {
   "cell_type": "markdown",
   "id": "d6f00e6f",
   "metadata": {},
   "source": [
    "---------------------------------\n",
    "<font face=\"verdana\" style=\"font-size:20px\" color=\"blue\"> Solution 2. </font>   \n"
   ]
  },
  {
   "cell_type": "code",
   "execution_count": null,
   "id": "dd5d78bf",
   "metadata": {},
   "outputs": [],
   "source": [
    "class Cplex:\n",
    "    '''A simple complex class for demonstration.'''\n",
    "    \n",
    "    def __init__(self, x=0, y=0):\n",
    "        self.real = x\n",
    "        self.imag = y\n",
    "        \n",
    "    def __repr__(self):\n",
    "        return '%r + i%r'%(self.real, self.imag)\n",
    "    \n",
    "    def __add__(self, z):\n",
    "        '''Complex addition'''\n",
    "        return Cplex(self.real + z.real, self.imag + z.imag)\n",
    "    \n",
    "    def __mul__(self, z):\n",
    "        return Cplex(self.real*z.real - self.imag*z.imag, self.real*z.imag + self.imag*z.real)\n",
    "    \n",
    "z1 = Cplex(1, 0)\n",
    "z2 = Cplex(2, 0)\n",
    "print('%r + %r = %r'%(z1, z2, z1 + z2))\n",
    "print('%r * %r = %r'%(z1, z2, z1 * z2))\n",
    "\n",
    "z1 = Cplex(2, 1)\n",
    "z2 = Cplex(1, 2)\n",
    "print('%r + %r = %r'%(z1, z2, z1 + z2))\n",
    "print('%r * %r = %r'%(z1, z2, z1 * z2))"
   ]
  }
 ],
 "metadata": {
  "kernelspec": {
   "display_name": "Python 3 (ipykernel)",
   "language": "python",
   "name": "python3"
  },
  "language_info": {
   "codemirror_mode": {
    "name": "ipython",
    "version": 3
   },
   "file_extension": ".py",
   "mimetype": "text/x-python",
   "name": "python",
   "nbconvert_exporter": "python",
   "pygments_lexer": "ipython3",
   "version": "3.11.7"
  }
 },
 "nbformat": 4,
 "nbformat_minor": 5
}
