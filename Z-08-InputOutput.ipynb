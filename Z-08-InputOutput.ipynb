{
 "cells": [
  {
   "cell_type": "markdown",
   "metadata": {},
   "source": [
    "<img src=\"images/inmas.png\" width=130x align='right' />\n",
    "\n",
    "# Solutions to Exercises 08 - Input and Output\n",
    "\n",
    "\n",
    "### Prerequisite\n",
    "Notebook 08\n",
    "\n",
    "----"
   ]
  },
  {
   "cell_type": "markdown",
   "metadata": {},
   "source": [
    "### 1.\n",
    "\n",
    "Using\n",
    "```\n",
    "filename = 'data/sample.txt'\n",
    "```\n",
    "\n",
    "Open the file, but this time, using the absolute path, i.e., the one starting with the root directory ('/'). (Hint: use os.path to find it.)\n",
    "\n",
    "Then print the first seven characters of the file. Make sure the file is closed by the construct you are using."
   ]
  },
  {
   "cell_type": "code",
   "execution_count": null,
   "metadata": {},
   "outputs": [],
   "source": []
  },
  {
   "cell_type": "markdown",
   "metadata": {},
   "source": [
    "---------------------------------\n",
    "<font face=\"verdana\" style=\"font-size:20px\" color=\"blue\"> Solution 1. </font>   \n"
   ]
  },
  {
   "cell_type": "code",
   "execution_count": null,
   "metadata": {},
   "outputs": [],
   "source": [
    "from os import path\n",
    "\n",
    "filename = './data/sample.txt'\n",
    "fullpath = path.abspath(filename)\n",
    "print(fullpath)\n",
    "\n",
    "with open(fullpath, 'r') as file:\n",
    "    contents = file.read()\n",
    "\n",
    "print('First 7 characters of %s are \"%s\"'%(filename, contents[:7]))"
   ]
  },
  {
   "cell_type": "markdown",
   "metadata": {},
   "source": [
    "### 2.\n",
    "\n",
    "Open the *biostats.csv* file in the *data* folder providing the named argument `delimiter= '\\t'` to the `csv.reader()` function. Print its contents."
   ]
  },
  {
   "cell_type": "code",
   "execution_count": null,
   "metadata": {},
   "outputs": [],
   "source": []
  },
  {
   "cell_type": "markdown",
   "metadata": {},
   "source": [
    "---------------------------------\n",
    "<font face=\"verdana\" style=\"font-size:20px\" color=\"blue\"> Solution 2. </font>   \n"
   ]
  },
  {
   "cell_type": "code",
   "execution_count": null,
   "metadata": {},
   "outputs": [],
   "source": [
    "import csv\n",
    "\n",
    "filename = './data/biostats.csv'\n",
    "\n",
    "with open(filename) as file:\n",
    "    reader = csv.reader(file, delimiter='\\t')\n",
    "    for row in reader:\n",
    "        print(row)"
   ]
  },
  {
   "cell_type": "markdown",
   "metadata": {},
   "source": [
    "### 3.\n",
    "\n",
    "Open the *biostats.csv* file using pandas. What happens? How do you fix it?"
   ]
  },
  {
   "cell_type": "code",
   "execution_count": null,
   "metadata": {},
   "outputs": [],
   "source": []
  },
  {
   "cell_type": "markdown",
   "metadata": {},
   "source": [
    "---------------------------------\n",
    "<font face=\"verdana\" style=\"font-size:20px\" color=\"blue\"> Solution 3. </font>   \n"
   ]
  },
  {
   "cell_type": "code",
   "execution_count": null,
   "metadata": {},
   "outputs": [],
   "source": [
    "import pandas as pd\n",
    "\n",
    "filename = './data/biostats.csv'\n",
    "\n",
    "# Needs delimiter set to TAB as well\n",
    "pd.read_csv(filename, delimiter='\\t')"
   ]
  },
  {
   "cell_type": "markdown",
   "metadata": {},
   "source": [
    "### 4.\n",
    "\n",
    "Create a file called sample2.txt within the data folder that contains the two lines 'Hello' and 'World!'.\n",
    "\n",
    "```python\n",
    "# Writing file using write()\n",
    "lines = ['Hello', 'World!']\n",
    "\n",
    "with open(\"data/sample2.txt\", 'w') as f:\n",
    "    ...\n",
    "```"
   ]
  },
  {
   "cell_type": "code",
   "execution_count": null,
   "metadata": {},
   "outputs": [],
   "source": []
  },
  {
   "cell_type": "markdown",
   "metadata": {},
   "source": [
    "---------------------------------\n",
    "<font face=\"verdana\" style=\"font-size:20px\" color=\"blue\"> Solution 4. </font>   \n"
   ]
  },
  {
   "cell_type": "code",
   "execution_count": null,
   "metadata": {},
   "outputs": [],
   "source": [
    "# Writing file using write()\n",
    "lines = ['Hello', 'World!']\n",
    "\n",
    "with open(\"./data/sample2.txt\", 'w') as f:\n",
    "    for line in lines:\n",
    "        f.write(line)\n",
    "        f.write('\\n')"
   ]
  },
  {
   "cell_type": "markdown",
   "metadata": {},
   "source": [
    "### 5.\n",
    "\n",
    "Open *sample2.txt* and print its contents to see what the code in the previous cell did. Number each line at the beginning."
   ]
  },
  {
   "cell_type": "code",
   "execution_count": null,
   "metadata": {},
   "outputs": [],
   "source": []
  },
  {
   "cell_type": "markdown",
   "metadata": {},
   "source": [
    "---------------------------------\n",
    "<font face=\"verdana\" style=\"font-size:20px\" color=\"blue\"> Solution 5. </font>   \n"
   ]
  },
  {
   "cell_type": "code",
   "execution_count": null,
   "metadata": {
    "scrolled": true
   },
   "outputs": [],
   "source": [
    "with open(\"./data/sample2.txt\", 'r') as file:\n",
    "    i = 1\n",
    "    for line in file.readlines():\n",
    "        print('%d: %s'%(i, line), end='')\n",
    "        i += 1"
   ]
  },
  {
   "cell_type": "markdown",
   "metadata": {},
   "source": [
    "### 6.\n",
    "\n",
    "Read the file *data/sample.txt* and convert all characters to uppercase. Then write the results to a file *data/sample3.txt* using `with` statement."
   ]
  },
  {
   "cell_type": "code",
   "execution_count": null,
   "metadata": {},
   "outputs": [],
   "source": []
  },
  {
   "cell_type": "markdown",
   "metadata": {},
   "source": [
    "---------------------------------\n",
    "<font face=\"verdana\" style=\"font-size:20px\" color=\"blue\"> Solution 6. </font>   \n"
   ]
  },
  {
   "cell_type": "code",
   "execution_count": null,
   "metadata": {},
   "outputs": [],
   "source": [
    "filename_in = './data/sample.txt'\n",
    "filename_out = './data/sample3.txt'\n",
    "\n",
    "with open(filename_in, 'r') as file:\n",
    "    contents = file.read()\n",
    "\n",
    "contents = contents.upper()\n",
    "\n",
    "with open(filename_out, 'w') as file:\n",
    "    file.write(contents)"
   ]
  },
  {
   "cell_type": "markdown",
   "metadata": {},
   "source": [
    "### 7.\n",
    "- Create a function that counts the number of times a certain word appears in a text file.\n",
    "- Use it to count the number of times the word *Python* appears in all notebooks in this directory (all files starting with 'N-'). (Hint: use the `glob` module)"
   ]
  },
  {
   "cell_type": "code",
   "execution_count": null,
   "metadata": {},
   "outputs": [],
   "source": []
  },
  {
   "cell_type": "markdown",
   "metadata": {},
   "source": [
    "---------------------------------\n",
    "<font face=\"verdana\" style=\"font-size:20px\" color=\"blue\"> Solution 7. </font>   \n"
   ]
  },
  {
   "cell_type": "code",
   "execution_count": null,
   "metadata": {},
   "outputs": [],
   "source": [
    "def wordCount(filename, word):\n",
    "    '''A function that counts the number of words in a text file.'''\n",
    "    with open(filename, 'r') as file:\n",
    "        contents = file.read()\n",
    "        return contents.count(word)\n",
    "\n",
    "import glob\n",
    "\n",
    "n = 0\n",
    "for file in glob.glob('./N-*'):\n",
    "    n += wordCount(file, 'Python')\n",
    "    \n",
    "print('Occurences of the word Python in notebooks:', n)"
   ]
  },
  {
   "cell_type": "markdown",
   "metadata": {},
   "source": [
    "### 8.*\n",
    "Given the following lists of data:"
   ]
  },
  {
   "cell_type": "code",
   "execution_count": null,
   "metadata": {},
   "outputs": [],
   "source": [
    "data0 = [[0, 1, 2, 3, 4, 5, 6, 7, 8, 9, 10],\n",
    "         [1e-4, 0.124, .2655, .369, .4357686, .5293, .672435, .753878, .83432, .91233, 1.004]]"
   ]
  },
  {
   "cell_type": "markdown",
   "metadata": {},
   "source": [
    "- Save the list data0 to a file called *mydata.dat*.\n",
    "- Then read the data back to a different list called data1.\n",
    "- Compare data0 with data1."
   ]
  },
  {
   "cell_type": "code",
   "execution_count": null,
   "metadata": {},
   "outputs": [],
   "source": []
  },
  {
   "cell_type": "markdown",
   "metadata": {},
   "source": [
    "---------------------------------\n",
    "<font face=\"verdana\" style=\"font-size:20px\" color=\"blue\"> Solution 8. </font>   \n"
   ]
  },
  {
   "cell_type": "code",
   "execution_count": null,
   "metadata": {},
   "outputs": [],
   "source": [
    "import ast\n",
    "\n",
    "data0 = [[0, 1, 2, 3, 4, 5, 6, 7, 8, 9, 10],\n",
    "         [1e-4, 0.124, .2655, .369, .4357686, .5293, .672435, .753878, .83432, .91233, 1.004]]\n",
    "\n",
    "myfile = './data/mydata.dat'\n",
    "with open(myfile, 'w') as file:\n",
    "    file.write(str(data0))\n",
    "\n",
    "with open(myfile, 'r') as file:\n",
    "    strlist = file.read()\n",
    "\n",
    "data1 = ast.literal_eval(strlist)\n",
    "print('data0:', data0)\n",
    "print('data1:', data1)\n",
    "delta = 0\n",
    "for i in range(len(data0)):\n",
    "    for x, y in zip(data0[i], data1[i]):\n",
    "        delta += abs(x - y)\n",
    "\n",
    "print('Difference is %e.'%delta)"
   ]
  }
 ],
 "metadata": {
  "kernelspec": {
   "display_name": "Python 3 (ipykernel)",
   "language": "python",
   "name": "python3"
  },
  "language_info": {
   "codemirror_mode": {
    "name": "ipython",
    "version": 3
   },
   "file_extension": ".py",
   "mimetype": "text/x-python",
   "name": "python",
   "nbconvert_exporter": "python",
   "pygments_lexer": "ipython3",
   "version": "3.11.7"
  }
 },
 "nbformat": 4,
 "nbformat_minor": 1
}
