{
 "cells": [
  {
   "cell_type": "markdown",
   "metadata": {},
   "source": [
    "<img src=\"images/inmas.png\" width=130x align='right' />\n",
    "\n",
    "# Solutions to Exercise 16 - More Advanced NumPy\n",
    "\n",
    "\n",
    "### Prerequisite\n",
    "Notebook 16"
   ]
  },
  {
   "cell_type": "markdown",
   "metadata": {},
   "source": [
    "### 1.\n",
    "Using the following data"
   ]
  },
  {
   "cell_type": "code",
   "execution_count": null,
   "metadata": {},
   "outputs": [],
   "source": [
    "data = np.genfromtxt('./data/stockholm_td_adj.csv', delimiter=',', skip_header=1)\n",
    "months = ['January', 'February', 'March',\n",
    "          'April', 'May', 'June',\n",
    "          'July', 'August', 'September',\n",
    "          'October', 'November', 'December',\n",
    "         ]"
   ]
  },
  {
   "cell_type": "markdown",
   "metadata": {},
   "source": [
    "1.   Extract the mean monthly average temperatures for each month of the year.\n",
    "2.   Plot the extracted mean values by months, with the proper month labeling."
   ]
  },
  {
   "cell_type": "code",
   "execution_count": null,
   "metadata": {},
   "outputs": [],
   "source": []
  },
  {
   "cell_type": "markdown",
   "metadata": {},
   "source": [
    "---------------------------------\n",
    "<font face=\"verdana\" style=\"font-size:20px\" color=\"blue\"> Solution 1. </font>   \n"
   ]
  },
  {
   "cell_type": "code",
   "execution_count": null,
   "metadata": {
    "scrolled": true
   },
   "outputs": [],
   "source": [
    "import numpy as np\n",
    "import matplotlib.pyplot as plt\n",
    "from datetime import datetime\n",
    "\n",
    "data = np.genfromtxt('../data/stockholm_td_adj.csv', delimiter=',', skip_header=1)\n",
    "months = ['January', 'February', 'March',\n",
    "          'April', 'May', 'June',\n",
    "          'July', 'August', 'September',\n",
    "          'October', 'November', 'December',\n",
    "         ]\n",
    "\n",
    "# Handle fractional year correctly (from previous exercise)\n",
    "fracyear = np.zeros_like(data[:,0])\n",
    "for i in range(len(data[:, 0])):\n",
    "    dayoftheyear = datetime(int(data[i, 0]), int(data[i, 1]), int(data[i, 2])).timetuple().tm_yday\n",
    "    # Divide by December 31st of that year to account for leap years\n",
    "    fracyear[i] = data[i, 0] + dayoftheyear/datetime(int(data[1, 0]), 12, 31).timetuple().tm_yday\n",
    "\n",
    "mdata = np.vstack((fracyear, data[:,1], data[:,3]))\n",
    "print(mdata.shape)\n",
    "fig, ax = plt.subplots(figsize=(14,4))\n",
    "for m in range(12):\n",
    "    mask = mdata[1,:] == m\n",
    "    ax.plot(mdata[0, mask], mdata[2, mask], label=months[m])\n",
    "    \n",
    "ax.axis('tight')\n",
    "ax.set_title('temperatures in Stockholm')\n",
    "ax.set_xlabel('year')\n",
    "ax.set_ylabel('temperature (C)')\n",
    "ax.legend();"
   ]
  },
  {
   "cell_type": "markdown",
   "metadata": {},
   "source": [
    "### 2.*\n",
    "__Newton's method__\n",
    "\n",
    "This problem has three parts: \n",
    "\n",
    "* __2.1__: [Newton's Method](https://en.wikipedia.org/wiki/Newton%27s_method) is a root finding method that uses linear approximation. In particular, we guess a solution $x_0$ of the equation $f(x)= 0$, compute the linear approximation of $f(x)$ at $x_0$ and then find the x-intercept of the linear approximation. The general scheme of Newton's method may be written as: \n",
    "$$ x_{n+1} = x_n - \\dfrac{f(x_n)}{f'(x_n)} $$ for $n=0,1, 2, ...$. The computation is repeated until $f(x_n)$ is close enough to zero. More precisely, we test if $|f(x_n)|< \\epsilon$ , with $\\epsilon$ being a small number. Write a function that returns an approximation of a solution of  $f(x)=0$ by Newton's method. Make sure that your function prints out an array containing the approximations as a function of iterations. \n",
    "    \n",
    "* __2.2__: Let $f(x)= x^2- 9$. Using the function from Part 1, calculate an approximation for the solution of $f(x)=0$ using $x_0= 1000$ and $\\epsilon= 0.01$. Make a convergence plot of the approximate solution as a function of iteration. Make this plot a scatter plot with scales log linear (x axis linear, y axis logarithmic).\n",
    "    \n",
    "* __2.3__: Create a Figure with two subplots, one next to the other. \n",
    "    * First plot: Plot the function $f(x)$ using `x=np.arange(0, 10)`. You should label where the solution to $f(x)=0$ is at, i.e. label the point $(3,0)$. Draw a horizontal line at $y =0$, you can use `plt.hlines()`.\n",
    "    * Second plot: Plot the array from Part 2. \n",
    "    \n",
    "    Make sure each graph has a title, labels, and correct limits."
   ]
  },
  {
   "cell_type": "code",
   "execution_count": null,
   "metadata": {},
   "outputs": [],
   "source": []
  },
  {
   "cell_type": "markdown",
   "metadata": {},
   "source": [
    "---------------------------------\n",
    "<font face=\"verdana\" style=\"font-size:20px\" color=\"blue\"> Solution 2. </font>   \n"
   ]
  },
  {
   "cell_type": "code",
   "execution_count": null,
   "metadata": {},
   "outputs": [],
   "source": [
    "import numpy as np\n",
    "import matplotlib.pyplot as plt\n",
    "\n",
    "def f(x):\n",
    "    '''Function to find zero.'''\n",
    "    return x**2 - 9 \n",
    "\n",
    "\n",
    "def df(x):\n",
    "    '''Derivative of function.'''\n",
    "    return 2*x\n",
    "\n",
    "\n",
    "def newton(f, df, x0, eps):\n",
    "    '''Newton\\'s method for root finding.'''\n",
    "    mylist = []\n",
    "    x = x0\n",
    "    it = 0\n",
    "    while abs(f(x)) > eps:\n",
    "        x = x - f(x)/df(x)\n",
    "        mylist.append(x)\n",
    "        it += 1\n",
    "    return it, mylist\n",
    "\n",
    "\n",
    "niter, values = newton(f, df, 1000, 0.01)\n",
    "\n",
    "# Create figure and subplots\n",
    "x = np.arange(0, 10, 1)\n",
    "fig, (ax1, ax2) = plt.subplots(1,2, figsize=(10,4))\n",
    "\n",
    "# plot of first graph\n",
    "ax1.plot(x , f(x), color= 'purple')\n",
    "ax1.axhline(y=0, color='grey', linestyle=':')\n",
    "\n",
    "# Title, x and y labels, x and y limits\n",
    "ax1.set_title('Plot of $f(x) = x^2 -9$')\n",
    "ax1.set_ylabel('$f(x)= x^2 -9$')\n",
    "ax1.set_xlabel('x')\n",
    "ax1.set_xlim(-1, 10)\n",
    "ax1.set_ylim(-10, 100)\n",
    "ax1.annotate('/__  (3,0)', (3,0))\n",
    "\n",
    "# plot of second graph\n",
    "ax2.scatter(range(1, niter+1), values, color='green', marker='*')\n",
    "ax2.set_yscale('log')\n",
    "ax2.set_title('Convergence of Solution')\n",
    "ax2.set_ylabel('Approximation') \n",
    "ax2.set_xlabel('Number of Iterations')\n",
    "ax2.set_xlim(0, 11)\n",
    "# ax2.axhline(y=0, color='gray', linestyle=':');\n",
    "# ax2.set_ylim(0, 500);"
   ]
  },
  {
   "cell_type": "markdown",
   "metadata": {},
   "source": [
    "### 3.*\n",
    "\n",
    "__Euler's method for solving ordinary differential equation__\n",
    "\n",
    "For a first order ordinary differential equation, \n",
    "$$\\frac{dS(t)}{dt} = F(t, S(t))$$\n",
    "the linear approximation of $S(t)$ around $t_j$ at $t_{j+1}$ is called the *Explicit Euler Formula* :\n",
    "$$ S(t_{j+1})= S(t_j) + hF(t_j, S(t_j))$$\n",
    "where $h = t_{j+1} - t_j$ is a stepsize of the interval $[t_0, t_f]$.\n",
    "Given initial value of $S_0 = S(t_0)$, we can use the formula to integrate the states up to $S(t_f)$. These $S(t)$ values are an approximated solution of the differential equation.\n",
    "\n",
    "Consider the differential equation \n",
    "$$\\frac{df(t)}{dt} = e^{-t} $$ with initial condition $f(0)=−1$.  Approximate the solution to this initial value problem between 0 and 1 in increments of 0.01 using the Euler's method. Plot the approximated solution with the exact solution. Note that the exact solution is $f(t)=-e^{-t}$."
   ]
  },
  {
   "cell_type": "code",
   "execution_count": null,
   "metadata": {},
   "outputs": [],
   "source": []
  },
  {
   "cell_type": "markdown",
   "metadata": {},
   "source": [
    "---------------------------------\n",
    "<font face=\"verdana\" style=\"font-size:20px\" color=\"blue\"> Solution 3. </font>   \n"
   ]
  },
  {
   "cell_type": "code",
   "execution_count": null,
   "metadata": {},
   "outputs": [],
   "source": [
    "# Define ODE\n",
    "f = lambda t, s: np.exp(-t) \n",
    "\n",
    "# Step size\n",
    "h = 0.01 \n",
    "t = np.arange(0, 1 + h, h) \n",
    "\n",
    "# Solutions using Euler Method\n",
    "S = np.zeros(len(t))\n",
    "\n",
    "# Initial Conditions\n",
    "S[0] = -1\n",
    "\n",
    "# Easier to use a loop in cases where values have different indices \n",
    "for i in range(0, len(t) - 1):\n",
    "    S[i + 1] = S[i] + h*f(t[i], S[i])\n",
    "\n",
    "plt.figure(figsize = (7, 5))\n",
    "plt.plot(t, S, 'b', label='Approximate')\n",
    "plt.plot(t, -np.exp(-t), 'r--', label='Exact')\n",
    "plt.title('Approximate and Exact Solutions for $f(t) = e^{-t}, f(0) = -1$')\n",
    "plt.xlabel('$t$')\n",
    "plt.ylabel('$f(t)$')\n",
    "plt.legend(loc='best');"
   ]
  },
  {
   "cell_type": "markdown",
   "metadata": {},
   "source": [
    "#### 4.\n",
    "Can the transpose of a matrix be obtained through the `reshape` method? Explain."
   ]
  },
  {
   "cell_type": "code",
   "execution_count": null,
   "metadata": {},
   "outputs": [],
   "source": []
  },
  {
   "cell_type": "markdown",
   "metadata": {},
   "source": [
    "---------------------------------\n",
    "<font face=\"verdana\" style=\"font-size:20px\" color=\"blue\"> Solution 4. </font>   \n"
   ]
  },
  {
   "cell_type": "code",
   "execution_count": null,
   "metadata": {},
   "outputs": [],
   "source": []
  }
 ],
 "metadata": {
  "kernelspec": {
   "display_name": "Python 3 (ipykernel)",
   "language": "python",
   "name": "python3"
  },
  "language_info": {
   "codemirror_mode": {
    "name": "ipython",
    "version": 3
   },
   "file_extension": ".py",
   "mimetype": "text/x-python",
   "name": "python",
   "nbconvert_exporter": "python",
   "pygments_lexer": "ipython3",
   "version": "3.11.7"
  }
 },
 "nbformat": 4,
 "nbformat_minor": 4
}
