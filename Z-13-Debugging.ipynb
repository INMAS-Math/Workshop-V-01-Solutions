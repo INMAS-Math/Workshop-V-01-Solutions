{
 "cells": [
  {
   "cell_type": "markdown",
   "id": "cb5140ef",
   "metadata": {},
   "source": [
    "<img src=\"images/inmas.png\" width=130x align='right' />\n",
    "\n",
    "# Solutions to Exercise 13 - Debugging\n",
    "\n",
    "\n",
    "### Prerequisite\n",
    "Notebook 13"
   ]
  },
  {
   "cell_type": "markdown",
   "id": "c0d160da",
   "metadata": {},
   "source": [
    "### 1.\n",
    "The Python debugger can be run interactively, or through the Jupyter Notebook reader as"
   ]
  },
  {
   "cell_type": "code",
   "execution_count": null,
   "id": "5bde5807",
   "metadata": {},
   "outputs": [],
   "source": [
    "%pdb on"
   ]
  },
  {
   "cell_type": "markdown",
   "id": "93d2548d",
   "metadata": {},
   "source": [
    "From now on, the Python debugger will be called when an exception is raised, or when a breakpoint is set (using pdb.set_trace()).\n",
    "\n",
    "We will now go though the exercise of debugging a game written by Spiro Sideris to learn arithmetics by adding values on a series of dice. Let's play it a few runs until..."
   ]
  },
  {
   "cell_type": "code",
   "execution_count": null,
   "id": "d6690374",
   "metadata": {},
   "outputs": [],
   "source": [
    "%run ./Code_13/main.py"
   ]
  },
  {
   "cell_type": "markdown",
   "id": "febf13ee",
   "metadata": {},
   "source": [
    "The game seems to be broken as the dice are not added correctly, and an exception gets thrown when we quit playing for some reason. As you can see, the debugger was called once an exception happened. This is shown by the pdb prompt and the additional input rectangle. \n",
    "\n",
    "At this point, we haven't discussed how to use pdb. So let's turn it off, but before we need to quit the debugger at the `ipdb>` prompt by typing 'q'."
   ]
  },
  {
   "cell_type": "markdown",
   "id": "71ed6604",
   "metadata": {},
   "source": [
    "---------------------------------------------------------------\n",
    "\n",
    "### Python debugger command cheat sheet\n",
    "With only a few commands, you will be able to achieve a lot in pdb. Here they are:\n",
    "- l (list)- Display 11 lines from where the current execution line is\n",
    "- s (step) - Execute one step from the current execution line\n",
    "- n (next) - Execute one step in the current function without going down in subfunctions\n",
    "- b (break) ... - set a break point at...\n",
    "- r (return) - Continue execution in current function until it returns\n",
    "- c (continue) - Continue the execution until next break point if any, or program termination\n",
    "- h (help) - Will list all commands. 'help list' will give you help on list\n",
    "- q (quit) - quit debugger.\n",
    "\n",
    "Typing the name of a variable will display its value. This means that variables called 'r', or 'l' are out of luck. Remember this when calling your variables in Python. Regardless of the software development environment that you use, these debugging commands are always the same.\n",
    "\n",
    "-------------------------------------------------\n"
   ]
  },
  {
   "cell_type": "markdown",
   "id": "13a04701",
   "metadata": {},
   "source": [
    "### 1.1\n",
    "We will now manually set a breakpoint in the code. In another tab, edit file 'Code_13/main.py' and add a line as follows:\n",
    "```python\n",
    "from dicegame.runner import GameRunner\n",
    "\n",
    "def main():\n",
    "    print(\"Add the values of the dice\")\n",
    "    print(\"It's really that easy\")\n",
    "    print(\"What are you doing with your life.\")\n",
    "    import pdb; pdb.set_trace() # add pdb here\n",
    "    GameRunner.run()\n",
    "\n",
    "if __name__ == \"__main__\":\n",
    "    main()\n",
    "\n",
    "```\n",
    "Now let's run it again... And slowly go through the instructions in the next cell by typing these commands at the `>ipdb` prompt.\n"
   ]
  },
  {
   "cell_type": "code",
   "execution_count": null,
   "id": "df64a379",
   "metadata": {},
   "outputs": [],
   "source": [
    "%run ./Code_13/main.py"
   ]
  },
  {
   "cell_type": "markdown",
   "id": "a8eda0ad",
   "metadata": {},
   "source": [
    "### 1.2*\n",
    "The line we added hasn't done much except stop the execution of the script right after the `set_trace()` line, before entering the `run()` function. This allows us to slowly step through the code (using the 's' command). The displayed '->' in the source code shows where the execution is at. One step and we enter the run() function. One more and we land on variable 'c' that is getting initialized. Bad name, as it would conflict with the c(ontinue) command of the debugger if we were to interrogate its value. Its value, however,  can still be displayed using `print(c)` at the debugger's prompt. Now let's use 'n' to avoid going down in the rabbit hole of called sub functions.\n",
    "- Call 'n' a few more times until you get to the `for` loop on line 31.\n",
    "- Look at the length of the `for` loop by typing `len(runner.dice)`.\n",
    "- At this point, we could call 'n' 5 more times, but instead we will set a breakpoint at line 34 using `b 34`.\n",
    "- Using 'c' (continue) we can execute until this new breakpoint. We just jumped over the `for` loop.\n",
    "- Breakpoints can be displayed by using the 'b' command without any argument. To clear the break point we just hit, we use the 'clear Num' function on the 'Num' displayed in the leftmost column. Therefore, 'cl 1' would clear the breakpoint we just set.\n",
    "- We are still at line 34 of the runner.py source file.\n",
    "\n",
    "- Our script had two issues: (1) It couldn't add dice properly and (2) it threw an exception after quiting to play. Line 37 contains the statement where dice are added. The addition error has to be where the `guess == runner.answer()` equality condition. We 'n' to line 35 where we will need to input our answer. \n",
    "- We 'n' again to line 37 where we will step 's' to go into `runner.answer()` and investigate.\n",
    "- Our first step into `runner.answer()` lands on line 15 on the `answer()` definition. It doesn't look like the `total` variable is correctly adding the values of the dice.\n",
    "- Jump into the `for` loop on line 18 by either setting a breakpoint and continue, or using next a few times.\n",
    "- Use `dir(die)` to check whether a `die` has an attibute which would contain its value. \n",
    "- We can compare the value of the die with what is shown using `die.value` and `die.show()`. Note that the `\\n` characters can be interpreted using `print(die.show())`. Value and die seem to match. The error is that total does not properly add values while it is iterating over the dice. We found one bug and its solution so that you now know how to fix the `answer()` method.\n",
    "\n",
    "- We can now continue and try to find the other bug. We instruct the debugger to return from the answer() function by typing 'r' and jump to the last line (19) of the answer() function.\n",
    "- 'total' will display the value of the variable, confirming that the loop is counting dice rather than adding their values.\n"
   ]
  },
  {
   "cell_type": "markdown",
   "id": "ebb14929",
   "metadata": {},
   "source": [
    "### 1.3*\n",
    "The script contains a few more bugs. Use the `pdb` commands you just learnt to investigate and fix the game."
   ]
  },
  {
   "cell_type": "markdown",
   "id": "122ba08d",
   "metadata": {},
   "source": [
    "### 1.4*\n",
    "File 'Code_13/README.md' contains additional topics such as post-mortem analysis. These methods are helpful for debugging a script after a crash as opposed to interactively as we did."
   ]
  }
 ],
 "metadata": {
  "kernelspec": {
   "display_name": "Python 3 (ipykernel)",
   "language": "python",
   "name": "python3"
  },
  "language_info": {
   "codemirror_mode": {
    "name": "ipython",
    "version": 3
   },
   "file_extension": ".py",
   "mimetype": "text/x-python",
   "name": "python",
   "nbconvert_exporter": "python",
   "pygments_lexer": "ipython3",
   "version": "3.11.7"
  }
 },
 "nbformat": 4,
 "nbformat_minor": 5
}
