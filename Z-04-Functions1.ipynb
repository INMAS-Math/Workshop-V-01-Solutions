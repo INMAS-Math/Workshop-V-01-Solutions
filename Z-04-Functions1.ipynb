{
 "cells": [
  {
   "cell_type": "markdown",
   "metadata": {},
   "source": [
    "<img src=\"images/inmas.png\" width=130x align=right />\n",
    "\n",
    "# Solutions to Exercises 04 - Functions 1\n",
    "\n",
    "\n",
    "### Prerequisite\n",
    "Notebook 04"
   ]
  },
  {
   "cell_type": "markdown",
   "metadata": {},
   "source": [
    "### 1.\n",
    "Create a function that takes two arguments $x$ and $y$ and returns\n",
    "\n",
    "$$\n",
    "cos(x \\; \\pi) + sin(y \\; \\pi) \n",
    "$$\n",
    "\n",
    "Suppose your function was called $f$ then call\n",
    "```\n",
    "f(2,3)\n",
    "```\n",
    "and\n",
    "```\n",
    "f(\"2\",\"3\")\n",
    "```\n",
    "\n",
    "What do you observe?"
   ]
  },
  {
   "cell_type": "code",
   "execution_count": null,
   "metadata": {},
   "outputs": [],
   "source": []
  },
  {
   "cell_type": "code",
   "execution_count": null,
   "metadata": {},
   "outputs": [],
   "source": [
    "print(f(2, 3))\n",
    "print(f('2','3'))"
   ]
  },
  {
   "cell_type": "markdown",
   "metadata": {},
   "source": [
    "---------------------------------\n",
    "<font face=\"verdana\" style=\"font-size:20px\" color=\"blue\"> Solution 1. </font>   \n"
   ]
  },
  {
   "cell_type": "code",
   "execution_count": null,
   "metadata": {},
   "outputs": [],
   "source": [
    "import math as m\n",
    "\n",
    "def f(x, y):\n",
    "    '''A simple test function.'''\n",
    "    return m.cos(x*m.pi) + m.sin(y*m.pi)\n",
    "\n",
    "print(f(2, 3))\n",
    "\n",
    "# Passing strings to cos and sin will result in TypeError exception being raised\n",
    "# print(f('2','3'))"
   ]
  },
  {
   "cell_type": "markdown",
   "metadata": {},
   "source": [
    "### 2.\n",
    "\n",
    "Make a function, that takes two arguments $x$ and $y$ and returns\n",
    "\n",
    "$$\n",
    "x+y \n",
    "$$\n",
    "\n",
    "Suppose your function was called $f$ then call\n",
    "```\n",
    "f(2, 3)\n",
    "```\n",
    "and\n",
    "```\n",
    "f('2', '3')\n",
    "```\n",
    "What do you observe?\n"
   ]
  },
  {
   "cell_type": "code",
   "execution_count": null,
   "metadata": {},
   "outputs": [],
   "source": []
  },
  {
   "cell_type": "code",
   "execution_count": null,
   "metadata": {},
   "outputs": [],
   "source": [
    "print(f(2, 3))\n",
    "print(f('2','3'))"
   ]
  },
  {
   "cell_type": "markdown",
   "metadata": {},
   "source": [
    "---------------------------------\n",
    "<font face=\"verdana\" style=\"font-size:20px\" color=\"blue\"> Solution 2. </font>   \n"
   ]
  },
  {
   "cell_type": "code",
   "execution_count": null,
   "metadata": {},
   "outputs": [],
   "source": [
    "def f(x, y):\n",
    "    '''A simple test function.'''\n",
    "    return x + y\n",
    "\n",
    "print(f(2, 3))\n",
    "\n",
    "# Passing strings to operator + is legit\n",
    "print(f('2','3'))"
   ]
  },
  {
   "cell_type": "markdown",
   "metadata": {},
   "source": [
    "### 3.\n",
    "Create a function that..."
   ]
  },
  {
   "cell_type": "markdown",
   "metadata": {},
   "source": [
    "#### 3.1\n",
    "...takes a list of numbers and returns the mean of the list."
   ]
  },
  {
   "cell_type": "code",
   "execution_count": null,
   "metadata": {},
   "outputs": [],
   "source": []
  },
  {
   "cell_type": "markdown",
   "metadata": {},
   "source": [
    "#### 3.2\n",
    "...checks whether a number is prime or not."
   ]
  },
  {
   "cell_type": "code",
   "execution_count": null,
   "metadata": {},
   "outputs": [],
   "source": []
  },
  {
   "cell_type": "markdown",
   "metadata": {},
   "source": [
    "#### 3.3\n",
    "...returns a list of all the prime numbers between 2 and input argument."
   ]
  },
  {
   "cell_type": "code",
   "execution_count": null,
   "metadata": {},
   "outputs": [],
   "source": []
  },
  {
   "cell_type": "markdown",
   "metadata": {},
   "source": [
    "---------------------------------\n",
    "<font face=\"verdana\" style=\"font-size:20px\" color=\"blue\"> Solution 3. </font>   \n"
   ]
  },
  {
   "cell_type": "code",
   "execution_count": null,
   "metadata": {},
   "outputs": [],
   "source": [
    "def mean(alist):\n",
    "    '''Return mean value of a list of values.'''\n",
    "    return sum(alist)/len(alist)\n",
    "\n",
    "def isPrime(num):\n",
    "    '''Test if number is prime.'''\n",
    "    assert num > 0\n",
    "    if num == 1:\n",
    "        return False\n",
    "    if num == 2:\n",
    "        return True\n",
    "    for i in range(2, num):\n",
    "        if num % i == 0:\n",
    "            return False\n",
    "    return True\n",
    "\n",
    "def allPrimes(num):\n",
    "    '''Return a list of all primes up to num.'''\n",
    "    alist = []\n",
    "    for i in range(2, num):\n",
    "        if isPrime(i):\n",
    "            alist.append(i)\n",
    "\n",
    "    return alist\n",
    "\n",
    "print(allPrimes(512))"
   ]
  },
  {
   "cell_type": "markdown",
   "metadata": {},
   "source": [
    "\n",
    "### 4.*\n",
    "#### Trapping rainwater problem:\n",
    "\n",
    "An elevation map shows the different heights at different points on a region on a map.\n",
    "Given non-negative integers representing an elevation map where the width of each bar is 1, find the maximum amount of water that can be trapped within the map after raining (assuming infinite rainfall).\n",
    "\n",
    "For example, if elevation_map = [7, 0, 4, 2, 5, 0, 6, 4, 0, 5], total units of trapped water is 25. \n",
    "\n",
    "![Water Trap ex](https://www.techiedelight.com/wp-content/uploads/Rain-Water-Trapping.png)\n",
    "\n",
    "Hint: Traverse the list and find the highest bars on the left and right sides."
   ]
  },
  {
   "cell_type": "code",
   "execution_count": null,
   "metadata": {},
   "outputs": [],
   "source": []
  },
  {
   "cell_type": "markdown",
   "metadata": {},
   "source": [
    "---------------------------------\n",
    "<font face=\"verdana\" style=\"font-size:20px\" color=\"blue\"> Solution 4. </font>   \n"
   ]
  },
  {
   "cell_type": "code",
   "execution_count": null,
   "metadata": {},
   "outputs": [],
   "source": [
    "def water_trap(elevation_map:list):\n",
    "    '''Returns the amount of water trapped.'''\n",
    "\n",
    "    n = len(elevation_map)\n",
    "\n",
    "    left_max = [elevation_map[0]]      # list of running max from left\n",
    "    right_max = [elevation_map[-1]]    # list of running max from right\n",
    "\n",
    "    for i in range(1, n):\n",
    "        left_max.append(max(left_max[i-1], elevation_map[i]))\n",
    "        right_max.append(max(right_max[i-1], elevation_map[n-1-i]))\n",
    "  \n",
    "    right_max = right_max[::-1]\n",
    "  \n",
    "    storage = 0                        # the amount of water trapped\n",
    "    for i in range(1,n):\n",
    "        storage += min(left_max[i], right_max[i]) - elevation_map[i]\n",
    "        \n",
    "    return storage\n",
    "\n",
    "elevation_map = [7, 0, 4, 2, 5, 0, 6, 4, 0, 5]\n",
    "water_trap(elevation_map)"
   ]
  },
  {
   "cell_type": "markdown",
   "metadata": {},
   "source": [
    "### 5.\n",
    "Define a function that..."
   ]
  },
  {
   "cell_type": "markdown",
   "metadata": {},
   "source": [
    "#### 5.1 \n",
    "...requires 2 arguments"
   ]
  },
  {
   "cell_type": "code",
   "execution_count": null,
   "metadata": {},
   "outputs": [],
   "source": []
  },
  {
   "cell_type": "markdown",
   "metadata": {},
   "source": [
    "#### 5.2\n",
    "...requires 1 argument, but has two other optional ones "
   ]
  },
  {
   "cell_type": "code",
   "execution_count": null,
   "metadata": {},
   "outputs": [],
   "source": []
  },
  {
   "cell_type": "markdown",
   "metadata": {},
   "source": [
    "#### 5.3 \n",
    "...only takes named arguments as **kwargs"
   ]
  },
  {
   "cell_type": "code",
   "execution_count": null,
   "metadata": {},
   "outputs": [],
   "source": []
  },
  {
   "cell_type": "markdown",
   "metadata": {},
   "source": [
    "---------------------------------\n",
    "<font face=\"verdana\" style=\"font-size:20px\" color=\"blue\"> Solution 5. </font>   \n"
   ]
  },
  {
   "cell_type": "code",
   "execution_count": null,
   "metadata": {},
   "outputs": [],
   "source": [
    "def f(a, b):\n",
    "    '''Example of function requiring two arguments.'''\n",
    "    return a + b\n",
    "\n",
    "def g(a, b=0, c=1):\n",
    "    '''Example of function requiring one argument and two optional ones.'''\n",
    "    return a * c + b\n",
    "\n",
    "def h(**kwargs):\n",
    "    '''Example of a function only taking named arguments.'''\n",
    "    return kwargs\n",
    "\n",
    "print('f(1, 2) = ', f(1, 2))\n",
    "print('g(1) = ', g(1))\n",
    "print('g(1, 2) = ', g(1, 2))\n",
    "print('h(a=1, b=2, line=\"no\") = ', h(a=1, b=2, line=\"no\"))"
   ]
  },
  {
   "cell_type": "markdown",
   "metadata": {},
   "source": [
    "### 6.\n",
    "What type do built-in functions have?\n",
    "1) Define a short function. What type does it have?\n",
    "1) What does `print(type(len))` returns?\n",
    "1) What would `print(type(type))` return?"
   ]
  },
  {
   "cell_type": "code",
   "execution_count": null,
   "metadata": {},
   "outputs": [],
   "source": []
  },
  {
   "cell_type": "markdown",
   "metadata": {},
   "source": [
    "---------------------------------\n",
    "<font face=\"verdana\" style=\"font-size:20px\" color=\"blue\"> Solution 6. </font>   \n"
   ]
  },
  {
   "cell_type": "code",
   "execution_count": null,
   "metadata": {},
   "outputs": [],
   "source": [
    "# 1)\n",
    "def f():\n",
    "    '''A dummy function'''\n",
    "    return True\n",
    "\n",
    "print('Type of f is', type(f))\n",
    "\n",
    "print(type(len))\n",
    "\n",
    "print(type(type))"
   ]
  }
 ],
 "metadata": {
  "kernelspec": {
   "display_name": "Python 3 (ipykernel)",
   "language": "python",
   "name": "python3"
  },
  "language_info": {
   "codemirror_mode": {
    "name": "ipython",
    "version": 3
   },
   "file_extension": ".py",
   "mimetype": "text/x-python",
   "name": "python",
   "nbconvert_exporter": "python",
   "pygments_lexer": "ipython3",
   "version": "3.11.7"
  }
 },
 "nbformat": 4,
 "nbformat_minor": 1
}
