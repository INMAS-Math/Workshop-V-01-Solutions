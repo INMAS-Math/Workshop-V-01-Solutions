{
 "cells": [
  {
   "cell_type": "markdown",
   "id": "2b086218",
   "metadata": {
    "id": "7ddf1365"
   },
   "source": [
    "<img src=\"images/inmas.png\" width=130x align=\"right\" />\n",
    "\n",
    "# Exercise 22 - Final Project\n",
    "\n",
    "### Prerequisites\n",
    "Notebooks 00 to 22"
   ]
  },
  {
   "cell_type": "markdown",
   "id": "57e625c0",
   "metadata": {},
   "source": [
    "## Analyzing the Redfin Data"
   ]
  },
  {
   "cell_type": "markdown",
   "id": "24e28f15",
   "metadata": {},
   "source": [
    "### 1.\n",
    "Redfin is a real-estate brokerage and they post available houses on their website [redfin.com](https://www.redfin.com). We will download housing data from their site to study.\n",
    "\n",
    "- Follow the instructions [here](https://support.redfin.com/hc/en-us/articles/360016476931-Downloading-Data) to download some housing data from redfin.com.\n",
    "- Save the file in the same location as this notebook. \n",
    "- Then use the `pandas` function `read_csv()` to read the information from the file you downloaded.\n",
    "- Clean up the data as necessary using techniques you learned in the Pandas notebook."
   ]
  },
  {
   "cell_type": "markdown",
   "id": "ba2ee2b3",
   "metadata": {
    "id": "9d4e410e"
   },
   "source": [
    "### 2.\n",
    "\n",
    "Use the skills you've learned to analyze this data. Here are some ideas, but please come up with your own additional ideas:\n",
    "- Make plots to visualize the data \n",
    "    - Use everything you have learned so far using Matplotlib\n",
    "- Use linear regression to predict one of the variables from one or both of the others\n",
    "- Calculate statistics on the data\n",
    "    - You can use the Numpy or Pandas modules, both have a lot of statistical functions. \n",
    "- Find a probability distribution for the price data \n",
    "- Repeat the steps above for more data from a different neighborhood or city. Compare."
   ]
  },
  {
   "cell_type": "markdown",
   "id": "b2b6caf5",
   "metadata": {},
   "source": [
    "### 3.\n",
    "Create a PowerPoint presentation to present your findings to others."
   ]
  }
 ],
 "metadata": {
  "kernelspec": {
   "display_name": "Python 3 (ipykernel)",
   "language": "python",
   "name": "python3"
  },
  "language_info": {
   "codemirror_mode": {
    "name": "ipython",
    "version": 3
   },
   "file_extension": ".py",
   "mimetype": "text/x-python",
   "name": "python",
   "nbconvert_exporter": "python",
   "pygments_lexer": "ipython3",
   "version": "3.11.7"
  }
 },
 "nbformat": 4,
 "nbformat_minor": 5
}
