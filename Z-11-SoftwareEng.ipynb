{
 "cells": [
  {
   "cell_type": "markdown",
   "id": "09fafc10",
   "metadata": {},
   "source": [
    "<img src=\"images/inmas.png\" width=130x align='right' />\n",
    "\n",
    "# Solutions to Exercise 11 - Elements of Software Engineering\n",
    "\n",
    "\n",
    "### Prerequisite\n",
    "Notebook 11"
   ]
  },
  {
   "cell_type": "markdown",
   "id": "d905f52a",
   "metadata": {},
   "source": [
    "### 1.\n",
    "\n",
    "It is recommended to use iterators whenever possible. In a few situations, however, iterators can lead to problems. What are these cases?"
   ]
  },
  {
   "cell_type": "markdown",
   "id": "a57e846e",
   "metadata": {},
   "source": [
    "---------------------------------\n",
    "<font face=\"verdana\" style=\"font-size:20px\" color=\"blue\"> Solution 1. </font>   \n"
   ]
  },
  {
   "cell_type": "markdown",
   "id": "77ed9a97",
   "metadata": {},
   "source": [
    "When elements are deleted in a list, or when elements depend on entries at other indices."
   ]
  },
  {
   "cell_type": "markdown",
   "id": "8dd6a229",
   "metadata": {},
   "source": [
    "### 2.\n",
    "\n",
    "Take a few minutes to browse the PEP 8 and discuss the situation when a line break is required for an expression too long to fit on a single line.\n",
    "- What should be the default indentation?\n",
    "- Should the line break be before or after a binary operator?\n",
    "- What is the recommended line length for Python code? Why?\n",
    "- Discuss your pet peeves if any\n"
   ]
  },
  {
   "cell_type": "markdown",
   "id": "646d71a4",
   "metadata": {},
   "source": [
    "---------------------------------\n",
    "<font face=\"verdana\" style=\"font-size:20px\" color=\"blue\"> Solution 2. </font>   \n"
   ]
  },
  {
   "cell_type": "markdown",
   "id": "e9997adb",
   "metadata": {},
   "source": [
    "- Default indentation is recommended to be 4 spaces\n",
    "- Following Don Knuth's best practice, line breaks are recommended to be **before** binary operators\n",
    "    - next line starts with the operator\n",
    "- Line length is typically recommended to be < 80 characters due to legacy terminal screens\n",
    "    - This can be relaxed in some environments\n",
    "- What are your pet peeves?"
   ]
  },
  {
   "cell_type": "markdown",
   "id": "a7b28462",
   "metadata": {},
   "source": [
    "### 3.\n",
    "\n",
    "- If not done yet, install 'git' on your computer.\n",
    "- Download the notebooks in a different directory using `git download` from a terminal."
   ]
  },
  {
   "cell_type": "markdown",
   "id": "2926f895",
   "metadata": {},
   "source": [
    "---------------------------------\n",
    "<font face=\"verdana\" style=\"font-size:20px\" color=\"blue\"> Solution 3. </font>   \n"
   ]
  },
  {
   "cell_type": "markdown",
   "id": "94475491",
   "metadata": {},
   "source": [
    "[Git downloads here](https://git-scm.com/downloads)"
   ]
  },
  {
   "cell_type": "markdown",
   "id": "1cb5fd39",
   "metadata": {},
   "source": [
    "### 4.*\n",
    "Start from module *Code_11/params.py* (use the %load magic command).\n",
    "- Use `with` inside `try` and `except` to improve resources handling\n",
    "- Handle the exception by returning an empty dictionary instead of exiting\n",
    "- Do you still need the `close()` statement?"
   ]
  },
  {
   "cell_type": "markdown",
   "id": "6c6300a9",
   "metadata": {},
   "source": [
    "---------------------------------\n",
    "<font face=\"verdana\" style=\"font-size:20px\" color=\"blue\"> Solution 4. </font>   \n"
   ]
  },
  {
   "cell_type": "code",
   "execution_count": null,
   "id": "e55eeccf",
   "metadata": {},
   "outputs": [],
   "source": [
    "# %load ./Code_11/params.py\n",
    "'''\n",
    "A simple module to read parameter files.\n",
    "Inspired from code by Hans Peter Langtangen\n",
    "\n",
    "'''\n",
    "__version__ = 0.1\n",
    "__author__ = \"Martin-D. Lacasse - JHU Oct. 2022\"\n",
    "__all__ = ['readParameters', 'printParameters']\n",
    "\n",
    "import sys\n",
    "\n",
    "def readParameters(filename):\n",
    "    '''Read run-time parameters from a text file and return dictionary with string values'''\n",
    "    try:\n",
    "        file = open(filename, 'r')\n",
    "    except:\n",
    "        print(\"Unable to open file \" + file, file=sys.stderr)\n",
    "        sys.exit(1)\n",
    "\n",
    "    myDico = {}\n",
    "    for line in file:\n",
    "        variable, value = [word.strip() for word in line.split('=')]\n",
    "        variable.replace(' ', '_')\n",
    "        pythoncode = \"myDico['\" + variable + \"']='\" + value + \"'\"\n",
    "        exec(pythoncode)\n",
    "\n",
    "    file.close()\n",
    "    return myDico\n",
    "\n",
    "def printParameters(dico, file=sys.stdout):\n",
    "    '''Print dictionary to file'''\n",
    "    for key in dico:\n",
    "        print(key + ' = ' + dico[key], file=file)\n"
   ]
  },
  {
   "cell_type": "code",
   "execution_count": null,
   "id": "2b344457",
   "metadata": {},
   "outputs": [],
   "source": [
    "'''\n",
    "A simple module to read parameter files.\n",
    "Inspired from code by Hans Peter Langtangen\n",
    "\n",
    "'''\n",
    "__version__ = 0.2\n",
    "__author__ = \"Martin-D. Lacasse - JHU Oct. 2024\"\n",
    "__all__ = ['readParameters', 'printParameters']\n",
    "\n",
    "import sys\n",
    "\n",
    "def readParameters(filename):\n",
    "    '''Read run-time parameters from a text file and return dictionary with string values'''\n",
    "    try:\n",
    "        with open(filename, 'r') as file:\n",
    "            myDico = {}\n",
    "            for line in file:\n",
    "                variable, value = [word.strip() for word in line.split('=')]\n",
    "                variable.replace(' ', '_')\n",
    "                pythoncode = \"myDico['\" + variable + \"'] = '\" + value + \"'\"\n",
    "                exec(pythoncode)\n",
    "    except FileNotFoundError:\n",
    "        print('Unable to open file \"%s\"'%file, file=sys.stderr)\n",
    "        print('Try again', file=sys.stderr)\n",
    "        return {}\n",
    "\n",
    "    return myDico\n",
    "\n",
    "def printParameters(dico, file=sys.stdout):\n",
    "    '''Print dictionary to file'''\n",
    "    for key in dico:\n",
    "        print(key + ' = ' + dico[key], file=file)\n",
    "\n",
    "dico = readParameters('./Code_11/parameters.txt')\n",
    "printParameters(dico)\n"
   ]
  },
  {
   "cell_type": "markdown",
   "id": "4c3bb6c0",
   "metadata": {},
   "source": [
    "### 5.*\n",
    "Due to its vast array of modules, Python has addressed many of the common needs in programming. As such, a module called `configparser` contains most of the functionality that we need.  \n",
    "\n",
    "Implement a version of the same exercise as the previous one using the `configparser` module.\n",
    "- You will need to add a section label `[]` at the top of the parameter file. "
   ]
  },
  {
   "cell_type": "code",
   "execution_count": null,
   "id": "d18005b0",
   "metadata": {},
   "outputs": [],
   "source": []
  },
  {
   "cell_type": "markdown",
   "id": "b5bfaa48",
   "metadata": {},
   "source": [
    "---------------------------------\n",
    "<font face=\"verdana\" style=\"font-size:20px\" color=\"blue\"> Solution 5. </font>   \n"
   ]
  },
  {
   "cell_type": "code",
   "execution_count": null,
   "id": "b2e29085",
   "metadata": {},
   "outputs": [],
   "source": [
    "# Create a file with a header\n",
    "! echo [default] > ./Code_11/parameters2.txt\n",
    "# Append original file to it\n",
    "! cat ./Code_11/parameters.txt >> ./Code_11/parameters2.txt\n",
    "\n",
    "import configparser as cf\n",
    "\n",
    "config = cf.ConfigParser()\n",
    "\n",
    "config.read('./Code_11/parameters2.txt')\n",
    "a = config.get('default', 'a')\n",
    "b = config.get('default', 'a')\n",
    "c = config.get('default', 'c')\n",
    "\n",
    "print('a = %s, b = %s, c = %c'%(a, b, c))"
   ]
  },
  {
   "cell_type": "markdown",
   "id": "4de4ae12",
   "metadata": {},
   "source": [
    "### 6.\n",
    "Run the script through the following cell. \n",
    "- Try different values, different parameters in both the long and short forms.\n",
    "- Try entering a parameter that does not exist, e.g, `-z`."
   ]
  },
  {
   "cell_type": "code",
   "execution_count": null,
   "id": "042bf1dd",
   "metadata": {},
   "outputs": [],
   "source": [
    "!python ./Code_11/main_2.py -a 2 -b 3"
   ]
  },
  {
   "cell_type": "markdown",
   "id": "4093caf5",
   "metadata": {},
   "source": [
    "---------------------------------\n",
    "<font face=\"verdana\" style=\"font-size:20px\" color=\"blue\"> Solution 6. </font>   \n"
   ]
  },
  {
   "cell_type": "code",
   "execution_count": null,
   "id": "e435be54",
   "metadata": {},
   "outputs": [],
   "source": [
    "!python ./Code_11/main_2.py -a 2 -b 3\n",
    "!python ./Code_11/main_2.py -a 4 -z 5"
   ]
  },
  {
   "cell_type": "markdown",
   "id": "78e88480",
   "metadata": {},
   "source": [
    "### 7.**\n",
    "\n",
    "Script `main_2.py` is a good starting point to read parameters from the command line. However, it has many deficiencies: The code is not re-usable as all default parameters are hard-coded in the function, including their names. This is definitely a handicap compared to the dictionary approach used in main_1.py. Also, parameters are mixed types, limiting re-usability. Let's fix this.\n",
    "\n",
    "#### 7.1**\n",
    "\n",
    "- Duplicate `main_2.py` as `main_3.py` and modify the file to use a dictionary to parse and store parameters. Use your favorite editor and use the same trick to generate code as in the first params module. Create a new module called `params2.py` that will contain your new function and make it re-usable.\n",
    "- Incorporating the original function from first 'params.py', implement functionality of reading from either a parameter file and/or command line arguments. Which mode should have precedence? Should a parameter override warning be given to the user?\n",
    "\n",
    "\n",
    "#### 7.2**\n",
    "- Include a way to distinguish between optional and required parameters (Hint: use a reserved default value, e.g. `undef`, for required parameters).\n",
    "- Allow for comments in the parameter file by detecting and ignoring lines with a leading '#' character.\n",
    "- Implement the capability of recursively including other files using the '@include' keyword. Should you test for circular inclusions through a call depth counter?"
   ]
  },
  {
   "cell_type": "markdown",
   "id": "45bc2fd8",
   "metadata": {},
   "source": [
    "---------------------------------\n",
    "<font face=\"verdana\" style=\"font-size:20px\" color=\"blue\"> Solution 7. </font>   \n"
   ]
  },
  {
   "cell_type": "code",
   "execution_count": null,
   "id": "d17aa9c2",
   "metadata": {},
   "outputs": [],
   "source": []
  },
  {
   "cell_type": "markdown",
   "id": "bfe417c7",
   "metadata": {},
   "source": [
    "\n",
    "### 8.\n",
    "Run the following test and see if you could improve a few things... What is the minimum tolerance you need to use to pass the test?"
   ]
  },
  {
   "cell_type": "code",
   "execution_count": null,
   "id": "c32a3b93",
   "metadata": {},
   "outputs": [],
   "source": [
    "import math\n",
    "def mycos(x):\n",
    "    '''Placeholder to define my own cosine function'''\n",
    "    return math.cos(x)\n",
    "\n",
    "def test_mycos():\n",
    "    '''Test mycos() with respect to inverse function over float range'''\n",
    "    import random\n",
    "    i = 0\n",
    "    while (i < 10000):\n",
    "        i += 1\n",
    "        x = 2*random.random() - 1.\n",
    "        assert mycos(math.acos(x)) == x\n",
    "        \n",
    "test_mycos()"
   ]
  },
  {
   "cell_type": "markdown",
   "id": "bce44d65",
   "metadata": {},
   "source": [
    "---------------------------------\n",
    "<font face=\"verdana\" style=\"font-size:20px\" color=\"blue\"> Solution 8. </font>   \n"
   ]
  },
  {
   "cell_type": "code",
   "execution_count": null,
   "id": "f095bec6",
   "metadata": {},
   "outputs": [],
   "source": [
    "import math\n",
    "\n",
    "def almostEqual(a, b, tol=1e-15):\n",
    "    return abs(a - b) < tol*max(abs(a), abs(b))\n",
    "\n",
    "def mycos(x):\n",
    "    '''Placeholder to define my own cosine function'''\n",
    "    return math.cos(x)\n",
    "\n",
    "def test_mycos():\n",
    "    '''Test mycos() with respect to inverse function over float range'''\n",
    "    import random\n",
    "    i = 0\n",
    "    while (i < 10000):\n",
    "        i += 1\n",
    "        x1 = 2*random.random() - 1.\n",
    "        x2 = mycos(math.acos(x1))\n",
    "        if not almostEqual(x1,  x2, 1e-11):\n",
    "            print('Equality test failed with %e difference.'%abs(x1 - x2))\n",
    "        \n",
    "test_mycos()"
   ]
  },
  {
   "cell_type": "markdown",
   "id": "f055d9cc",
   "metadata": {},
   "source": [
    "### 9.\n",
    "Execute the following steps\n",
    "1) Import the module badstyle.py from directory Code_11 that we reformatted with black in notebook 11.\n",
    "2) Find out what the module contains using the help(modname) function\n",
    "3) Print `fiboSequence2()` for a sequence of 50 numbers\n",
    "4) Print `fiboSequence1()` for a sequence of a length of 20, then 40, ..\n",
    "\n",
    "Explain your results. Discuss with your peers."
   ]
  },
  {
   "cell_type": "code",
   "execution_count": null,
   "id": "1671a976",
   "metadata": {},
   "outputs": [],
   "source": []
  },
  {
   "cell_type": "markdown",
   "id": "fcb28645",
   "metadata": {},
   "source": [
    "---------------------------------\n",
    "<font face=\"verdana\" style=\"font-size:20px\" color=\"blue\"> Solution 9. </font>   \n"
   ]
  },
  {
   "cell_type": "code",
   "execution_count": null,
   "id": "a1959c1c",
   "metadata": {},
   "outputs": [],
   "source": [
    "# Can't easily import from a parent directory\n",
    "from Code_11 import badstyle as bs\n",
    "\n",
    "help(bs)\n",
    "\n",
    "print(bs.fiboSequence2(50))\n",
    "print(bs.fiboSequence1(40))"
   ]
  },
  {
   "cell_type": "markdown",
   "id": "cc36aba4",
   "metadata": {},
   "source": [
    "The version with a recursion does not return when N ~ 40 due to a stack allocation problem. Recustion functions are cute, but not always scalable as the resources for pushing a function and its parameters on the interpreter's stack get exhausted."
   ]
  }
 ],
 "metadata": {
  "kernelspec": {
   "display_name": "Python 3 (ipykernel)",
   "language": "python",
   "name": "python3"
  },
  "language_info": {
   "codemirror_mode": {
    "name": "ipython",
    "version": 3
   },
   "file_extension": ".py",
   "mimetype": "text/x-python",
   "name": "python",
   "nbconvert_exporter": "python",
   "pygments_lexer": "ipython3",
   "version": "3.11.7"
  }
 },
 "nbformat": 4,
 "nbformat_minor": 5
}
