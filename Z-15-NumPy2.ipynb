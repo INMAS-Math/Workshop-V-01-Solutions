{
 "cells": [
  {
   "cell_type": "markdown",
   "metadata": {},
   "source": [
    "<img src=\"images/inmas.png\" width=130x align='right' />\n",
    "\n",
    "# Solutions to Exercise 15 -  Intermediate NumPy\n",
    "\n",
    "\n",
    "### Prerequisite\n",
    "Notebook 15"
   ]
  },
  {
   "cell_type": "markdown",
   "metadata": {},
   "source": [
    "### 1.\n",
    "Create an array with values from -1 to 1, inclusively, with step size 0.1."
   ]
  },
  {
   "cell_type": "code",
   "execution_count": null,
   "metadata": {},
   "outputs": [],
   "source": []
  },
  {
   "cell_type": "markdown",
   "metadata": {},
   "source": [
    "---------------------------------\n",
    "<font face=\"verdana\" style=\"font-size:20px\" color=\"blue\"> Solution 1. </font>   \n"
   ]
  },
  {
   "cell_type": "code",
   "execution_count": null,
   "metadata": {},
   "outputs": [],
   "source": [
    "import numpy as np\n",
    "\n",
    "a = np.arange(-1, 1.01, 0.1)\n",
    "print(a)"
   ]
  },
  {
   "cell_type": "markdown",
   "metadata": {},
   "source": [
    "### 2.\n",
    "Using NumPy and matplotlib, make a plot of a sinusoid on the interval $[−\\pi, \\pi]$.\n",
    "- Include a title and labels for the $x$- and $y$-axes. \n",
    "- Experiment with different step sizes to obtain a nice smooth graph.\n",
    "    - What is an optimal value? (*Hint:* Think pixels on your screen.)"
   ]
  },
  {
   "cell_type": "code",
   "execution_count": null,
   "metadata": {},
   "outputs": [],
   "source": []
  },
  {
   "cell_type": "markdown",
   "metadata": {},
   "source": [
    "--------------------------------\n",
    "<font face=\"verdana\" style=\"font-size:20px\" color=\"blue\"> Solution 2. </font>   \n"
   ]
  },
  {
   "cell_type": "code",
   "execution_count": null,
   "metadata": {},
   "outputs": [],
   "source": [
    "import numpy as np\n",
    "import matplotlib.pyplot as plt\n",
    "\n",
    "x = np.linspace(-np.pi, np.pi, 100)\n",
    "y = np.cos(x)\n",
    "\n",
    "plt.plot(x, y, marker='.')\n",
    "plt.xlabel('$x$')\n",
    "plt.ylabel('$cos(x)$')\n",
    "plt.grid()"
   ]
  },
  {
   "cell_type": "markdown",
   "metadata": {},
   "source": [
    "### 3.\n",
    "Produce a plot of the functions $f(x) = e^{-x/10} \\sin(\\pi x)$ and $g(x) = xe^{−x/3}$ over the interval $[0, 10]$. Include labels for the $x$- and $y$-axes, and a legend explaining which line is which plot."
   ]
  },
  {
   "cell_type": "code",
   "execution_count": null,
   "metadata": {},
   "outputs": [],
   "source": []
  },
  {
   "cell_type": "markdown",
   "metadata": {},
   "source": [
    "---------------------------------\n",
    "<font face=\"verdana\" style=\"font-size:20px\" color=\"blue\"> Solution 3. </font>   \n"
   ]
  },
  {
   "cell_type": "code",
   "execution_count": null,
   "metadata": {},
   "outputs": [],
   "source": [
    "import numpy as np\n",
    "import matplotlib.pyplot as plt\n",
    "\n",
    "x = np.linspace(0, 10, 100)\n",
    "f_x = np.exp(-x/10)*np.sin(np.pi*x)\n",
    "g_x = x*np.exp(-x/3)\n",
    "\n",
    "plt.plot(x, f_x, label='$e^{-x/10}sin(\\pi x)$')\n",
    "plt.plot(x, g_x, label='$xe^{-x/3}$')\n",
    "plt.xlabel('$x$')\n",
    "plt.grid()\n",
    "plt.legend();"
   ]
  },
  {
   "cell_type": "markdown",
   "metadata": {},
   "source": [
    "### 4.\n",
    "How is `np.linspace()` different from `np.arange()`? What does `np.logspace()` do?"
   ]
  },
  {
   "cell_type": "markdown",
   "metadata": {},
   "source": [
    "---------------------------------\n",
    "<font face=\"verdana\" style=\"font-size:20px\" color=\"blue\"> Solution 4. </font>   \n"
   ]
  },
  {
   "cell_type": "markdown",
   "metadata": {},
   "source": [
    "- `linspace` include start and end points, `arange` does not include last point\n",
    "- `linspace` requires number of points, `arange` requires step size\n",
    "- `logspace` is like `linspace` but points are regularly soace on a log scale in the base specified (default 10)"
   ]
  },
  {
   "cell_type": "markdown",
   "metadata": {},
   "source": [
    "### 5.\n",
    "Using the `shape` property and the `zeros()` function, write an equivalent to the `zeros_like()` function."
   ]
  },
  {
   "cell_type": "code",
   "execution_count": null,
   "metadata": {},
   "outputs": [],
   "source": []
  },
  {
   "cell_type": "markdown",
   "metadata": {},
   "source": [
    "---------------------------------\n",
    "<font face=\"verdana\" style=\"font-size:20px\" color=\"blue\"> Solution 5. </font>   \n"
   ]
  },
  {
   "cell_type": "code",
   "execution_count": null,
   "metadata": {},
   "outputs": [],
   "source": [
    "import numpy as np\n",
    "\n",
    "def myzeros_like(arr):\n",
    "    return np.zeros(arr.shape)\n",
    "\n",
    "x = np.array([[1, 2, 3], [4, 5, 6]])\n",
    "x0 = myzeros_like(x)\n",
    "print(x0)"
   ]
  },
  {
   "cell_type": "markdown",
   "metadata": {},
   "source": [
    "### 6.\n",
    "Use the commands just learned to create the following matrices:\n",
    "\n",
    "#### 6.1\n",
    "A $4\\times4$ diagonal array with diagonal entries $1, 2, 3, 4$."
   ]
  },
  {
   "cell_type": "code",
   "execution_count": null,
   "metadata": {},
   "outputs": [],
   "source": []
  },
  {
   "cell_type": "markdown",
   "metadata": {},
   "source": [
    "#### 6.2\n",
    "A $5\\times 3$ matrix of all $1$s."
   ]
  },
  {
   "cell_type": "code",
   "execution_count": null,
   "metadata": {},
   "outputs": [],
   "source": []
  },
  {
   "cell_type": "markdown",
   "metadata": {},
   "source": [
    "#### 6.3\n",
    "The vector $(1,1.2,1.4,1.6,1.8,2)$ using two different methods."
   ]
  },
  {
   "cell_type": "code",
   "execution_count": null,
   "metadata": {},
   "outputs": [],
   "source": []
  },
  {
   "cell_type": "markdown",
   "metadata": {},
   "source": [
    "#### 6.4\n",
    "A vector of length $8$ with random entries drawn from a normal distribution with mean 1 and variance 1."
   ]
  },
  {
   "cell_type": "code",
   "execution_count": null,
   "metadata": {},
   "outputs": [],
   "source": []
  },
  {
   "cell_type": "markdown",
   "metadata": {},
   "source": [
    "---------------------------------\n",
    "<font face=\"verdana\" style=\"font-size:20px\" color=\"blue\"> Solution 6. </font>   \n"
   ]
  },
  {
   "cell_type": "code",
   "execution_count": null,
   "metadata": {},
   "outputs": [],
   "source": [
    "import numpy as np\n",
    "\n",
    "A1 = np.array([[1, 0, 0, 0], [0, 2, 0, 0], [0, 0, 3, 0], [0, 0, 0, 4]])\n",
    "print('A1 =\\n', A1)\n",
    "\n",
    "A2 = np.matrix(np.ones((5, 3)))\n",
    "print('A2 =\\n', A2)\n",
    "\n",
    "A3 = np.array([1, 1.2, 1.4, 1.6, 1.8, 2])\n",
    "A3 = np.array(np.arange(1, 2.1, 0.2))\n",
    "print('A3 =\\n', A3)\n",
    "\n",
    "A4 = 1 + np.random.randn(8)\n",
    "print('A4 =\\n', A4)"
   ]
  },
  {
   "cell_type": "markdown",
   "metadata": {},
   "source": [
    "### 7.\n",
    "What happens if one tries to open a file with `genfromtxt()` and the file does not exists?\n",
    "How to fix potential issues arising from the behavior of the function?"
   ]
  },
  {
   "cell_type": "code",
   "execution_count": null,
   "metadata": {},
   "outputs": [],
   "source": []
  },
  {
   "cell_type": "markdown",
   "metadata": {},
   "source": [
    "---------------------------------\n",
    "<font face=\"verdana\" style=\"font-size:20px\" color=\"blue\"> Solution 7. </font>   \n"
   ]
  },
  {
   "cell_type": "code",
   "execution_count": null,
   "metadata": {},
   "outputs": [],
   "source": [
    "import numpy as np\n",
    "\n",
    "try:\n",
    "    data = np.genfromtxt('DoEsNoTeXiSt', delimiter=',')\n",
    "except Exception as e:\n",
    "    print('An exception was received!')\n",
    "    print('The exception received is:', type(e).__name__)     # Prints the name of the exception class\n",
    "    print('With error message:', e)                           # Prints the exception message"
   ]
  },
  {
   "cell_type": "markdown",
   "metadata": {},
   "source": [
    "To fix issue depends on application: return None, or an empty array, prompt for another file name, etc.\n",
    "```python\n",
    "import numpy as np\n",
    "\n",
    "...\n",
    "\n",
    "try:\n",
    "    data = np.genfromtxt('DoEsNoTeXiSt', delimiter=',')\n",
    "except FileNotFoundError as e:\n",
    "      ...    # Decide how to recover here (instead of quitting program, which is the default behavior)\n",
    "\n",
    "```"
   ]
  },
  {
   "cell_type": "markdown",
   "metadata": {},
   "source": [
    "### 8.\n",
    "Slice the following array to obtain values at even indices of the array A.\n"
   ]
  },
  {
   "cell_type": "code",
   "execution_count": null,
   "metadata": {},
   "outputs": [],
   "source": [
    "A = np.array([1, 2, 3, 4, 5, 6, 7, 8, 9])"
   ]
  },
  {
   "cell_type": "markdown",
   "metadata": {},
   "source": [
    "---------------------------------\n",
    "<font face=\"verdana\" style=\"font-size:20px\" color=\"blue\"> Solution 8. </font>   \n"
   ]
  },
  {
   "cell_type": "code",
   "execution_count": null,
   "metadata": {},
   "outputs": [],
   "source": [
    "import numpy as np\n",
    "\n",
    "A = np.array([1, 2, 3, 4, 5, 6, 7, 8, 9])\n",
    "A[::2]"
   ]
  },
  {
   "cell_type": "markdown",
   "metadata": {},
   "source": [
    "### 9.\n",
    "Using the array A from the previous problem:\n",
    "1) Slice the array A by providing all three values \\[start:stop:increment\\] such that A prints all its values\n",
    "1) Slice A to print in reverse order\n",
    "1) Slice A by providing all three values to print in reverse order"
   ]
  },
  {
   "cell_type": "markdown",
   "metadata": {},
   "source": [
    "---------------------------------\n",
    "<font face=\"verdana\" style=\"font-size:20px\" color=\"blue\"> Solution 9. </font>   \n"
   ]
  },
  {
   "cell_type": "code",
   "execution_count": null,
   "metadata": {},
   "outputs": [],
   "source": [
    "A = np.array([1, 2, 3, 4, 5, 6, 7, 8, 9])\n",
    "#1\n",
    "print(A[0:len(A):1])\n",
    "#2\n",
    "print(A[::-1])\n",
    "#3\n",
    "# Good luck with the third question!"
   ]
  },
  {
   "cell_type": "markdown",
   "metadata": {},
   "source": [
    "### 10.\n",
    "Using matrix A below, write code to print:\n",
    "1. `array([ 1, 11, 21, 31, 41])`\n",
    "2. `array([[ 1,  3], [11, 13], [21, 23], [31, 33], [41, 43]])` \n",
    "3. `array([[11, 13], [31, 33]])`\n",
    "4. `array([[33, 34], [43, 44]])`"
   ]
  },
  {
   "cell_type": "code",
   "execution_count": null,
   "metadata": {},
   "outputs": [],
   "source": [
    "A = np.array([[n + m*10 for n in range(5)] for m in range(5)])"
   ]
  },
  {
   "cell_type": "markdown",
   "metadata": {},
   "source": [
    "---------------------------------\n",
    "<font face=\"verdana\" style=\"font-size:20px\" color=\"blue\"> Solution 10. </font>   \n"
   ]
  },
  {
   "cell_type": "code",
   "execution_count": null,
   "metadata": {},
   "outputs": [],
   "source": [
    "import numpy as np\n",
    "\n",
    "A = np.array([[n + m*10 for n in range(5)] for m in range(5)])\n",
    "\n",
    "print(A)\n",
    "#1\n",
    "print(A[:,1])\n",
    "#2\n",
    "print(A[:, 1::2])\n",
    "#3\n",
    "print(A[1::2, 1::2])\n",
    "#4\n",
    "print(A[3::, 3:])"
   ]
  },
  {
   "cell_type": "markdown",
   "metadata": {},
   "source": [
    "### 11.\n",
    "Create a $5\\times 5$ matrix with entries drawn from a uniform distribution on $[-1,1]$. Using a mask, print only the positive entries of the matrix. Create a new matrix that only contains positive elements and where negative numbers were set to zero."
   ]
  },
  {
   "cell_type": "code",
   "execution_count": null,
   "metadata": {},
   "outputs": [],
   "source": []
  },
  {
   "cell_type": "markdown",
   "metadata": {},
   "source": [
    "---------------------------------\n",
    "<font face=\"verdana\" style=\"font-size:20px\" color=\"blue\"> Solution 11. </font>   \n"
   ]
  },
  {
   "cell_type": "code",
   "execution_count": null,
   "metadata": {},
   "outputs": [],
   "source": [
    "import numpy as np\n",
    "\n",
    "x = 2 * np.random.rand(5, 5) - 1\n",
    "print('Original random matrix:\\n', x)\n",
    "\n",
    "mask1 = x >= 0\n",
    "y = x[mask1]\n",
    "print('List of positive elements:\\n', y)\n",
    "\n",
    "z = x\n",
    "mask2 = x < 0\n",
    "z[mask2] = 0\n",
    "print('New matrix where negative entries were zeroed:\\n', z)\n"
   ]
  },
  {
   "cell_type": "markdown",
   "metadata": {},
   "source": [
    "### 12.*\n",
    "In NumPy, data can be saved in CSV format or in binary format. In the latter, a header is included that contains the type and shape of the object, as well as information on the binary format used to store the data. Because of the additional diskspace required for the header, small arrays can sometimes take less disk space in CSV format.\n",
    "\n",
    "- Build a `for` loop that builds 3 x N arrays and saves them to disk in both text and binary formats (vary N from small to large, and use N to name your files).\n",
    "- What is the size of the array for which the size of binary and CSV files are roughly equivalent?\n",
    "- How are you results changing when using different floating-point precision for the text format?\n",
    "- Delete the files created from your script."
   ]
  },
  {
   "cell_type": "code",
   "execution_count": null,
   "metadata": {},
   "outputs": [],
   "source": []
  },
  {
   "cell_type": "markdown",
   "metadata": {},
   "source": [
    "---------------------------------\n",
    "<font face=\"verdana\" style=\"font-size:20px\" color=\"blue\"> Solution 12. </font>   \n"
   ]
  },
  {
   "cell_type": "code",
   "execution_count": null,
   "metadata": {},
   "outputs": [],
   "source": [
    "import numpy as np\n",
    "import sys\n",
    "import os\n",
    "import matplotlib.pyplot as plt\n",
    "\n",
    "# floatFormat = '%.18e'   # The default format\n",
    "floatFormat = '%.8e'\n",
    "\n",
    "datsize = []\n",
    "txtsize = []\n",
    "size = []\n",
    "for n in range(1, 21):\n",
    "    M = np.random.rand(3, n)\n",
    "    basefile = 'test_%02d'%n\n",
    "    txtfile = basefile + '.csv'\n",
    "    datfile = basefile + '.npy'\n",
    "    np.save(datfile, M)\n",
    "    np.savetxt(txtfile, M, fmt=floatFormat)\n",
    "    # os.sync()  # Not available on Windows\n",
    "    \n",
    "    size.append(n)    \n",
    "    txtsize.append(os.path.getsize(txtfile))\n",
    "    datsize.append(os.path.getsize(datfile))\n",
    "    \n",
    "    os.remove(txtfile)\n",
    "    os.remove(datfile)\n",
    "    \n",
    "plt.plot(size, txtsize, label='csv')\n",
    "plt.plot(size, datsize, label='npy')\n",
    "plt.legend()\n",
    "plt.xlabel('Array of 3 x N')\n",
    "plt.ylabel('Disk size (bytes)');\n",
    "    "
   ]
  },
  {
   "cell_type": "markdown",
   "metadata": {},
   "source": [
    "### 13.\n",
    "Run the following code and explain the results. What if `x` is 12?"
   ]
  },
  {
   "cell_type": "code",
   "execution_count": null,
   "metadata": {},
   "outputs": [],
   "source": [
    "import numpy as np\n",
    "\n",
    "x = 120\n",
    "a = int(2)\n",
    "c = a**x\n",
    "print(c)\n",
    "\n",
    "b = 2*np.ones(2, dtype=int)\n",
    "d = b**x\n",
    "print(d)"
   ]
  },
  {
   "cell_type": "markdown",
   "metadata": {},
   "source": [
    "---------------------------------\n",
    "<font face=\"verdana\" style=\"font-size:20px\" color=\"blue\"> Solution 13. </font>   \n"
   ]
  },
  {
   "cell_type": "markdown",
   "metadata": {},
   "source": [
    "- Integers in Python have arbitrary size and will grow beyond the default 32bit to accomodate for the calculations\n",
    "- Integers in NumPy are int32, allocated contiguously in memory. They can hold at most 2^31."
   ]
  },
  {
   "cell_type": "markdown",
   "metadata": {},
   "source": [
    "### 14.\n",
    "Given:"
   ]
  },
  {
   "cell_type": "code",
   "execution_count": null,
   "metadata": {},
   "outputs": [],
   "source": [
    "import numpy as np\n",
    "import matplotlib.pyplot as plt\n",
    "\n",
    "data = np.genfromtxt('./data/stockholm_td_adj.csv', delimiter=',', skip_header=1)\n",
    "fig, ax = plt.subplots(figsize=(14,4))\n",
    "ax.plot(data[:,0]+data[:,1]/12.0+data[:,2]/365, data[:,3])\n",
    "ax.axis('tight')\n",
    "ax.set_title('temperatures in Stockholm')\n",
    "ax.set_xlabel('year')\n",
    "ax.set_ylabel('temperature (C)');"
   ]
  },
  {
   "cell_type": "markdown",
   "metadata": {},
   "source": [
    "Improve the code so that the time is exactly in fractional years. (Hint: datetime module)"
   ]
  },
  {
   "cell_type": "markdown",
   "metadata": {},
   "source": [
    "---------------------------------\n",
    "<font face=\"verdana\" style=\"font-size:20px\" color=\"blue\"> Solution 14. </font>   \n"
   ]
  },
  {
   "cell_type": "code",
   "execution_count": null,
   "metadata": {},
   "outputs": [],
   "source": [
    "import numpy as np\n",
    "import matplotlib.pyplot as plt\n",
    "from datetime import datetime\n",
    "\n",
    "data = np.genfromtxt('../data/stockholm_td_adj.csv', delimiter=',', skip_header=1)\n",
    "\n",
    "# We need to unroll the loop as datetime is not from NumPy, and expects inteters\n",
    "fracyear = np.zeros_like(data[:,0])\n",
    "for i in range(len(data[:, 0])):\n",
    "    dayoftheyear = datetime(int(data[i, 0]), int(data[i, 1]), int(data[i, 2])).timetuple().tm_yday\n",
    "    # Divide by December 31st of that year to account for leap years\n",
    "    fracyear[i] = data[i, 0] + dayoftheyear/datetime(int(data[1, 0]), 12, 31).timetuple().tm_yday\n",
    "    \n",
    "fig, ax = plt.subplots(figsize=(14,4))\n",
    "ax.plot(fracyear, data[:,3])\n",
    "ax.axis('tight')\n",
    "ax.set_title('temperatures in Stockholm')\n",
    "ax.set_xlabel('year')\n",
    "ax.set_ylabel('temperature (C)');"
   ]
  },
  {
   "cell_type": "markdown",
   "metadata": {},
   "source": [
    "### 15.\n",
    "The array-generating functions `zeros` and `ones` accept a tuple for the shape of the object to be built. For example,\n",
    "```python\n",
    "x = numpy.zeros((3, 4, 2))\n",
    "```\n",
    "These functions also accept a simple integer in cases where the object is one-dimensional. Can you think of a way to input a one-tuple as an argument?\n",
    "\n",
    "What consequence can this Python behavior have on code that you write that accepts tuple as an argument? (Hint: detect argument type)"
   ]
  },
  {
   "cell_type": "code",
   "execution_count": null,
   "metadata": {},
   "outputs": [],
   "source": []
  },
  {
   "cell_type": "markdown",
   "metadata": {},
   "source": [
    "---------------------------------\n",
    "<font face=\"verdana\" style=\"font-size:20px\" color=\"blue\"> Solution 15. </font>   \n"
   ]
  },
  {
   "cell_type": "markdown",
   "metadata": {},
   "source": [
    "A trailing comma is required to be recognized as a tuple, otherwise the parentheses get parsed as simple separators.\n",
    "```python\n",
    "x = np.numpy((4,))\n",
    "```\n",
    "For that reason, all shape arguments accept either an integer for one-dimensional objects, or a tuple.\n",
    "\n",
    "For your functions, you might consider checking the type of the shape argument and act accordingly."
   ]
  }
 ],
 "metadata": {
  "kernelspec": {
   "display_name": "Python 3 (ipykernel)",
   "language": "python",
   "name": "python3"
  },
  "language_info": {
   "codemirror_mode": {
    "name": "ipython",
    "version": 3
   },
   "file_extension": ".py",
   "mimetype": "text/x-python",
   "name": "python",
   "nbconvert_exporter": "python",
   "pygments_lexer": "ipython3",
   "version": "3.11.7"
  }
 },
 "nbformat": 4,
 "nbformat_minor": 4
}
