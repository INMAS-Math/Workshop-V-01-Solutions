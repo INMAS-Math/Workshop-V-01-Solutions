{
 "cells": [
  {
   "cell_type": "markdown",
   "id": "6bbd5f66",
   "metadata": {},
   "source": [
    "<img align=\"right\" src=\"images/inmas.png\" width=130x />\n",
    "\n",
    "# Solutions to Exercises 01 - Python Primer 1\n",
    "\n",
    "\n",
    "### Prerequisite\n",
    "Notebook 01"
   ]
  },
  {
   "cell_type": "markdown",
   "id": "SqFdRpoFgEmd",
   "metadata": {},
   "source": [
    "### 1.\n",
    "\n",
    "Which of the following will cause an error? Run the cells to check."
   ]
  },
  {
   "cell_type": "code",
   "execution_count": null,
   "id": "RFiHdG3RgMGf",
   "metadata": {},
   "outputs": [],
   "source": [
    "Age = 62"
   ]
  },
  {
   "cell_type": "code",
   "execution_count": null,
   "id": "KEpnAc9UgQex",
   "metadata": {},
   "outputs": [],
   "source": [
    "1st_name = 'Emily'"
   ]
  },
  {
   "cell_type": "code",
   "execution_count": null,
   "id": "4JsDGGFHgWzq",
   "metadata": {},
   "outputs": [],
   "source": [
    "_baths = 3"
   ]
  },
  {
   "cell_type": "code",
   "execution_count": null,
   "id": "KCvxp2nHgs9T",
   "metadata": {},
   "outputs": [],
   "source": [
    "class = 'algebra'"
   ]
  },
  {
   "cell_type": "markdown",
   "id": "7fd408cc",
   "metadata": {},
   "source": [
    "Understand why statement succeeded or failed."
   ]
  },
  {
   "cell_type": "markdown",
   "id": "f6a9ae32",
   "metadata": {},
   "source": [
    "---------------------------------\n",
    "<font face=\"verdana\" style=\"font-size:20px\" color=\"blue\"> Solution 1. </font>   \n"
   ]
  },
  {
   "cell_type": "markdown",
   "id": "3583a49f",
   "metadata": {},
   "source": [
    "  \n",
    "- Age = 62: is **OK**\n",
    "    \n",
    "- 1st_name: is **NOT OK**: variable cannot start with digit\n",
    "\n",
    "- \\_bath = 3: is **OK**. By convention, private variables start with one or two underscores\n",
    "\n",
    "- class = 'algebra': is **NOT OK**. class is a reserved keyword\n",
    "    \n"
   ]
  },
  {
   "cell_type": "markdown",
   "id": "c6dd6fa9",
   "metadata": {},
   "source": [
    "### 2.\n",
    "\n",
    "Define a variable for each data type in: int, float, string, list, dictionary, and tuple through an assignment to a literal. Then, \n",
    "\n",
    "- Print the variable defined\n",
    "- Check its type\n",
    "- Print its length when appropriate\n"
   ]
  },
  {
   "cell_type": "markdown",
   "id": "92b36472",
   "metadata": {},
   "source": [
    "----------------------------------\n",
    "<font face=\"verdana\" style=\"font-size:20px\" color=\"blue\"> Solution 2. </font>"
   ]
  },
  {
   "cell_type": "code",
   "execution_count": null,
   "id": "7e198e3d",
   "metadata": {},
   "outputs": [],
   "source": [
    "# An integer\n",
    "i = 1\n",
    "print(i)\n",
    "print(type(i))\n",
    "\n",
    "# A float\n",
    "x = 2.\n",
    "print(x)\n",
    "print(type(x))\n",
    "\n",
    "# A string\n",
    "s = 'hello'\n",
    "print(s)\n",
    "print(type(s))\n",
    "print(len(s))\n",
    "\n",
    "# A list - Avoid variable lowercase L as it is too similar to 1 (this is l)\n",
    "ell = [1, 2, 3, 4]\n",
    "print(ell)\n",
    "print(type(ell))\n",
    "print(len(ell))\n",
    "\n",
    "# A dictionary\n",
    "dic = {1: 'a', 2: 'b'}\n",
    "print(dic)\n",
    "print(type(dic))\n",
    "print(len(dic))\n",
    "\n",
    "# A tuple\n",
    "t = (1, 2, 3)\n",
    "print(t)\n",
    "print(type(t))\n",
    "print(len(t))\n"
   ]
  },
  {
   "cell_type": "markdown",
   "id": "dcee68c4",
   "metadata": {},
   "source": [
    "### 3.\n",
    "\n",
    "Given"
   ]
  },
  {
   "cell_type": "code",
   "execution_count": null,
   "id": "8d0fe957",
   "metadata": {},
   "outputs": [],
   "source": [
    "pi = 3.1415926\n",
    "r = 10.2"
   ]
  },
  {
   "cell_type": "markdown",
   "id": "b6eb8505",
   "metadata": {},
   "source": [
    "Calculate the area, volume, and great circle of a sphere with radius `r`. You can use the exponentiation operator `**`. \n",
    "\n",
    "Print your results with a description."
   ]
  },
  {
   "cell_type": "markdown",
   "id": "ebfb2c5a",
   "metadata": {},
   "source": [
    "--------------------------\n",
    "<font face=\"verdana\" style=\"font-size:20px\" color=\"blue\"> Solution 3. </font>"
   ]
  },
  {
   "cell_type": "code",
   "execution_count": null,
   "id": "c6aff255",
   "metadata": {},
   "outputs": [],
   "source": [
    "pi = 3.1415926\n",
    "r = 10.2\n",
    "print('The great circle of a sphere of radius', r, 'has length', 2*pi*r)\n",
    "print('The area of a sphere of radius', r, 'is', 4*pi*r**2)\n",
    "print('The volume of a sphere of radius', r, 'is', (4/3)*pi*r**3)"
   ]
  },
  {
   "cell_type": "markdown",
   "id": "dbbb7010",
   "metadata": {},
   "source": [
    "### 4.\n",
    "Strings can be concatenated using the `+` and the `+=` operators.\n",
    "\n",
    "- Define two strings and print their sum using the two methods described.\n",
    "- What happens if you multiply a string by a an integer?\n",
    "- By a float?"
   ]
  },
  {
   "cell_type": "markdown",
   "id": "957e08c5",
   "metadata": {},
   "source": [
    "---------------------------\n",
    "<font face=\"verdana\" style=\"font-size:20px\" color=\"blue\"> Solution 4. </font>"
   ]
  },
  {
   "cell_type": "code",
   "execution_count": null,
   "id": "73ecaa5b",
   "metadata": {},
   "outputs": [],
   "source": [
    "str1 = 'Strings can be concateneted by using '\n",
    "str2 = 'the described operator'\n",
    "\n",
    "print('Adding with +:', str1 + str2)\n",
    "\n",
    "str1 += str2\n",
    "print('Adding with +=:', str1)\n",
    "\n",
    "str3 = '+-=.'\n",
    "print('integer times string', 10*str3)\n",
    "\n",
    "# Strings cannot be multiplied by floats - this will fail\n",
    "print('float times string', 3.*str3)"
   ]
  },
  {
   "cell_type": "markdown",
   "id": "51b7c862",
   "metadata": {},
   "source": [
    "### 5. \n",
    "\n",
    "Print a self-introduction: \n",
    "create a new cell before the one below, and define the needed variables so that the code below runs."
   ]
  },
  {
   "cell_type": "code",
   "execution_count": null,
   "id": "3ba24e44",
   "metadata": {},
   "outputs": [],
   "source": [
    "print('Hello, my name is', my_name, 'and I attend', my_university, '.')"
   ]
  },
  {
   "cell_type": "markdown",
   "id": "4b28dc67",
   "metadata": {},
   "source": [
    "Redo the same exercise using a single string for the final sentence (using %)."
   ]
  },
  {
   "cell_type": "code",
   "execution_count": null,
   "id": "0e3a7ebe",
   "metadata": {},
   "outputs": [],
   "source": []
  },
  {
   "cell_type": "markdown",
   "id": "8bc802f2",
   "metadata": {},
   "source": [
    "------------------------------\n",
    "<font face=\"verdana\" style=\"font-size:20px\" color=\"blue\"> Solution 5. </font>"
   ]
  },
  {
   "cell_type": "code",
   "execution_count": null,
   "id": "89bfdcc4",
   "metadata": {},
   "outputs": [],
   "source": [
    "my_name = 'Cleopatra'\n",
    "my_university = 'Alexandria University'\n",
    "print('Hello, my name is', my_name, 'and I attend', my_university, '.')\n",
    "\n",
    "print('Hello, my name is %s and I attend %s.'%(my_name, my_university))"
   ]
  },
  {
   "cell_type": "markdown",
   "id": "ea64d46f",
   "metadata": {},
   "source": [
    "### 6.\n",
    "\n",
    "Given the following list and index slicing operations"
   ]
  },
  {
   "cell_type": "code",
   "execution_count": null,
   "id": "12024d2a",
   "metadata": {},
   "outputs": [],
   "source": [
    "powersOfTwo = [1, 2, 4, 8, 16, 32, 64, 128, 256, 512, 1024]"
   ]
  },
  {
   "cell_type": "markdown",
   "id": "1bf0e6bb",
   "metadata": {},
   "source": [
    "- How would you print the values from \\$2^5\\$ to \\$2^8\\$.\n",
    "- Print the third to last entry only\n",
    "- What could `[][:]` mean?"
   ]
  },
  {
   "cell_type": "code",
   "execution_count": null,
   "id": "ad71dd0a",
   "metadata": {},
   "outputs": [],
   "source": []
  },
  {
   "cell_type": "markdown",
   "id": "52ae9170",
   "metadata": {},
   "source": [
    "---------------------------\n",
    "<font face=\"verdana\" style=\"font-size:20px\" color=\"blue\"> Solution 6. </font>"
   ]
  },
  {
   "cell_type": "code",
   "execution_count": null,
   "id": "e192ddd8",
   "metadata": {},
   "outputs": [],
   "source": [
    "powersOfTwo = [1, 2, 4, 8, 16, 32, 64, 128, 256, 512, 1024]\n",
    "\n",
    "print(powersOfTwo[5:9])\n",
    "\n",
    "print(powersOfTwo[-3])\n",
    "\n",
    "# This means all the entries of an empy list! Which is none.\n",
    "x = [][:]\n",
    "print(x)"
   ]
  },
  {
   "cell_type": "markdown",
   "id": "a49f2865",
   "metadata": {},
   "source": [
    "### 7.\n",
    "Write a conditional `if`/`elif` code in the cell below that prints WOW! if the grade is greater than or equal to 90, Yay!, if the grade is between 70 and 90, or Meh! if the grade is less than or equal to 70."
   ]
  },
  {
   "cell_type": "code",
   "execution_count": null,
   "id": "A8pWGDvOtOS3",
   "metadata": {},
   "outputs": [],
   "source": []
  },
  {
   "cell_type": "markdown",
   "id": "f7a49cb6",
   "metadata": {},
   "source": [
    "---------------------------\n",
    "<font face=\"verdana\" style=\"font-size:20px\" color=\"blue\"> Solution 7. </font>"
   ]
  },
  {
   "cell_type": "code",
   "execution_count": null,
   "id": "d4bab7b3",
   "metadata": {},
   "outputs": [],
   "source": [
    "grade = 75\n",
    "\n",
    "# Order of conditional check matters\n",
    "if grade >= 90:\n",
    "    print('Wow!')\n",
    "elif grade >= 70:\n",
    "    print('Yay!')\n",
    "else:\n",
    "    print('Meh!')"
   ]
  },
  {
   "cell_type": "markdown",
   "id": "a6f06a3b",
   "metadata": {},
   "source": [
    "### 8. \n",
    "Can you create a variable called `len`? What happens to call to the len() function then? How to fix? (*Hint:* `del`)\n",
    "\n"
   ]
  },
  {
   "cell_type": "code",
   "execution_count": null,
   "id": "f461862d",
   "metadata": {},
   "outputs": [],
   "source": []
  },
  {
   "cell_type": "markdown",
   "id": "19600775",
   "metadata": {},
   "source": [
    "---------------------------\n",
    "<font face=\"verdana\" style=\"font-size:20px\" color=\"blue\"> Solution 8. </font>"
   ]
  },
  {
   "cell_type": "code",
   "execution_count": null,
   "id": "177dc3a6",
   "metadata": {},
   "outputs": [],
   "source": [
    "print('len is type:', type(len))\n",
    "len = [1, 3, 5, 7]\n",
    "print('len is type:', type(len))\n",
    "del len\n",
    "print('len is type:', type(len))"
   ]
  },
  {
   "cell_type": "markdown",
   "id": "371ac47e",
   "metadata": {},
   "source": [
    "### 9.\n",
    "Predict which values will actually print before running the follow code."
   ]
  },
  {
   "cell_type": "code",
   "execution_count": null,
   "id": "97a839f5",
   "metadata": {},
   "outputs": [],
   "source": [
    "if None:\n",
    "    print('None.')\n",
    "\n",
    "if 0:\n",
    "    print('0.')\n",
    "\n",
    "if []:\n",
    "    print('[]')\n",
    "\n",
    "if 1:\n",
    "    print('1.')"
   ]
  },
  {
   "cell_type": "markdown",
   "id": "a71bc0b4",
   "metadata": {},
   "source": [
    "---------------------------\n",
    "<font face=\"verdana\" style=\"font-size:20px\" color=\"blue\"> Solution 9. </font>"
   ]
  },
  {
   "cell_type": "code",
   "execution_count": null,
   "id": "421bbd8c",
   "metadata": {},
   "outputs": [],
   "source": [
    "if None:    # False (None)\n",
    "    print('None.')\n",
    "\n",
    "if 0:       # False (zero)\n",
    "    print('0')\n",
    "\n",
    "if []:      # False (empty list)\n",
    "    print('[]')\n",
    "\n",
    "if 2.4:      # Only one True \n",
    "    print('2.4')"
   ]
  },
  {
   "cell_type": "markdown",
   "id": "aee69150",
   "metadata": {},
   "source": [
    "### 10.\n",
    "\n",
    "Using [this page](https://realpython.com/python-dicts/) or any other resource you prefer as a reference, to do the following exercise.\n",
    "\n",
    "Given a dictionary where the keys are the names of the members of your group and the values are their favorite food."
   ]
  },
  {
   "cell_type": "code",
   "execution_count": null,
   "id": "f3b54eec",
   "metadata": {},
   "outputs": [],
   "source": [
    "fav_foods = {\"Joseph\": \"pizza\", \"Adriana\": \"cake\", \"Shinhae\": \"coffee\"}"
   ]
  },
  {
   "cell_type": "markdown",
   "id": "b5405254",
   "metadata": {},
   "source": [
    "#### 10.1\n",
    "Add a new entry to the dictionary for Emily. Her favorite food is chocolate."
   ]
  },
  {
   "cell_type": "code",
   "execution_count": null,
   "id": "ffc0880c",
   "metadata": {},
   "outputs": [],
   "source": []
  },
  {
   "cell_type": "markdown",
   "id": "f77e6798",
   "metadata": {},
   "source": [
    "#### 10.2\n",
    "Use the dictionary to print Joe's favorite food."
   ]
  },
  {
   "cell_type": "code",
   "execution_count": null,
   "id": "ff029ace",
   "metadata": {},
   "outputs": [],
   "source": []
  },
  {
   "cell_type": "markdown",
   "id": "41f2dd79",
   "metadata": {},
   "source": [
    "#### 10.3\n",
    "Remove the entry for Emily from the dictionary."
   ]
  },
  {
   "cell_type": "code",
   "execution_count": null,
   "id": "32e71957",
   "metadata": {},
   "outputs": [],
   "source": []
  },
  {
   "cell_type": "markdown",
   "id": "cd27a3c6",
   "metadata": {},
   "source": [
    "#### 10.4\n",
    "Try to add a second entry for Joseph. Does it work?"
   ]
  },
  {
   "cell_type": "code",
   "execution_count": null,
   "id": "824d7896",
   "metadata": {},
   "outputs": [],
   "source": []
  },
  {
   "cell_type": "markdown",
   "id": "6d0b694a",
   "metadata": {},
   "source": [
    "#### 10.5\n",
    "Print the dictionary keys."
   ]
  },
  {
   "cell_type": "code",
   "execution_count": null,
   "id": "aabdb91a",
   "metadata": {},
   "outputs": [],
   "source": []
  },
  {
   "cell_type": "markdown",
   "id": "b408d563",
   "metadata": {},
   "source": [
    "#### 10.6\n",
    "Print the dictionary values"
   ]
  },
  {
   "cell_type": "code",
   "execution_count": null,
   "id": "07fa338c",
   "metadata": {},
   "outputs": [],
   "source": []
  },
  {
   "cell_type": "markdown",
   "id": "cb058f94",
   "metadata": {},
   "source": [
    "#### 10.7\n",
    "Create an empty dictionary. Then use the method `.popitem()` to remove the last two entries from your original dictionary and add them to the new dictionary."
   ]
  },
  {
   "cell_type": "code",
   "execution_count": null,
   "id": "e6de1b00",
   "metadata": {},
   "outputs": [],
   "source": []
  },
  {
   "cell_type": "markdown",
   "id": "dc9506a2",
   "metadata": {},
   "source": [
    "---------------------------\n",
    "<font face=\"verdana\" style=\"font-size:20px\" color=\"blue\"> Solution 10. </font>"
   ]
  },
  {
   "cell_type": "code",
   "execution_count": null,
   "id": "7de42359",
   "metadata": {},
   "outputs": [],
   "source": [
    "fav_foods = {\"Joseph\": \"pizza\", \"Adriana\": \"cake\", \"Shinhae\": \"coffee\"}\n",
    "fav_foods['Emily'] = 'chocolate'\n",
    "print('Dict is now:', fav_foods)\n",
    "print(\"Joseph's favorite food is\", fav_foods['Joseph'])\n",
    "fav_foods.pop('Emily')\n",
    "print('Dict is now:', fav_foods)\n",
    "fav_foods['Joseph'] = 'kale salad'\n",
    "print('Dict is now:', fav_foods)\n",
    "print('Dict keys are: ', fav_foods.keys())\n",
    "print('Dict values are: ', fav_foods.values())\n",
    "\n",
    "print('fav_foods before popitem():', fav_foods)\n",
    "newdic = {}\n",
    "key, val = fav_foods.popitem()\n",
    "newdic[key] = val\n",
    "key, val = fav_foods.popitem()\n",
    "newdic[key] = val\n",
    "\n",
    "print('fav_foods now:', fav_foods)\n",
    "print('Last two items are now here in reverse order:', newdic)"
   ]
  },
  {
   "cell_type": "markdown",
   "id": "bc840e0b",
   "metadata": {},
   "source": [
    "### 11.\n",
    "Explain the behavior of the code in the next cell.\n",
    "\n",
    "Discuss with your peers."
   ]
  },
  {
   "cell_type": "code",
   "execution_count": null,
   "id": "26bc713f",
   "metadata": {},
   "outputs": [],
   "source": [
    "x = range(1,12)\n",
    "print('x is', x)\n",
    "print('type of x is', type(x))\n",
    "print('x[3] is', x[3])\n",
    "\n",
    "y = list(range(1,12))\n",
    "print('y is', y)\n",
    "print('type of y is', type(y))\n",
    "print('y[3] is', y[3])\n"
   ]
  },
  {
   "cell_type": "markdown",
   "id": "54e77355",
   "metadata": {},
   "source": [
    "---------------------------\n",
    "<font face=\"verdana\" style=\"font-size:20px\" color=\"blue\"> Solution 11. </font>"
   ]
  },
  {
   "cell_type": "markdown",
   "id": "4705c8f6",
   "metadata": {},
   "source": [
    "The object returned by `range` is not a list but an iterator. 'range' object do not have the same string representation as a list. They can be typecasted into a list, however."
   ]
  },
  {
   "cell_type": "markdown",
   "id": "0358f7cd",
   "metadata": {},
   "source": [
    "### 12.\n",
    "What is the difference between these two function calls?\n",
    "\n",
    "Explain discussing with your peers."
   ]
  },
  {
   "cell_type": "code",
   "execution_count": null,
   "id": "f4ed9203",
   "metadata": {},
   "outputs": [],
   "source": [
    "print((2, 3, 4))\n",
    "print(2, 3, 4)\n",
    "\n",
    "len((2, 3, 4))\n",
    "len(2, 3, 4)"
   ]
  },
  {
   "cell_type": "markdown",
   "id": "74d70cd2",
   "metadata": {},
   "source": [
    "---------------------------\n",
    "<font face=\"verdana\" style=\"font-size:20px\" color=\"blue\"> Solution 12. </font>"
   ]
  },
  {
   "cell_type": "markdown",
   "id": "d600bdd1",
   "metadata": {},
   "source": [
    "```python\n",
    "print((2, 3, 4))   # print tuple (1, 2, 3)\n",
    "print(2, 3, 4)     # print accepts many arguments (varargs), it wil print these three numbers\n",
    "\n",
    "len((2, 3, 4))     # this is the len() of a tuple\n",
    "len(2, 3, 4)       # len() only takes one argument - This is an ERROR\n",
    "```"
   ]
  },
  {
   "cell_type": "markdown",
   "id": "d91cede8",
   "metadata": {},
   "source": [
    "### 13.\n",
    "Before fixing the code below, predict which of the following 9 statements are valid, and their oucome if so. \n",
    "\n",
    "Then fix invalid statements and run again."
   ]
  },
  {
   "cell_type": "code",
   "execution_count": null,
   "id": "37bb5d92",
   "metadata": {},
   "outputs": [],
   "source": [
    "x1 = {1: 'One', 2: 'Two', 3: 'Three'}[1]\n",
    "x2 = ['a', 'b', 'c', 'd'][2]\n",
    "x3 = 'When zombies arrive, quickly fax Judge Pat.'[:-1]\n",
    "x4 = 4 + 2^3\n",
    "x5 = [1]*2\n",
    "x6 = (1, 2, 3, 4)[::2]\n",
    "x7 = 2*0.1 == 0.2\n",
    "x8 = {1: 'Fox', 2: 'Birds', 3: 'Cats'}[-1]\n",
    "x9 = range(1:13:3)\n",
    "print(x1, x2, x3, x4, x5, x6, x7, x8, x9)"
   ]
  },
  {
   "cell_type": "markdown",
   "id": "258b456d",
   "metadata": {},
   "source": [
    "---------------------------\n",
    "<font face=\"verdana\" style=\"font-size:20px\" color=\"blue\"> Solution 13. </font>"
   ]
  },
  {
   "cell_type": "code",
   "execution_count": null,
   "id": "68c4a25a",
   "metadata": {},
   "outputs": [],
   "source": [
    "x1 = {1: 'One', 2: 'Two', 3: 'Three'}[1]\n",
    "x2 = ['a', 'b', 'c', 'd'][2]\n",
    "x3 = 'When zombies arrive, quickly fax Judge Pat.'[:-1]\n",
    "x4 = 4 + 2^3\n",
    "x5 = [1]*2\n",
    "x6 = (1, 2, 3, 4)[::2]\n",
    "x7 = 2*0.1 == 0.2\n",
    "x8 = {1: 'Fox', 2: 'Birds', 3: 'Cats'}[3]        # -1 is not a key\n",
    "x9 = range(1,13,3)                                # This requires commas\n",
    "print(x1, x2, x3, x4, x5, x6, x7, x8, x9)"
   ]
  },
  {
   "cell_type": "markdown",
   "id": "372cebad",
   "metadata": {},
   "source": [
    "### 14.\n",
    "Predict the value and type of the following variables. Describe type in plain words."
   ]
  },
  {
   "cell_type": "code",
   "execution_count": null,
   "id": "d44fedee",
   "metadata": {},
   "outputs": [],
   "source": [
    "a1 = 0b10\n",
    "a2 = 'a1'\n",
    "a3 = 0E-1\n",
    "a4 = [[]]\n",
    "a5 = None\n",
    "a6 = (1)\n",
    "a7 = {(): []}\n",
    "a8 = list()\n",
    "a9 = float()\n",
    "a10 = ('hi!',)\n",
    "a11 = 1,200.3\n",
    "# print('a1', type(a1), 'a2', type(a2), 'a3', type(a3), 'a4', type(a4), 'a5', type(a5), 'a6', type(a6))\n",
    "# print('a7', type(a7), 'a8', type(a8), 'a9', type(a9), 'a10', type(a10), 'a11', type(a11))"
   ]
  },
  {
   "cell_type": "markdown",
   "id": "484e786f",
   "metadata": {},
   "source": [
    "---------------------------\n",
    "<font face=\"verdana\" style=\"font-size:20px\" color=\"blue\"> Solution 14. </font>"
   ]
  },
  {
   "cell_type": "code",
   "execution_count": null,
   "id": "08de82c1",
   "metadata": {},
   "outputs": [],
   "source": [
    "a1 = 0b10\n",
    "a2 = 'a1'\n",
    "a3 = 0E-1\n",
    "a4 = [[]]\n",
    "a5 = None\n",
    "a6 = (1)\n",
    "a7 = {(): []}\n",
    "a8 = list()\n",
    "a9 = float()\n",
    "a10 = ('hi!',)\n",
    "a11 = 1,200.3\n",
    "print('a1', type(a1), 'a2', type(a2), 'a3', type(a3), 'a4', type(a4), 'a5', type(a5), 'a6', type(a6))\n",
    "print('a7', type(a7), 'a8', type(a8), 'a9', type(a9), 'a10', type(a10), 'a11', type(a11))"
   ]
  },
  {
   "cell_type": "markdown",
   "id": "0dc49608",
   "metadata": {},
   "source": [
    "### 15.\n",
    "What is the value of x? The value of `dico`?"
   ]
  },
  {
   "cell_type": "code",
   "execution_count": null,
   "id": "76142866",
   "metadata": {},
   "outputs": [],
   "source": [
    "dico = {'a list': [1], 'a string': '1', 'a tuple': (1)}\n",
    "dico['a dictionary'] = dico\n",
    "x = tuple(dico)"
   ]
  },
  {
   "cell_type": "markdown",
   "id": "9842878a",
   "metadata": {},
   "source": [
    "---------------------------\n",
    "<font face=\"verdana\" style=\"font-size:20px\" color=\"blue\"> Solution 15. </font>"
   ]
  },
  {
   "cell_type": "code",
   "execution_count": null,
   "id": "739482e4",
   "metadata": {},
   "outputs": [],
   "source": [
    "dico = {'a list': [1], 'a string': '1', 'a tuple': (1)}\n",
    "dico['a dictionary'] = dico\n",
    "x = tuple(dico)\n",
    "\n",
    "print('dico is a dictionary having itself:',  dico)\n",
    "print('x is a tuple of the keys:', x)"
   ]
  },
  {
   "cell_type": "markdown",
   "id": "88937266",
   "metadata": {},
   "source": [
    "### 16.\n",
    "Show two ways of creating a tuple of a single integer."
   ]
  },
  {
   "cell_type": "code",
   "execution_count": null,
   "id": "74167ae0",
   "metadata": {},
   "outputs": [],
   "source": []
  },
  {
   "cell_type": "markdown",
   "id": "fa25e481",
   "metadata": {},
   "source": [
    "---------------------------\n",
    "<font face=\"verdana\" style=\"font-size:20px\" color=\"blue\"> Solution 16. </font>"
   ]
  },
  {
   "cell_type": "code",
   "execution_count": null,
   "id": "33e54f37",
   "metadata": {},
   "outputs": [],
   "source": [
    "t1 = tuple([1])\n",
    "t2 = (4,)\n",
    "print('t1 is', t1, 'of type', type(t1), 'and len', len(t1))\n",
    "print('t2 is', t2, 'of type', type(t2), 'and len', len(t2))"
   ]
  },
  {
   "cell_type": "markdown",
   "id": "596a8674",
   "metadata": {},
   "source": [
    "### 17. \n",
    "Using the months variable in the next cell, "
   ]
  },
  {
   "cell_type": "code",
   "execution_count": null,
   "id": "17284f86",
   "metadata": {},
   "outputs": [],
   "source": [
    "months = ['January', 'February', 'March', 'April', 'May', 'June', 'July', 'August', 'September', 'October', 'November', 'December']"
   ]
  },
  {
   "cell_type": "markdown",
   "id": "026c3d8a",
   "metadata": {},
   "source": [
    "#### 17.1\n",
    "Create sublists ```summer_months``` and ```winter_months``` using slicing. For ```winter_months```, you may need to add two sublists (e.g. using append() or +)."
   ]
  },
  {
   "cell_type": "code",
   "execution_count": null,
   "id": "6059ed3c",
   "metadata": {},
   "outputs": [],
   "source": []
  },
  {
   "cell_type": "markdown",
   "id": "f1f94c6e",
   "metadata": {},
   "source": [
    "#### 17.2\n",
    "Predict the outcome of the slicing below."
   ]
  },
  {
   "cell_type": "code",
   "execution_count": null,
   "id": "8ce3dac9",
   "metadata": {},
   "outputs": [],
   "source": [
    "print(0, months)\n",
    "print(1, months[:2:])\n",
    "print(2, months[2:])\n",
    "print(3, months[::2])\n",
    "print(4, months[:])\n",
    "print(5, months[::])"
   ]
  },
  {
   "cell_type": "markdown",
   "id": "7c8862d6",
   "metadata": {},
   "source": [
    "#### 17.3\n",
    "Can you predict the output? Explain."
   ]
  },
  {
   "cell_type": "code",
   "execution_count": null,
   "id": "9e629ef2",
   "metadata": {},
   "outputs": [],
   "source": [
    "days = ['Sunday', 'Monday', 'Tuesday', 'Wednesday', 'Thursday', 'Friday', 'Saturday'],\n",
    "print(0, days)\n",
    "print(1, days[:2:])\n",
    "print(2, days[2:])\n",
    "print(3, days[::2])\n",
    "print(4, days[:])\n",
    "print(5, days[::])"
   ]
  },
  {
   "cell_type": "markdown",
   "id": "e79e3898",
   "metadata": {},
   "source": [
    "---------------------------\n",
    "<font face=\"verdana\" style=\"font-size:20px\" color=\"blue\"> Solution 17. </font>"
   ]
  },
  {
   "cell_type": "code",
   "execution_count": null,
   "id": "cee4d6cb",
   "metadata": {},
   "outputs": [],
   "source": [
    "months = ['January', 'February', 'March', 'April', 'May', 'June', 'July', 'August', 'September', 'October', 'November', 'December']\n",
    "\n",
    "summer_months = months[5:8]\n",
    "print('Summer months', summer_months)\n",
    "\n",
    "winter_months = months[-1:] + months[0:2]\n",
    "print('Winter months', winter_months)\n",
    "\n",
    "print(0, months)             # All months\n",
    "print(1, months[:2:])        # First two months\n",
    "print(2, months[2:])         # From March to the end of year\n",
    "print(3, months[::2])        # Skip one month starting from Jan\n",
    "print(4, months[:])          # All months\n",
    "print(5, months[::])         # All months"
   ]
  },
  {
   "cell_type": "code",
   "execution_count": null,
   "id": "07033d91",
   "metadata": {},
   "outputs": [],
   "source": [
    "days = ['Sunday', 'Monday', 'Tuesday', 'Wednesday', 'Thursday', 'Friday', 'Saturday'],\n",
    "print(0, days)\n",
    "print(1, days[:2:])\n",
    "print(2, days[2:])\n",
    "print(3, days[::2])\n",
    "print(4, days[:])\n",
    "print(5, days[::])"
   ]
  },
  {
   "cell_type": "markdown",
   "id": "9b489097",
   "metadata": {},
   "source": [
    "The dangling comma creates a one-tuple of a list."
   ]
  }
 ],
 "metadata": {
  "kernelspec": {
   "display_name": "Python 3 (ipykernel)",
   "language": "python",
   "name": "python3"
  },
  "language_info": {
   "codemirror_mode": {
    "name": "ipython",
    "version": 3
   },
   "file_extension": ".py",
   "mimetype": "text/x-python",
   "name": "python",
   "nbconvert_exporter": "python",
   "pygments_lexer": "ipython3",
   "version": "3.11.7"
  }
 },
 "nbformat": 4,
 "nbformat_minor": 5
}
