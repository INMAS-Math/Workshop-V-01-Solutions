{
 "cells": [
  {
   "cell_type": "markdown",
   "id": "08d3a007",
   "metadata": {
    "slideshow": {
     "slide_type": "-"
    }
   },
   "source": [
    "<img src=\"images/inmas.png\" width=130x align='right' />\n",
    "\n",
    "# Exercises 22 - Virtual Environments in Anaconda\n",
    "    \n",
    "This notebook requires that you concurrently use a terminal. Use virtual desktops if possible (e.g., Windows Key+Ctl+arrows).\n",
    "\n",
    "### Prerequisite\n",
    "Notebook 22\n",
    "\n",
    "----"
   ]
  },
  {
   "cell_type": "markdown",
   "id": "4098cea4",
   "metadata": {},
   "source": [
    "### 1.\n",
    "This exercise will create the environment needed for the next notebook on using the OpenAI API.\n",
    "\n",
    "Using a terminal and the command line, create a new environment called *chatgpt*:\n",
    "- Make sure that the environment is visible in Jupyter\n",
    "- Add the following packages: openai, playsound, and pvrecorder\n",
    "- Test if you can load these modules from an empty Jupyter Notebook "
   ]
  },
  {
   "cell_type": "markdown",
   "id": "3ecf1431",
   "metadata": {},
   "source": [
    "---------------------------------\n",
    "<font face=\"verdana\" style=\"font-size:20px\" color=\"blue\"> Solution 1. </font>   \n"
   ]
  },
  {
   "cell_type": "markdown",
   "id": "72fafa6d",
   "metadata": {},
   "source": [
    "```bash\n",
    "conda create -y -n chatgpt\n",
    "conda activate chatgpt\n",
    "conda install -y openai expat ipykernel\n",
    "pip install playsound3\n",
    "pip install pvrecorder\n",
    "conda deactivate\n",
    "```"
   ]
  },
  {
   "cell_type": "markdown",
   "id": "d6ca9afb",
   "metadata": {},
   "source": [
    "### 2.\n",
    "List two ways by which you can check if package *soundscope* is installed in\n",
    "- the base environment\n",
    "- the *chatgpt* environment you just created"
   ]
  },
  {
   "cell_type": "markdown",
   "id": "a99e81da",
   "metadata": {},
   "source": [
    "---------------------------------\n",
    "<font face=\"verdana\" style=\"font-size:20px\" color=\"blue\"> Solution 2. </font>   \n"
   ]
  },
  {
   "cell_type": "markdown",
   "id": "63771d71",
   "metadata": {},
   "source": [
    "From the command line:\n",
    "```bash\n",
    "conda list -n base soundscope\n",
    "conda list -n chatgpt soundscope\n",
    "```\n",
    "Or check navigating the environments in the Anaconda Navigator."
   ]
  },
  {
   "cell_type": "markdown",
   "id": "7f679a2a",
   "metadata": {},
   "source": [
    "### 3.\n",
    "Can you rename an environment? If so, what is the syntax?"
   ]
  },
  {
   "cell_type": "markdown",
   "id": "54f3d00e",
   "metadata": {},
   "source": [
    "---------------------------------\n",
    "<font face=\"verdana\" style=\"font-size:20px\" color=\"blue\"> Solution 3. </font>   \n"
   ]
  },
  {
   "cell_type": "markdown",
   "id": "2b9a0563",
   "metadata": {},
   "source": [
    "Yes\n",
    "```bash\n",
    "rename -n oldName newName\n",
    "```"
   ]
  }
 ],
 "metadata": {
  "celltoolbar": "Slideshow",
  "kernelspec": {
   "display_name": "Python [conda env:rise] *",
   "language": "python",
   "name": "conda-env-rise-py"
  },
  "language_info": {
   "codemirror_mode": {
    "name": "ipython",
    "version": 3
   },
   "file_extension": ".py",
   "mimetype": "text/x-python",
   "name": "python",
   "nbconvert_exporter": "python",
   "pygments_lexer": "ipython3",
   "version": "3.12.7"
  }
 },
 "nbformat": 4,
 "nbformat_minor": 5
}
