{
 "cells": [
  {
   "cell_type": "markdown",
   "id": "af4ee8a4",
   "metadata": {},
   "source": [
    "<img src=\"images/inmas.png\" width=130x align=\"right\" />\n",
    "\n",
    "# Solutions to Exercises 03 - Importing Modules\n",
    "\n",
    "\n",
    "### Prerequisite\n",
    "Notebook 03\n",
    "\n",
    "----"
   ]
  },
  {
   "cell_type": "markdown",
   "id": "21078633",
   "metadata": {},
   "source": [
    "### 1.\n",
    "\n",
    "Calculate the logarithm of 24 with base 5. "
   ]
  },
  {
   "cell_type": "code",
   "execution_count": null,
   "id": "0effc23d",
   "metadata": {},
   "outputs": [],
   "source": []
  },
  {
   "cell_type": "markdown",
   "id": "f6a9ae32",
   "metadata": {},
   "source": [
    "---------------------------------\n",
    "<font face=\"verdana\" style=\"font-size:20px\" color=\"blue\"> Solution 1. </font>   \n"
   ]
  },
  {
   "cell_type": "code",
   "execution_count": null,
   "id": "b7b37562",
   "metadata": {},
   "outputs": [],
   "source": [
    "import math as m\n",
    "print('log of 24 in base 5 is:', m.log(24, 5))"
   ]
  },
  {
   "cell_type": "markdown",
   "id": "064be971",
   "metadata": {},
   "source": [
    "### 2.\n",
    "\n",
    "Using the `math` module, calculate the ceiling of 4.5867 "
   ]
  },
  {
   "cell_type": "code",
   "execution_count": null,
   "id": "231e4524",
   "metadata": {},
   "outputs": [],
   "source": []
  },
  {
   "cell_type": "markdown",
   "id": "12a11f4b",
   "metadata": {},
   "source": [
    "---------------------------------\n",
    "<font face=\"verdana\" style=\"font-size:20px\" color=\"blue\"> Solution 2. </font>   \n"
   ]
  },
  {
   "cell_type": "code",
   "execution_count": null,
   "id": "6ba49d97",
   "metadata": {},
   "outputs": [],
   "source": [
    "# import math as m\n",
    "x = 4.5867\n",
    "print('ceiling of %f is %f'%(x, m.ceil(x)))"
   ]
  },
  {
   "cell_type": "markdown",
   "id": "c8b8a479",
   "metadata": {},
   "source": [
    "### 3.\n",
    "\n",
    "Using the `matplotlib` module,"
   ]
  },
  {
   "cell_type": "code",
   "execution_count": null,
   "id": "7b74df52",
   "metadata": {},
   "outputs": [],
   "source": [
    "import matplotlib.pyplot as plt"
   ]
  },
  {
   "cell_type": "markdown",
   "id": "ff054ec6",
   "metadata": {},
   "source": [
    "#### 3.1\n",
    "\n",
    "Plot the following lists with the `plot` function:\n",
    "```python\n",
    "x = [1, 2, 3, 4, 5]\n",
    "y = [1, 4.1, 8.9, 15.9, 25]\n",
    "```\n",
    "Hint: Use the `help` function to figure out how `plot` works, or just use Google!"
   ]
  },
  {
   "cell_type": "code",
   "execution_count": null,
   "id": "025d5793",
   "metadata": {},
   "outputs": [],
   "source": []
  },
  {
   "cell_type": "markdown",
   "id": "309b41c9",
   "metadata": {},
   "source": [
    "#### 3.2\n",
    "\n",
    "The function `plot` takes in a lot of arguments (marker, color, label). Read the docstring to see if you can plot the same lists but each point is marked by a <font color=\"green\">green</font> triangle and the line is dashed (--). "
   ]
  },
  {
   "cell_type": "code",
   "execution_count": null,
   "id": "496b250d",
   "metadata": {},
   "outputs": [],
   "source": []
  },
  {
   "cell_type": "markdown",
   "id": "3b864ca4",
   "metadata": {},
   "source": [
    "#### 3.3\n",
    "Let's add some flair to our graph. The following functions will help:\n",
    "\n",
    "* `plt.title()` \n",
    "* `plt.grid()`\n",
    "* `plt.xlabel()` and `plt.ylabel()`\n",
    "* `plt.xlim()` and `plt.ylim()`"
   ]
  },
  {
   "cell_type": "markdown",
   "id": "a2e4b0b8",
   "metadata": {},
   "source": [
    "---------------------------------\n",
    "<font face=\"verdana\" style=\"font-size:20px\" color=\"blue\"> Solution 3. </font>   \n"
   ]
  },
  {
   "cell_type": "code",
   "execution_count": null,
   "id": "df936764",
   "metadata": {},
   "outputs": [],
   "source": [
    "import matplotlib.pyplot as plt\n",
    "\n",
    "x = [1, 2, 3, 4, 5]\n",
    "y = [1, 4.1, 8.9, 15.9, 25]\n",
    "\n",
    "plt.plot(x, y, color='green', marker='^', linestyle='--')\n",
    "plt.title('A simple plot')\n",
    "plt.grid()\n",
    "plt.xlabel('$x$')\n",
    "plt.ylabel('$y$')\n",
    "plt.xlim(0, 6)\n",
    "plt.ylim(0, 30);"
   ]
  },
  {
   "cell_type": "markdown",
   "id": "6e46348d",
   "metadata": {},
   "source": [
    "### 4.\n",
    "Verify Moivre's identity stating that for any real number x and integer n it is the case that\n",
    "\n",
    "$$\n",
    "(\\cos x + i \\sin x)^n = \\cos nx + i \\sin nx .\n",
    "$$\n",
    "\n"
   ]
  },
  {
   "cell_type": "code",
   "execution_count": null,
   "id": "8bbac058",
   "metadata": {},
   "outputs": [],
   "source": []
  },
  {
   "cell_type": "markdown",
   "id": "abb3d507",
   "metadata": {},
   "source": [
    "---------------------------------\n",
    "<font face=\"verdana\" style=\"font-size:20px\" color=\"blue\"> Solution 4. </font>   \n"
   ]
  },
  {
   "cell_type": "code",
   "execution_count": null,
   "id": "2892292a",
   "metadata": {},
   "outputs": [],
   "source": [
    "import cmath as cm\n",
    "import random as r\n",
    "\n",
    "for i in range(10):\n",
    "    x = 10*r.random()\n",
    "    n = r.randint(1, 100)\n",
    "    \n",
    "    lhs = (cm.cos(x) + (0 + 1j)*cm.sin(x))**n\n",
    "    rhs = cm.cos(n*x) + (0 + 1j)*cm.sin(n*x)\n",
    "    print('For x = %f and n = %d: |lhs - rhs| = %e'%(x, n, abs(lhs-rhs)))"
   ]
  },
  {
   "cell_type": "markdown",
   "id": "f0a2eb6f",
   "metadata": {},
   "source": [
    "### 5.\n",
    "What `import` statement would allow you to call:\n",
    "1) All functions *func()* of the math module as `math.func()`?\n",
    "1) All functions *func()* from the math module as `m.func()`?\n",
    "1) Only the *sin()* and *cos()* functions as `sin()` and `cos()`?"
   ]
  },
  {
   "cell_type": "markdown",
   "id": "bbb18717",
   "metadata": {},
   "source": [
    "---------------------------------\n",
    "<font face=\"verdana\" style=\"font-size:20px\" color=\"blue\"> Solution 5. </font>   \n"
   ]
  },
  {
   "cell_type": "markdown",
   "id": "bce66f41",
   "metadata": {},
   "source": [
    "1) import math\n",
    "1) import math as m\n",
    "1) from math import sin, cos"
   ]
  }
 ],
 "metadata": {
  "kernelspec": {
   "display_name": "Python 3 (ipykernel)",
   "language": "python",
   "name": "python3"
  },
  "language_info": {
   "codemirror_mode": {
    "name": "ipython",
    "version": 3
   },
   "file_extension": ".py",
   "mimetype": "text/x-python",
   "name": "python",
   "nbconvert_exporter": "python",
   "pygments_lexer": "ipython3",
   "version": "3.11.7"
  }
 },
 "nbformat": 4,
 "nbformat_minor": 5
}
