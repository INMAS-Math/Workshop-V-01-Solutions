{
 "cells": [
  {
   "cell_type": "markdown",
   "metadata": {},
   "source": [
    "<img src=\"images/inmas.png\" width=130x align=right />\n",
    "\n",
    "# Solutions to Exercise 14 - NumPy 1 - Basics\n",
    "\n",
    "\n",
    "### Prerequisite\n",
    "Notebook 14"
   ]
  },
  {
   "cell_type": "markdown",
   "metadata": {},
   "source": [
    "### 1.\n",
    "Given"
   ]
  },
  {
   "cell_type": "code",
   "execution_count": null,
   "metadata": {},
   "outputs": [],
   "source": [
    "a = [1, 2, 3, 4, 5, 6, 7]\n",
    "v = np.array(a)"
   ]
  },
  {
   "cell_type": "markdown",
   "metadata": {},
   "source": [
    "- What is the difference between `a` and `v` above? Pause a second to understand the difference between lists and arrays.\n",
    "*Hint:* Think of memory contiguity and type of objects.\n",
    "\n",
    "- Use sys.getsizeof() and compare"
   ]
  },
  {
   "cell_type": "code",
   "execution_count": null,
   "metadata": {},
   "outputs": [],
   "source": []
  },
  {
   "cell_type": "markdown",
   "metadata": {},
   "source": [
    "---------------------------------\n",
    "<font face=\"verdana\" style=\"font-size:20px\" color=\"blue\"> Solution 1. </font>   \n"
   ]
  },
  {
   "cell_type": "markdown",
   "metadata": {},
   "source": [
    "- List objects are not necessarily contiguous in memory\n",
    "- Lists can contain object of different types: strings, lists, floats, integers, etc.\n",
    "- Operators acting on list are not always related to linear algebra"
   ]
  },
  {
   "cell_type": "code",
   "execution_count": null,
   "metadata": {},
   "outputs": [],
   "source": [
    "import sys\n",
    "import numpy as np\n",
    "a = [1, 2, 3, 4, 5, 6, 7]\n",
    "v = np.array(a)\n",
    "print('size of a is:', sys.getsizeof(a))\n",
    "print('size of v is:', sys.getsizeof(v))"
   ]
  },
  {
   "cell_type": "markdown",
   "metadata": {},
   "source": [
    "### 2.\n",
    "\n",
    "Create 2 numpy arrays representing:\n",
    "$$(2.5,4.1,6,8.2)$$\n",
    "and \n",
    "$$\\begin{pmatrix} 1 & 0 & 0 \\\\ 0 & 1 & 0 \\\\ 0 & 0 & 1 \\end{pmatrix}$$\n",
    "Check their shape and data type."
   ]
  },
  {
   "cell_type": "code",
   "execution_count": null,
   "metadata": {},
   "outputs": [],
   "source": []
  },
  {
   "cell_type": "markdown",
   "metadata": {},
   "source": [
    "---------------------------------\n",
    "<font face=\"verdana\" style=\"font-size:20px\" color=\"blue\"> Solution 2. </font>   \n"
   ]
  },
  {
   "cell_type": "code",
   "execution_count": null,
   "metadata": {},
   "outputs": [],
   "source": [
    "import numpy as np\n",
    "\n",
    "x = np.array([2.5, 4.1, 6, 8.2])\n",
    "A = np.array([[1, 0, 0], [0, 1, 0], [0, 0, 1]])\n",
    "\n",
    "print('Shape of x is:', x.shape)\n",
    "print('Shape of A is:', A.shape)"
   ]
  },
  {
   "cell_type": "markdown",
   "metadata": {},
   "source": [
    "### 3.\n",
    "\n",
    "Create a numpy array to represent \n",
    "$$\\begin{pmatrix} 1 & 2 & 3 \\\\ 4 & 5 & 6 \\\\ 7 & 8 & 9 \\end{pmatrix}$$.\n",
    "1. Print the entry $5$.\n",
    "2. Print the row $(7,8,9)$.\n",
    "3. Print the column $(1,4,7)$.\n",
    "4. Replace the value $7$ with the value $17$.\n"
   ]
  },
  {
   "cell_type": "code",
   "execution_count": null,
   "metadata": {},
   "outputs": [],
   "source": []
  },
  {
   "cell_type": "markdown",
   "metadata": {},
   "source": [
    "---------------------------------\n",
    "<font face=\"verdana\" style=\"font-size:20px\" color=\"blue\"> Solution 3. </font>   \n"
   ]
  },
  {
   "cell_type": "code",
   "execution_count": null,
   "metadata": {},
   "outputs": [],
   "source": [
    "import numpy as np\n",
    "\n",
    "A = np.array([[1, 2, 3], [4, 5, 6], [7, 8, 9]])\n",
    "print(A[1, 1])\n",
    "print(A[2, :])\n",
    "print(A[:, 0])\n",
    "A[2, 0] = 17\n",
    "print(A)"
   ]
  },
  {
   "cell_type": "markdown",
   "metadata": {},
   "source": [
    "### 4.\n",
    "Find the angle between two vectors $(1,2,3)$ and $(4,-5,6)$. *Hint:* The `dot` function computes the inner product using element-wise operation."
   ]
  },
  {
   "cell_type": "code",
   "execution_count": null,
   "metadata": {},
   "outputs": [],
   "source": []
  },
  {
   "cell_type": "markdown",
   "metadata": {},
   "source": [
    "---------------------------------\n",
    "<font face=\"verdana\" style=\"font-size:20px\" color=\"blue\"> Solution 4. </font>   \n"
   ]
  },
  {
   "cell_type": "code",
   "execution_count": null,
   "metadata": {},
   "outputs": [],
   "source": [
    "import numpy as np\n",
    "import math as m\n",
    "\n",
    "x1 = np.array([1, 2, 3])\n",
    "x2 = np.array([4, -5, 6])\n",
    "costheta = np.dot(x1, x2)/m.sqrt(np.dot(x1, x1) * np.dot(x2, x2))\n",
    "theta = m.acos(costheta)*180/m.pi\n",
    "print('angle is %r degrees'%theta)"
   ]
  },
  {
   "cell_type": "markdown",
   "metadata": {},
   "source": [
    "### 5.\n",
    "Write a matrix which rotates vectors in $\\mathbb{R}^2$ counterclockwise by $60^\\circ$. Apply it to the vectors $(1,0)$ and $(0,1)$. Check your results."
   ]
  },
  {
   "cell_type": "code",
   "execution_count": null,
   "metadata": {},
   "outputs": [],
   "source": []
  },
  {
   "cell_type": "markdown",
   "metadata": {},
   "source": [
    "---------------------------------\n",
    "<font face=\"verdana\" style=\"font-size:20px\" color=\"blue\"> Solution 5. </font>   \n"
   ]
  },
  {
   "cell_type": "code",
   "execution_count": null,
   "metadata": {},
   "outputs": [],
   "source": [
    "import math as m\n",
    "import numpy as np\n",
    "\n",
    "angle = 60*m.pi/180\n",
    "R = np.array([[m.cos(angle), -m.sin(angle)], [m.sin(angle), m.cos(angle)]])\n",
    "\n",
    "xi = np.array([1, 0])\n",
    "yi = np.array([0, 1])\n",
    "\n",
    "xr = R@xi\n",
    "yr = R@yi\n",
    "\n",
    "print('Rotated vectors are:', xr, 'and', yr)"
   ]
  },
  {
   "cell_type": "markdown",
   "metadata": {},
   "source": [
    "### 6.\n",
    "Given the nested list representation of matrix M\n",
    "```python\n",
    "M = [[1, 2, 3], [0, 1, 7], [2, 10, 1]]\n",
    "```\n",
    "Compute the inverse of M and verify that this is indeed the inverse. Which constructor and multiplication operator should you use? Check the difference between  `@` and `*`, depending if you define your matrix as `matrix` or `array`."
   ]
  },
  {
   "cell_type": "code",
   "execution_count": null,
   "metadata": {},
   "outputs": [],
   "source": []
  },
  {
   "cell_type": "markdown",
   "metadata": {},
   "source": [
    "---------------------------------\n",
    "<font face=\"verdana\" style=\"font-size:20px\" color=\"blue\"> Solution 6. </font>   \n"
   ]
  },
  {
   "cell_type": "code",
   "execution_count": null,
   "metadata": {},
   "outputs": [],
   "source": [
    "import numpy as np\n",
    "\n",
    "M = np.matrix([[1, 2, 3], [0, 1, 7], [2, 10, 1]])\n",
    "Minv = np.linalg.inv(M)\n",
    "print(type(Minv))\n",
    "# Operators @ and * are the same on matrix() objects - but not on array() objects\n",
    "I1 = Minv*M\n",
    "I2 = Minv@M\n",
    "print(I1)\n",
    "print(I2)\n",
    "\n",
    "M = np.array([[1, 2, 3], [0, 1, 7], [2, 10, 1]])\n",
    "Minv = np.linalg.inv(M)\n",
    "print(type(Minv))\n",
    "# Operators @ and * are the same on matrix() objects - but not on array() objects\n",
    "I1 = Minv*M\n",
    "I2 = Minv@M\n",
    "print(I1)\n",
    "print(I2)"
   ]
  },
  {
   "cell_type": "markdown",
   "metadata": {},
   "source": [
    "### 7.\n",
    "####  Linear regression\n",
    "In this section you will perform linear regression. Let us first generate the data for the regression."
   ]
  },
  {
   "cell_type": "code",
   "execution_count": null,
   "metadata": {},
   "outputs": [],
   "source": [
    "# 1. Generate x and y values for linear regression.\n",
    "np.random.seed(0)  # Seed the random number generator for reproducibility\n",
    "x = 2 * np.random.rand(100)\n",
    "y = 3 * x + np.random.randn(100)  # y = 3x + Gaussian noise"
   ]
  },
  {
   "cell_type": "markdown",
   "metadata": {},
   "source": [
    "Use `polyfit` to perform the regression."
   ]
  },
  {
   "cell_type": "code",
   "execution_count": null,
   "metadata": {},
   "outputs": [],
   "source": [
    "# 2. Compute the linear regression.\n",
    "..."
   ]
  },
  {
   "cell_type": "markdown",
   "metadata": {},
   "source": [
    "Run the following code to plot the resulting regression line."
   ]
  },
  {
   "cell_type": "code",
   "execution_count": null,
   "metadata": {},
   "outputs": [],
   "source": [
    "# 3. Plot the data points and the regression line.\n",
    "import matplotlib.pyplot as plt\n",
    "\n",
    "plt.scatter(x, y, color='blue', s=30, label='Data points')\n",
    "plt.plot(x, slope * x + intersect, color='red', label='Regression line', linestyle=':')\n",
    "plt.xlabel('x')\n",
    "plt.ylabel('y')\n",
    "plt.legend()\n",
    "plt.title('Linear Regression')\n",
    "plt.grid(True)\n",
    "plt.show()"
   ]
  },
  {
   "cell_type": "markdown",
   "metadata": {},
   "source": [
    "---------------------------------\n",
    "<font face=\"verdana\" style=\"font-size:20px\" color=\"blue\"> Solution 7. </font>   \n"
   ]
  },
  {
   "cell_type": "code",
   "execution_count": null,
   "metadata": {},
   "outputs": [],
   "source": [
    "import numpy as np\n",
    "\n",
    "# 1. Generate x and y values for linear regression.\n",
    "np.random.seed(0)  # Seed the random number generator for reproducibility\n",
    "x = 2 * np.random.rand(100)\n",
    "y = 3 * x + np.random.randn(100)  # y = 3x + Gaussian noise\n",
    "\n",
    "m, b = np.polyfit(x, y, 1)\n",
    "\n",
    "# 3. Plot the data points and the regression line.\n",
    "import matplotlib.pyplot as plt\n",
    "\n",
    "plt.scatter(x, y, color='blue', s=30, label='Data points')\n",
    "plt.plot(x, m * x + b, color='red', label='Regression line', linestyle=':')\n",
    "plt.xlabel('x')\n",
    "plt.ylabel('y')\n",
    "plt.legend()\n",
    "plt.title('Linear Regression')\n",
    "plt.grid(True)\n",
    "plt.show()"
   ]
  },
  {
   "cell_type": "markdown",
   "metadata": {},
   "source": [
    "### 8.*\n",
    "#### Mini-project: Adjacency matrix\n",
    "The adjacency matrix $A$ of a graph with $n$ nodes is an $n\\times n$ matrix where the entry $a_{i,j}=1$ if there is an edge between vertices $i$ and $j$ and $a_{i,j}=0$ otherwise. \n",
    "1. Write the adjacency matrix for the graph pictured below. You'll need to choose an ordering on the vertices.\n",
    "2. What does $A^2$ represent?\n",
    "3. Use the adjacency matrix to calculate the diameter of the graph. (Hint: use #2.)"
   ]
  },
  {
   "cell_type": "markdown",
   "metadata": {},
   "source": [
    "![image.png](data:image/png;base64,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)"
   ]
  },
  {
   "cell_type": "code",
   "execution_count": null,
   "metadata": {},
   "outputs": [],
   "source": []
  },
  {
   "cell_type": "markdown",
   "metadata": {},
   "source": [
    "---------------------------------\n",
    "<font face=\"verdana\" style=\"font-size:20px\" color=\"blue\"> Solution 8. </font>   \n"
   ]
  },
  {
   "cell_type": "code",
   "execution_count": null,
   "metadata": {},
   "outputs": [],
   "source": []
  }
 ],
 "metadata": {
  "kernelspec": {
   "display_name": "Python 3 (ipykernel)",
   "language": "python",
   "name": "python3"
  },
  "language_info": {
   "codemirror_mode": {
    "name": "ipython",
    "version": 3
   },
   "file_extension": ".py",
   "mimetype": "text/x-python",
   "name": "python",
   "nbconvert_exporter": "python",
   "pygments_lexer": "ipython3",
   "version": "3.11.7"
  }
 },
 "nbformat": 4,
 "nbformat_minor": 1
}
