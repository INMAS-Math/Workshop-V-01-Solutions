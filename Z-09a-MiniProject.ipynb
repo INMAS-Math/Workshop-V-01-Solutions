{
 "cells": [
  {
   "cell_type": "markdown",
   "id": "c4e678b4",
   "metadata": {},
   "source": [
    "<img src=\"images/inmas.png\" width=130x align='right' />\n",
    "\n",
    "# Solutions to Exercise 09a - Rock, Paper, Scissors\n",
    " \n",
    "\n",
    "\n",
    "### Prerequisite\n",
    "Notebook 09\n",
    "\n",
    "----"
   ]
  },
  {
   "cell_type": "markdown",
   "id": "12c6471c",
   "metadata": {},
   "source": [
    "### Instructions\n",
    "In this Notebook you will create a game: Rock, Paper, Scissors! \n",
    "\n",
    "If you’ve never played this game, here’s how it works:\n",
    "\n",
    "Each player puts one of their hands behind their back and will choose between: \n",
    "- rock (close fist)\n",
    "- paper (open hand)\n",
    "- scissors (extended index and major fingers mimicking scissors)\n",
    "    \n",
    "The rock beats scissors, the paper beats rock, and the scissors beat the paper.\n",
    "\n",
    "Create a function that asks for the user's choice using:\n",
    "- 1 for rock\n",
    "- 2 for paper\n",
    "- 3 for scissors\n",
    "- 0 to quit playing\n",
    "\n",
    "Tell the user if she/he won or lost! Keep track of scores and report on quitting. \n",
    "\n",
    "- You use the `input` function to ask the users input.\n",
    "- Use `if, elif`, and `else` statements. \n",
    "- You can `print` the the game instructions if time allows with an additional key ('h', or '?'). \n"
   ]
  },
  {
   "cell_type": "code",
   "execution_count": null,
   "id": "0a84be27",
   "metadata": {},
   "outputs": [],
   "source": [
    "\n"
   ]
  },
  {
   "cell_type": "markdown",
   "id": "41ce998f",
   "metadata": {},
   "source": [
    "---------------------------------\n",
    "<font face=\"verdana\" style=\"font-size:20px\" color=\"blue\"> Solution </font>   \n"
   ]
  },
  {
   "cell_type": "code",
   "execution_count": null,
   "id": "6de23053",
   "metadata": {},
   "outputs": [],
   "source": [
    "import random\n",
    "\n",
    "def playRockPaperScissors():\n",
    "    user, silicon = 0, 0\n",
    "    \n",
    "    while True:\n",
    "        choice = input('Enter: (1) Rock, (2) Paper, (3) Scissors, (0) to quit? [0123] ')\n",
    "        choice = int(choice)\n",
    "        if choice not in [0, 1, 2, 3]:\n",
    "            print('Wrong choice. Try again.')\n",
    "            continue\n",
    "\n",
    "        if choice == 0:\n",
    "            print('Good playing with you! Bye.')\n",
    "            print('Final score: you: %3d  computer: %3d'%(user, silicon))\n",
    "            break\n",
    "\n",
    "        computer = 1 + random.randint(0, 2)\n",
    "        print('Computer chose', ['rock', 'paper', 'scissors'][computer-1])\n",
    "        if choice == computer:\n",
    "            print('Tie! Try again.')\n",
    "        elif choice == 1:         # Rock\n",
    "            if computer == 2:     # Paper\n",
    "                print('You lose... Paper covers Rock.')\n",
    "                silicon += 1\n",
    "            else:\n",
    "                print('You win! Rock smashes scissors.')\n",
    "                user += 1\n",
    "        elif choice == 2:        # Paper\n",
    "            if computer == 3:\n",
    "                print('You lose... Scissors cut paper.')\n",
    "                computer += 1\n",
    "            else:\n",
    "                print('You win! Paper covers paper.')\n",
    "                user += 1\n",
    "        elif choice == 3:      # Scissors\n",
    "            if computer == 1:\n",
    "                print('You lose... Rock smashes scissors.')\n",
    "                silicon += 1\n",
    "            else:\n",
    "                print('You win! Scissors cut paper.')\n",
    "                user += 1\n",
    "        else:\n",
    "            print('This line should not be reached. Check code!')\n",
    "\n",
    "playRockPaperScissors()"
   ]
  }
 ],
 "metadata": {
  "kernelspec": {
   "display_name": "Python 3 (ipykernel)",
   "language": "python",
   "name": "python3"
  },
  "language_info": {
   "codemirror_mode": {
    "name": "ipython",
    "version": 3
   },
   "file_extension": ".py",
   "mimetype": "text/x-python",
   "name": "python",
   "nbconvert_exporter": "python",
   "pygments_lexer": "ipython3",
   "version": "3.11.7"
  }
 },
 "nbformat": 4,
 "nbformat_minor": 5
}
