{
 "cells": [
  {
   "cell_type": "markdown",
   "metadata": {},
   "source": [
    "<img src=\"images/inmas.png\" width=130x align='right' />\n",
    "\n",
    "# Solutions to Exercise 17 -  Visualization with Matplotlib\n",
    "\n",
    "\n",
    "### Prerequisite\n",
    "Notebook 17\n",
    "\n",
    "----"
   ]
  },
  {
   "cell_type": "markdown",
   "metadata": {},
   "source": [
    "### Housekeeping"
   ]
  },
  {
   "cell_type": "code",
   "execution_count": null,
   "metadata": {},
   "outputs": [],
   "source": [
    "import numpy as np\n",
    "import matplotlib.pyplot as plt"
   ]
  },
  {
   "cell_type": "markdown",
   "metadata": {},
   "source": [
    "### 1.1\n",
    "Given this template to get you started:"
   ]
  },
  {
   "cell_type": "code",
   "execution_count": null,
   "metadata": {},
   "outputs": [],
   "source": [
    "fig, ax1 = plt.subplots()\n",
    "n = 2\n",
    "x = np.arange(1, 101)\n",
    "y = x ** n\n",
    "ax1.scatter(x, y, color= 'purple', marker= '*')\n",
    "ax1.set_title('Scatterplot Purple Stars')\n",
    "ax1.set_xlabel('x')\n",
    "ax1.set_ylabel('y')\n",
    "ax1.set_xlim(0, 1.1*x[-1])\n",
    "_ = ax1.set_ylim(0, 1.1*y[-1])"
   ]
  },
  {
   "cell_type": "markdown",
   "metadata": {},
   "source": [
    "- Explain what the funny assignement '_ = ' doing?\n",
    "    - What is variable '\\_' to begin with?\n",
    "    - What else can be done to achieve the same result?\n",
    "- Plot 6 graphs with different markers and colors as 2 x 3 tiles\n",
    "    - Make sure the aspect ratios are preserved\n",
    "    - Each graph is a power plot of y = x^n with n = 1, 2, 3, 4, 5, 6. Mark them accordingly.\n",
    "- Change `arange` to `linspace`. Do you observe a difference in the graphs? Explain.\n",
    "- Experiment between using ylabel and legend for identifying the graphs.\n",
    "- Try pure line plots instead of scatter plots."
   ]
  },
  {
   "cell_type": "code",
   "execution_count": null,
   "metadata": {},
   "outputs": [],
   "source": []
  },
  {
   "cell_type": "markdown",
   "metadata": {},
   "source": [
    "---------------------------------\n",
    "<font face=\"verdana\" style=\"font-size:20px\" color=\"blue\"> Solution 1. </font>   \n"
   ]
  },
  {
   "cell_type": "markdown",
   "metadata": {},
   "source": [
    "Dummy variable `_` stores the returned value of the last operation. Adding a semicolon `;` makes the last command in an interactive session not be the last anymore, and its output will therefore not be printed on the terminal."
   ]
  },
  {
   "cell_type": "code",
   "execution_count": null,
   "metadata": {},
   "outputs": [],
   "source": [
    "fig, ax = plt.subplots(2, 3, figsize=(15,10))\n",
    "\n",
    "# x = np.arange(1, 101)\n",
    "x = np.linspace(1, 100)\n",
    "markers = ['.', 'o', 's', 'v', 'x', '+']\n",
    "colors = ['red', 'green', 'blue', 'purple', 'cyan', 'orange']\n",
    "for i in range(2):\n",
    "    for j in range(3):\n",
    "        n = i*3 + j + 1\n",
    "        y = x ** n\n",
    "        # ax[i][j].scatter(x, y, color=colors[n-1], marker=markers[n-1], label='$y^%d$'%n)\n",
    "        ax[i][j].plot(x, y, color=colors[n-1], label='$y^%d$'%n)\n",
    "        ax[i][j].set_xlabel('$x$')\n",
    "        ax[i][j].legend()\n",
    "\n",
    "# fig.legend()\n",
    "\n"
   ]
  },
  {
   "cell_type": "markdown",
   "metadata": {},
   "source": [
    "### 2.\n",
    "Given:"
   ]
  },
  {
   "cell_type": "code",
   "execution_count": null,
   "metadata": {},
   "outputs": [],
   "source": [
    "animals = ['Lions', 'Elephants', 'Birds', 'Sloths', 'Monkeys']\n",
    "amounts = [23, 17, 35, 29, 12]\n",
    "\n",
    "fig, ax = plt.subplots()\n",
    "ax.bar(animals, amounts)\n",
    "ax.set_title('Amount of Animals in the Zoo');"
   ]
  },
  {
   "cell_type": "markdown",
   "metadata": {},
   "source": [
    "Create an array with the colors you want each animal to have and use it to color each bar differently."
   ]
  },
  {
   "cell_type": "markdown",
   "metadata": {},
   "source": [
    "---------------------------------\n",
    "<font face=\"verdana\" style=\"font-size:20px\" color=\"blue\"> Solution 2. </font>   \n"
   ]
  },
  {
   "cell_type": "code",
   "execution_count": null,
   "metadata": {},
   "outputs": [],
   "source": [
    "import matplotlib.pyplot as plt\n",
    "\n",
    "animals = ['Lions', 'Elephants', 'Birds', 'Sloths', 'Monkeys']\n",
    "amounts = [23, 17, 35, 29, 12]\n",
    "colors= ['orange', 'purple', 'blue', 'brown', 'yellow']\n",
    "\n",
    "fig, ax = plt.subplots()\n",
    "ax.bar(animals, amounts, color=colors)\n",
    "ax.set_title('Amount of Animals in the Zoo');"
   ]
  },
  {
   "cell_type": "markdown",
   "metadata": {},
   "source": [
    "### 3.\n",
    "\n",
    "Using NuPpy, create an array that has 5 rows and 3 columns with random numbers in the interval  [30, 60).\n",
    "\n",
    "Each row represents a color and each column represents a flower:\n",
    "\n",
    "- Rows:\n",
    "  - Row 1: Orange\n",
    "  - Row 2: Purple\n",
    "  - Row 3: Green\n",
    "- Columns:\n",
    "  - Column 1: Orchids\n",
    "  - Column 2: Tulips\n",
    "  - Column 3: Daisies\n",
    "  - Column 4: Roses\n",
    "  - Column 5: Poppies\n",
    "\n",
    "Create the following plots:\n",
    "\n",
    "#### 3.1\n",
    "Make a pie chart representing the percentage of each color of flowers. Each slice should have the actual color of the flowers, i.e. the slice of percentage of orange flowers should be orange. Make sure to include title and labels.\n",
    "\n",
    "#### 3.2\n",
    "Make a bar chart to visualize the amount of flowers of each color. You should have 5 ticks in your x-axis, each with the name of the flower. Each tick should have 3 bars, each bar representing the amount of flowers with a specific color with. The color of each bar should match the color of the flower. Make sure to include title, labels, correct limits."
   ]
  },
  {
   "cell_type": "code",
   "execution_count": null,
   "metadata": {},
   "outputs": [],
   "source": []
  },
  {
   "cell_type": "markdown",
   "metadata": {},
   "source": [
    "---------------------------------\n",
    "<font face=\"verdana\" style=\"font-size:20px\" color=\"blue\"> Solution 3. </font>   \n"
   ]
  },
  {
   "cell_type": "code",
   "execution_count": null,
   "metadata": {},
   "outputs": [],
   "source": [
    "# 3.1\n",
    "import numpy as np\n",
    "import matplotlib.pyplot as plt\n",
    "\n",
    "flowers= np.random.randint(30, 60, size=(3, 5))\n",
    "print('flowers:\\n', flowers)\n",
    "\n",
    "orange_flowers = flowers[0].sum()\n",
    "purple_flowers = flowers[1].sum()\n",
    "green_flowers = flowers[2].sum()\n",
    "\n",
    "plt.pie([orange_flowers, purple_flowers, green_flowers],\n",
    "        labels=['Orange', 'Purple', 'Green'],\n",
    "        colors=['orange','purple', 'green'],\n",
    "        autopct='%1.1f%%')\n",
    "\n",
    "plt.title('Distribution of Flowers\\' Colors');"
   ]
  },
  {
   "cell_type": "code",
   "execution_count": null,
   "metadata": {},
   "outputs": [],
   "source": [
    "# 3.2\n",
    "X = np.arange(5)\n",
    "\n",
    "plt.bar(X + 0.00, flowers[0], color='orange', width=0.25, label='Orange' )\n",
    "plt.bar(X + 0.25, flowers[1], color='purple', width=0.25, label='Purple')\n",
    "plt.bar(X + 0.50, flowers[2], color='green', width=0.25, label='Green')\n",
    "\n",
    "plt.title('Flowers')\n",
    "plt.xticks(X+0.25, ('Orchids','Tulips', 'Daisies', 'Roses', 'Poppys')) \n",
    "plt.ylabel('Amount of Flowers')\n",
    "plt.legend();"
   ]
  }
 ],
 "metadata": {
  "kernelspec": {
   "display_name": "Python 3 (ipykernel)",
   "language": "python",
   "name": "python3"
  },
  "language_info": {
   "codemirror_mode": {
    "name": "ipython",
    "version": 3
   },
   "file_extension": ".py",
   "mimetype": "text/x-python",
   "name": "python",
   "nbconvert_exporter": "python",
   "pygments_lexer": "ipython3",
   "version": "3.11.7"
  }
 },
 "nbformat": 4,
 "nbformat_minor": 4
}
