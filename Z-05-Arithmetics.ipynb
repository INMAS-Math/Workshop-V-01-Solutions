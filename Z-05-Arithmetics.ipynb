{
 "cells": [
  {
   "cell_type": "markdown",
   "metadata": {},
   "source": [
    "<img align='right' src=\"images/inmas.png\" width=130x />\n",
    "\n",
    "# Solutions to Exercises 05 - Data Representation and Arithmetics\n",
    "\n",
    "\n",
    "### Prerequisite\n",
    "Notebook 05"
   ]
  },
  {
   "cell_type": "markdown",
   "metadata": {},
   "source": [
    "### 1.\n",
    "\n",
    "This exercise is meant to bring together a lot of the concepts we have discussed.\n",
    "\n",
    "We first define a function using matplotlib to plot *x*, *y* data stored in a dictionary. We will learn more about matplotlib in a future module.\n"
   ]
  },
  {
   "cell_type": "code",
   "execution_count": null,
   "metadata": {},
   "outputs": [],
   "source": [
    "def my_plotxy(d):\n",
    "    '''\n",
    "    Makes a nice plot using passed data.\n",
    "    Data d is a dictionary \n",
    "    '''\n",
    "    import matplotlib.pyplot as plt\n",
    "    \n",
    "    plt.plot(d[\"x\"], d[\"y\"])\n",
    "    plt.axis([min(d[\"x\"]), max(d[\"x\"]), 0, max(d[\"y\"]) + 1])\n",
    "    plt.ylabel('Size in memory (bytes)')\n",
    "    plt.xlabel('Steps of variable update')\n",
    "    plt.show()"
   ]
  },
  {
   "cell_type": "markdown",
   "metadata": {},
   "source": [
    "Next function builds and returns a data set in a dictionary where it stores the value of step counter \\$x\\$,\n",
    "variable \\$v_{x+1}\\$ larger than \\$v_{x}\\$ by one increment, and the memory size \\$y\\$ of \\$v_x\\$."
   ]
  },
  {
   "cell_type": "code",
   "execution_count": null,
   "metadata": {},
   "outputs": [],
   "source": [
    "import sys\n",
    "def memory_usage(var, grow, steps=10):\n",
    "    '''\n",
    "    Builds and returns data on memory usage when var is grown\n",
    "    using supplied function for given number of increase steps.\n",
    "    \n",
    "    Data is stored in a dictionary with the three values x, y, and values.\n",
    "    \n",
    "    grow(var) is a function that grows var by one increment and returns new value.\n",
    "    '''\n",
    "    d = {'x':[], 'y':[], 'v':[]}             # Dictionary for x, y data, and values\n",
    "    for i in range(steps):\n",
    "        d['v'].append(var)\n",
    "        d['x'].append(i+1)                   # Start with step 1 rather than 0\n",
    "        d['y'].append(sys.getsizeof(var))\n",
    "        var = grow(var)                      # Build a new var larger than itself by one increment\n",
    "    return d"
   ]
  },
  {
   "cell_type": "markdown",
   "metadata": {},
   "source": [
    "Let's see how a string increases by adding one character at each step."
   ]
  },
  {
   "cell_type": "code",
   "execution_count": null,
   "metadata": {},
   "outputs": [],
   "source": [
    "d = memory_usage(var='*', grow = lambda x: x + '*', steps=50)\n",
    "print('Last 3 values of var: %r' % d['v'][-3:])\n",
    "my_plotxy(d)"
   ]
  },
  {
   "cell_type": "markdown",
   "metadata": {},
   "source": [
    "Now use the same functions to plot the growth of an integer by one bit (increment = doubling it). Run for 200 steps and plot.\n",
    "\n",
    "Also print the last three values.\n",
    "\n",
    "What do you find? Explain."
   ]
  },
  {
   "cell_type": "code",
   "execution_count": null,
   "metadata": {},
   "outputs": [],
   "source": []
  },
  {
   "cell_type": "markdown",
   "metadata": {},
   "source": [
    "Repeat starting with float 1., with `grow` being a multiplication by 10 for 400 steps.\n",
    "\n",
    "- Can you predict the graph?\n",
    "- What are the last 3 values?\n",
    "- At what values of x did this happened?"
   ]
  },
  {
   "cell_type": "code",
   "execution_count": null,
   "metadata": {},
   "outputs": [],
   "source": []
  },
  {
   "cell_type": "markdown",
   "metadata": {},
   "source": [
    "---------------------------------\n",
    "<font face=\"verdana\" style=\"font-size:20px\" color=\"blue\"> Solution 1. </font>   \n"
   ]
  },
  {
   "cell_type": "code",
   "execution_count": null,
   "metadata": {},
   "outputs": [],
   "source": [
    "def my_plotxy(d):\n",
    "    '''\n",
    "    Makes a nice plot using passed data.\n",
    "    Data d is a dictionary \n",
    "    '''\n",
    "    import matplotlib.pyplot as plt\n",
    "    \n",
    "    plt.plot(d[\"x\"], d[\"y\"])\n",
    "    plt.axis([min(d[\"x\"]), max(d[\"x\"]), 0, max(d[\"y\"]) + 1])\n",
    "    plt.ylabel('Size in memory (bytes)')\n",
    "    plt.xlabel('Steps of variable update')\n",
    "    plt.show()\n",
    "\n",
    "import sys\n",
    "def memory_usage(var, grow, steps=10):\n",
    "    '''\n",
    "    Builds and returns data on memory usage when var is grown\n",
    "    using supplied function for given number of increase steps.\n",
    "    \n",
    "    Data is stored in a dictionary with the three values x, y, and values.\n",
    "    \n",
    "    grow(var) is a function that grows var by one increment and returns new value.\n",
    "    '''\n",
    "    d = {'x':[], 'y':[], 'v':[]}             # Dictionary for x, y data, and values\n",
    "    for i in range(steps):\n",
    "        d['v'].append(var)\n",
    "        d['x'].append(i+1)                   # Start with step 1 rather than 0\n",
    "        d['y'].append(sys.getsizeof(var))\n",
    "        var = grow(var)                      # Build a new var larger than itself by one increment\n",
    "    return d\n",
    "\n",
    "\n",
    "# For a string that grows by adding a character\n",
    "d = memory_usage(var='*', grow = lambda x: x + '*', steps=200)\n",
    "print('Last 3 values of var: %r' % d['v'][-3:])\n",
    "my_plotxy(d)\n",
    "\n",
    "\n",
    "# For an integer that grows by doubling - Integers adapts to size\n",
    "d = memory_usage(var=1, grow = lambda x: x*2, steps=200)\n",
    "print('Last 3 values of var: %r' % d['v'][-3:])\n",
    "my_plotxy(d)\n",
    "\n",
    "# For a float that grows by x 10 for 400 steps - Float will overflow\n",
    "d = memory_usage(var=1., grow = lambda x: x*10, steps=400)\n",
    "print('Last 3 values of var: %r' % d['v'][-3:])\n",
    "my_plotxy(d)"
   ]
  },
  {
   "cell_type": "markdown",
   "metadata": {},
   "source": [
    "### 2.\n",
    "Given the variables below\n",
    "\n",
    "- Write a function call almostEqual that takes three arguments (f1, f2, tol) and returns a Boolean\n",
    "\n",
    "$$\n",
    "|f_1 - f_2| < tol*max(abs(f_1), abs(f_2))\n",
    "$$\n",
    "\n",
    "    - Use a default argument for *tol* appropriate for your computer. Test with *z* and *w*.\n",
    "- Compare with the `isclose()` method from the math module."
   ]
  },
  {
   "cell_type": "code",
   "execution_count": null,
   "metadata": {},
   "outputs": [],
   "source": [
    "x = .2\n",
    "y = .7\n",
    "z = x + y\n",
    "w = .9\n",
    "w == z"
   ]
  },
  {
   "cell_type": "markdown",
   "metadata": {},
   "source": [
    "---------------------------------\n",
    "<font face=\"verdana\" style=\"font-size:20px\" color=\"blue\"> Solution 2. </font>   \n"
   ]
  },
  {
   "cell_type": "code",
   "execution_count": null,
   "metadata": {},
   "outputs": [],
   "source": [
    "\n",
    "def almostEqual(f1, f2, tol=1e-15):\n",
    "    '''Checks for float equality.'''\n",
    "    return abs(f1 - f2) < tol*max(abs(f1), abs(f2))\n",
    "\n",
    "x = .2\n",
    "y = .7\n",
    "z = x + y\n",
    "w = .9\n",
    "print('w == z?', w == z)\n",
    "print('w almost = z?', almostEqual(w, z))"
   ]
  }
 ],
 "metadata": {
  "kernelspec": {
   "display_name": "Python 3 (ipykernel)",
   "language": "python",
   "name": "python3"
  },
  "language_info": {
   "codemirror_mode": {
    "name": "ipython",
    "version": 3
   },
   "file_extension": ".py",
   "mimetype": "text/x-python",
   "name": "python",
   "nbconvert_exporter": "python",
   "pygments_lexer": "ipython3",
   "version": "3.11.7"
  }
 },
 "nbformat": 4,
 "nbformat_minor": 4
}
